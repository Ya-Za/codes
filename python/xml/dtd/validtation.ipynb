{
 "cells": [
  {
   "cell_type": "code",
   "execution_count": 12,
   "metadata": {
    "collapsed": true
   },
   "outputs": [],
   "source": [
    "from pprint import pprint\n",
    "from jsonschema import validate, ValidationError\n",
    "import json"
   ]
  },
  {
   "cell_type": "code",
   "execution_count": 22,
   "metadata": {
    "collapsed": false
   },
   "outputs": [
    {
     "name": "stdout",
     "output_type": "stream",
     "text": [
      "{'$schema': './js01.json', 'age': '19', 'name': 'Yasin'}\n",
      "{'$schema': 'http://json-schema.org/draft-04/schema',\n",
      " 'properties': {'age': {'type': 'number'}, 'name': {'type': 'string'}},\n",
      " 'required': ['name', 'age'],\n",
      " 'type': 'object'}\n"
     ]
    }
   ],
   "source": [
    "json_instance = json.loads(open('./ji01.json').read())\n",
    "pprint(json_instance)\n",
    "json_schema = json.loads(open('./js01.json').read())\n",
    "pprint(json_schema)"
   ]
  },
  {
   "cell_type": "code",
   "execution_count": 23,
   "metadata": {
    "collapsed": false
   },
   "outputs": [
    {
     "name": "stdout",
     "output_type": "stream",
     "text": [
      "'19' is not of type 'number'\n",
      "\n",
      "Failed validating 'type' in schema['properties']['age']:\n",
      "    {'type': 'number'}\n",
      "\n",
      "On instance['age']:\n",
      "    '19'\n"
     ]
    }
   ],
   "source": [
    "try:\n",
    "    validate(json_instance, json_schema)\n",
    "except ValidationError as err:\n",
    "    print(err)"
   ]
  },
  {
   "cell_type": "code",
   "execution_count": null,
   "metadata": {
    "collapsed": true
   },
   "outputs": [],
   "source": []
  }
 ],
 "metadata": {
  "anaconda-cloud": {},
  "kernelspec": {
   "display_name": "Python [conda root]",
   "language": "python",
   "name": "conda-root-py"
  },
  "language_info": {
   "codemirror_mode": {
    "name": "ipython",
    "version": 3
   },
   "file_extension": ".py",
   "mimetype": "text/x-python",
   "name": "python",
   "nbconvert_exporter": "python",
   "pygments_lexer": "ipython3",
   "version": "3.5.2"
  }
 },
 "nbformat": 4,
 "nbformat_minor": 1
}
