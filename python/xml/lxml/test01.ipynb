{
 "cells": [
  {
   "cell_type": "code",
   "execution_count": 2,
   "metadata": {
    "collapsed": true
   },
   "outputs": [],
   "source": [
    "from pprint import pprint\n",
    "from IPython.display import display\n",
    "from lxml import etree\n",
    "import xml.etree.ElementTree as ET\n",
    "from copy import deepcopy"
   ]
  },
  {
   "cell_type": "markdown",
   "metadata": {},
   "source": [
    "# The Element class"
   ]
  },
  {
   "cell_type": "code",
   "execution_count": 3,
   "metadata": {
    "collapsed": false
   },
   "outputs": [
    {
     "name": "stdout",
     "output_type": "stream",
     "text": [
      "root\n"
     ]
    }
   ],
   "source": [
    "root = etree.Element('root')\n",
    "print(root.tag)"
   ]
  },
  {
   "cell_type": "code",
   "execution_count": 4,
   "metadata": {
    "collapsed": true
   },
   "outputs": [],
   "source": [
    "root.append(etree.Element('child1'))"
   ]
  },
  {
   "cell_type": "code",
   "execution_count": 5,
   "metadata": {
    "collapsed": false
   },
   "outputs": [
    {
     "data": {
      "text/plain": [
       "<Element child3 at 0x2cee7a7d988>"
      ]
     },
     "execution_count": 5,
     "metadata": {},
     "output_type": "execute_result"
    }
   ],
   "source": [
    "etree.SubElement(root, 'child2')\n",
    "etree.SubElement(root, 'child3')"
   ]
  },
  {
   "cell_type": "code",
   "execution_count": 6,
   "metadata": {
    "collapsed": false
   },
   "outputs": [
    {
     "name": "stdout",
     "output_type": "stream",
     "text": [
      "b'<root>\\n  <child1/>\\n  <child2/>\\n  <child3/>\\n</root>\\n'\n"
     ]
    }
   ],
   "source": [
    "print(etree.tostring(root, pretty_print=True))"
   ]
  },
  {
   "cell_type": "code",
   "execution_count": 7,
   "metadata": {
    "collapsed": false
   },
   "outputs": [
    {
     "name": "stdout",
     "output_type": "stream",
     "text": [
      "3\n",
      "[<Element child1 at 0x2cee7aa5988>, <Element child2 at 0x2cee7aa59c8>, <Element child3 at 0x2cee7a7d988>]\n",
      "child1\n",
      "child3\n",
      "0\n",
      "child1\n",
      "child2\n",
      "child3\n",
      "child0\n"
     ]
    }
   ],
   "source": [
    "print(len(root))\n",
    "print(list(root))\n",
    "print(root[0].tag)\n",
    "print(root[-1].tag)\n",
    "print(root.index(root[0]))\n",
    "for child in root:\n",
    "    print(child.tag)\n",
    "root.insert(0, etree.Element('child0'))\n",
    "print(root[0].tag)"
   ]
  },
  {
   "cell_type": "code",
   "execution_count": 8,
   "metadata": {
    "collapsed": false
   },
   "outputs": [
    {
     "name": "stdout",
     "output_type": "stream",
     "text": [
      "root is some kind of element.\n",
      "root has children.\n"
     ]
    }
   ],
   "source": [
    "if etree.iselement(root):\n",
    "    print('root is some kind of element.')\n",
    "if len(root) != 0:\n",
    "    print('root has children.')"
   ]
  },
  {
   "cell_type": "markdown",
   "metadata": {},
   "source": [
    "## Elements are lists"
   ]
  },
  {
   "cell_type": "code",
   "execution_count": 9,
   "metadata": {
    "collapsed": false
   },
   "outputs": [
    {
     "data": {
      "text/plain": [
       "True"
      ]
     },
     "execution_count": 9,
     "metadata": {},
     "output_type": "execute_result"
    }
   ],
   "source": [
    "root is root[0].getparent()"
   ]
  },
  {
   "cell_type": "code",
   "execution_count": 10,
   "metadata": {
    "collapsed": false
   },
   "outputs": [
    {
     "name": "stdout",
     "output_type": "stream",
     "text": [
      "child0\n",
      "['child0', 'child1', 'child2', 'child3']\n"
     ]
    }
   ],
   "source": [
    "element = etree.Element('neu')\n",
    "element.append(deepcopy(root[0]))\n",
    "print(element[0].tag)\n",
    "print([c.tag for c in root])"
   ]
  },
  {
   "cell_type": "code",
   "execution_count": 11,
   "metadata": {
    "collapsed": false
   },
   "outputs": [
    {
     "name": "stdout",
     "output_type": "stream",
     "text": [
      "True\n",
      "True\n"
     ]
    }
   ],
   "source": [
    "print(root[0] is root[1].getprevious())\n",
    "print(root[1] is root[0].getnext())"
   ]
  },
  {
   "cell_type": "markdown",
   "metadata": {},
   "source": [
    "## Elements carry attributes as a dict"
   ]
  },
  {
   "cell_type": "code",
   "execution_count": 12,
   "metadata": {
    "collapsed": false
   },
   "outputs": [
    {
     "data": {
      "text/plain": [
       "b'<root interesting=\"totally\"/>'"
      ]
     },
     "execution_count": 12,
     "metadata": {},
     "output_type": "execute_result"
    }
   ],
   "source": [
    "root = etree.Element('root', interesting='totally')\n",
    "etree.tostring(root)"
   ]
  },
  {
   "cell_type": "code",
   "execution_count": 13,
   "metadata": {
    "collapsed": false
   },
   "outputs": [
    {
     "name": "stdout",
     "output_type": "stream",
     "text": [
      "totally\n"
     ]
    }
   ],
   "source": [
    "print(root.get('interesting'))"
   ]
  },
  {
   "cell_type": "code",
   "execution_count": 14,
   "metadata": {
    "collapsed": false
   },
   "outputs": [
    {
     "name": "stdout",
     "output_type": "stream",
     "text": [
      "None\n"
     ]
    }
   ],
   "source": [
    "print(root.get('hello'))"
   ]
  },
  {
   "cell_type": "code",
   "execution_count": 15,
   "metadata": {
    "collapsed": false
   },
   "outputs": [
    {
     "name": "stdout",
     "output_type": "stream",
     "text": [
      "haha\n"
     ]
    }
   ],
   "source": [
    "root.set('hello', 'haha')\n",
    "print(root.get('hello'))"
   ]
  },
  {
   "cell_type": "code",
   "execution_count": 16,
   "metadata": {
    "collapsed": false
   },
   "outputs": [
    {
     "data": {
      "text/plain": [
       "b'<root interesting=\"totally\" hello=\"haha\"/>'"
      ]
     },
     "execution_count": 16,
     "metadata": {},
     "output_type": "execute_result"
    }
   ],
   "source": [
    "etree.tostring(root)"
   ]
  },
  {
   "cell_type": "code",
   "execution_count": 17,
   "metadata": {
    "collapsed": false
   },
   "outputs": [
    {
     "name": "stdout",
     "output_type": "stream",
     "text": [
      "{'hello': 'haha', 'interesting': 'totally'}\n"
     ]
    }
   ],
   "source": [
    "attrib = dict(root.attrib)\n",
    "print(attrib)"
   ]
  },
  {
   "cell_type": "code",
   "execution_count": 18,
   "metadata": {
    "collapsed": false
   },
   "outputs": [
    {
     "name": "stdout",
     "output_type": "stream",
     "text": [
      "['interesting', 'hello']\n",
      "['totally', 'haha']\n",
      "[('interesting', 'totally'), ('hello', 'haha')]\n"
     ]
    }
   ],
   "source": [
    "print(root.keys())\n",
    "print(root.values())\n",
    "print(root.items())"
   ]
  },
  {
   "cell_type": "markdown",
   "metadata": {},
   "source": [
    "## Elements contain text"
   ]
  },
  {
   "cell_type": "code",
   "execution_count": 19,
   "metadata": {
    "collapsed": false
   },
   "outputs": [
    {
     "name": "stdout",
     "output_type": "stream",
     "text": [
      "Text\n"
     ]
    },
    {
     "data": {
      "text/plain": [
       "b'<root>Text</root>'"
      ]
     },
     "execution_count": 19,
     "metadata": {},
     "output_type": "execute_result"
    }
   ],
   "source": [
    "root = etree.Element('root')\n",
    "root.text = 'Text'\n",
    "print(root.text)\n",
    "etree.tostring(root)"
   ]
  },
  {
   "cell_type": "code",
   "execution_count": 20,
   "metadata": {
    "collapsed": false
   },
   "outputs": [
    {
     "name": "stdout",
     "output_type": "stream",
     "text": [
      "b'<html><body>Hello</body></html>'\n",
      "b'<html><body>Hello<br/></body></html>'\n",
      "b'<html><body>Hello<br/>World</body></html>'\n"
     ]
    }
   ],
   "source": [
    "html = etree.Element('html')\n",
    "body = etree.SubElement(html, 'body')\n",
    "body.text = 'Hello'\n",
    "print(etree.tostring(html))\n",
    "\n",
    "br = etree.SubElement(body, 'br')\n",
    "print(etree.tostring(html))\n",
    "\n",
    "br.tail = 'World'\n",
    "print(etree.tostring(html))"
   ]
  },
  {
   "cell_type": "code",
   "execution_count": 21,
   "metadata": {
    "collapsed": false
   },
   "outputs": [
    {
     "name": "stdout",
     "output_type": "stream",
     "text": [
      "b'<br/>World'\n",
      "b'<br/>'\n"
     ]
    }
   ],
   "source": [
    "print(etree.tostring(br))\n",
    "print(etree.tostring(br, with_tail=False))"
   ]
  },
  {
   "cell_type": "code",
   "execution_count": 22,
   "metadata": {
    "collapsed": false
   },
   "outputs": [
    {
     "name": "stdout",
     "output_type": "stream",
     "text": [
      "b'HelloWorld'\n"
     ]
    }
   ],
   "source": [
    "print(etree.tostring(html, method='text'))"
   ]
  },
  {
   "cell_type": "markdown",
   "metadata": {},
   "source": [
    "## Using XPath to find text"
   ]
  },
  {
   "cell_type": "markdown",
   "metadata": {
    "collapsed": true
   },
   "source": [
    "## Tree Iteration"
   ]
  },
  {
   "cell_type": "code",
   "execution_count": 23,
   "metadata": {
    "collapsed": false
   },
   "outputs": [
    {
     "name": "stdout",
     "output_type": "stream",
     "text": [
      "b'<root>\\n  <child>Child 1</child>\\n  <child>Child 2</child>\\n  <another>Child 3</another>\\n</root>\\n'\n"
     ]
    }
   ],
   "source": [
    "root = etree.Element('root')\n",
    "etree.SubElement(root, 'child').text = 'Child 1'\n",
    "etree.SubElement(root, 'child').text = 'Child 2'\n",
    "etree.SubElement(root, 'another').text = 'Child 3'\n",
    "print(etree.tostring(root, pretty_print=True))"
   ]
  },
  {
   "cell_type": "code",
   "execution_count": 24,
   "metadata": {
    "collapsed": false
   },
   "outputs": [
    {
     "name": "stdout",
     "output_type": "stream",
     "text": [
      "root None\n",
      "child Child 1\n",
      "child Child 2\n",
      "another Child 3\n"
     ]
    }
   ],
   "source": [
    "for element in root.iter():\n",
    "    print(element.tag, element.text)"
   ]
  },
  {
   "cell_type": "code",
   "execution_count": 25,
   "metadata": {
    "collapsed": false
   },
   "outputs": [
    {
     "name": "stdout",
     "output_type": "stream",
     "text": [
      "child Child 1\n",
      "child Child 2\n"
     ]
    }
   ],
   "source": [
    "for element in root.iter('child'):\n",
    "    print(element.tag, element.text)"
   ]
  },
  {
   "cell_type": "code",
   "execution_count": 26,
   "metadata": {
    "collapsed": false
   },
   "outputs": [
    {
     "name": "stdout",
     "output_type": "stream",
     "text": [
      "child Child 1\n",
      "child Child 2\n",
      "another Child 3\n"
     ]
    }
   ],
   "source": [
    "for element in root.iter('child', 'another'):\n",
    "    print(element.tag, element.text)"
   ]
  },
  {
   "cell_type": "code",
   "execution_count": 27,
   "metadata": {
    "collapsed": false
   },
   "outputs": [
    {
     "name": "stdout",
     "output_type": "stream",
     "text": [
      "b'<root><child>Child 1</child><child>Child 2</child><another>Child 3</another>&#123;<!--Some comment--></root>'\n"
     ]
    }
   ],
   "source": [
    "root.append(etree.Entity('#123'))\n",
    "root.append(etree.Comment('Some comment'))\n",
    "print(etree.tostring(root))"
   ]
  },
  {
   "cell_type": "code",
   "execution_count": 28,
   "metadata": {
    "collapsed": false
   },
   "outputs": [
    {
     "name": "stdout",
     "output_type": "stream",
     "text": [
      "root None\n",
      "child Child 1\n",
      "child Child 2\n",
      "another Child 3\n",
      "Special: &#123; &#123;\n",
      "Special: <!--Some comment--> Some comment\n"
     ]
    }
   ],
   "source": [
    "for item in root.iter():\n",
    "    if isinstance(item.tag, str):\n",
    "        print(item.tag, item.text)\n",
    "    else:\n",
    "        print('Special:', item, item.text)"
   ]
  },
  {
   "cell_type": "code",
   "execution_count": 29,
   "metadata": {
    "collapsed": false
   },
   "outputs": [
    {
     "name": "stdout",
     "output_type": "stream",
     "text": [
      "root None\n",
      "child Child 1\n",
      "child Child 2\n",
      "another Child 3\n"
     ]
    }
   ],
   "source": [
    "for element in root.iter(tag=etree.Element):\n",
    "    print(element.tag, element.text)"
   ]
  },
  {
   "cell_type": "markdown",
   "metadata": {},
   "source": [
    "## Serialization"
   ]
  },
  {
   "cell_type": "code",
   "execution_count": 30,
   "metadata": {
    "collapsed": false
   },
   "outputs": [
    {
     "name": "stdout",
     "output_type": "stream",
     "text": [
      "b'<root><a><b/></a></root>'\n",
      "b\"<?xml version='1.0' encoding='ASCII'?>\\n<root><a><b/></a></root>\"\n",
      "b'<root><a><b/></a></root>'\n",
      "b'<root>\\n  <a>\\n    <b/>\\n  </a>\\n</root>\\n'\n"
     ]
    }
   ],
   "source": [
    "root = etree.XML('<root><a><b/></a></root>')\n",
    "print(etree.tostring(root))\n",
    "print(etree.tostring(root, xml_declaration=True))\n",
    "print(etree.tostring(root, encoding='utf-8'))\n",
    "print(etree.tostring(root, pretty_print=True))"
   ]
  },
  {
   "cell_type": "code",
   "execution_count": 31,
   "metadata": {
    "collapsed": false
   },
   "outputs": [
    {
     "name": "stdout",
     "output_type": "stream",
     "text": [
      "b'<html><body>Hello<br>World</body></html>'\n",
      "b'HelloWorld'\n"
     ]
    }
   ],
   "source": [
    "root = etree.XML('<html><body>Hello<br/>World</body></html>')\n",
    "print(etree.tostring(root, method='html'))\n",
    "print(etree.tostring(root, method='text'))"
   ]
  },
  {
   "cell_type": "markdown",
   "metadata": {},
   "source": [
    "# The ElementTree Class"
   ]
  },
  {
   "cell_type": "code",
   "execution_count": 32,
   "metadata": {
    "collapsed": false
   },
   "outputs": [
    {
     "name": "stdout",
     "output_type": "stream",
     "text": [
      "b'<root>\\n<a>parsnips</a>\\n</root>'\n",
      "b'<!DOCTYPE root SYSTEM \"test\" [\\n<!ENTITY tasty \"parsnips\">\\n]>\\n<root>\\n<a>parsnips</a>\\n</root>'\n",
      "b'<root>\\n<a>parsnips</a>\\n</root>'\n",
      "1.0\n",
      "ISO-8859-1\n",
      "---\n",
      "URL None\n",
      "clear <built-in method clear of lxml.etree.DocInfo object at 0x000002CEE7AA7278>\n",
      "doctype <!DOCTYPE root SYSTEM \"test\">\n",
      "encoding ISO-8859-1\n",
      "externalDTD None\n",
      "internalDTD <lxml.etree.DTD object at 0x000002CEE7AC72C8>\n",
      "public_id None\n",
      "root_name root\n",
      "standalone False\n",
      "system_url test\n",
      "xml_version 1.0\n"
     ]
    }
   ],
   "source": [
    "root = etree.XML('''\\\n",
    "<?xml version=\"1.0\"?>\n",
    "<!DOCTYPE root SYSTEM \"test\" [ <!ENTITY tasty \"parsnips\"> ]>\n",
    "<root>\n",
    "<a>&tasty;</a>\n",
    "</root>''')\n",
    "print(etree.tostring(root))\n",
    "\n",
    "tree = etree.ElementTree(root)\n",
    "print(etree.tostring(tree))\n",
    "print(etree.tostring(tree.getroot()))\n",
    "\n",
    "print(tree.docinfo.xml_version)\n",
    "print(tree.docinfo.encoding)\n",
    "\n",
    "print('---')\n",
    "for p in dir(tree.docinfo):\n",
    "    if p[:2] != '__':\n",
    "        print(p, getattr(tree.docinfo, p))"
   ]
  },
  {
   "cell_type": "markdown",
   "metadata": {},
   "source": [
    "# Parsing from strings and files"
   ]
  },
  {
   "cell_type": "markdown",
   "metadata": {},
   "source": [
    "## The fromstring() function"
   ]
  },
  {
   "cell_type": "code",
   "execution_count": 33,
   "metadata": {
    "collapsed": false
   },
   "outputs": [
    {
     "name": "stdout",
     "output_type": "stream",
     "text": [
      "b'<root>data</root>'\n"
     ]
    }
   ],
   "source": [
    "root = etree.fromstring('<root>data</root>')\n",
    "print(etree.tostring(root))"
   ]
  },
  {
   "cell_type": "markdown",
   "metadata": {},
   "source": [
    "## The XML() function"
   ]
  },
  {
   "cell_type": "code",
   "execution_count": 34,
   "metadata": {
    "collapsed": false
   },
   "outputs": [
    {
     "name": "stdout",
     "output_type": "stream",
     "text": [
      "b'<root>data</root>'\n"
     ]
    }
   ],
   "source": [
    "root = etree.XML('<root>data</root>')\n",
    "print(etree.tostring(root))"
   ]
  },
  {
   "cell_type": "code",
   "execution_count": 35,
   "metadata": {
    "collapsed": false
   },
   "outputs": [
    {
     "name": "stdout",
     "output_type": "stream",
     "text": [
      "b'<html><body><p>Hello, World!</p></body></html>'\n"
     ]
    }
   ],
   "source": [
    "html = etree.HTML('<p>Hello, World!</p>')\n",
    "print(etree.tostring(html))"
   ]
  },
  {
   "cell_type": "markdown",
   "metadata": {},
   "source": [
    "## The parse() function"
   ]
  },
  {
   "cell_type": "code",
   "execution_count": 36,
   "metadata": {
    "collapsed": false
   },
   "outputs": [
    {
     "name": "stdout",
     "output_type": "stream",
     "text": [
      "b'<root>data</root>'\n",
      "b'<root>data</root>'\n"
     ]
    }
   ],
   "source": [
    "from io import BytesIO\n",
    "root = etree.parse(BytesIO(b'<root>data</root>'))\n",
    "print(etree.tostring(root))\n",
    "print(etree.tostring(root.getroot()))"
   ]
  },
  {
   "cell_type": "markdown",
   "metadata": {},
   "source": [
    "## Parser objects"
   ]
  },
  {
   "cell_type": "code",
   "execution_count": 37,
   "metadata": {
    "collapsed": false
   },
   "outputs": [
    {
     "name": "stdout",
     "output_type": "stream",
     "text": [
      "b'<root><a/><b>   </b></root>'\n"
     ]
    }
   ],
   "source": [
    "parser = etree.XMLParser(remove_blank_text=True)\n",
    "root = etree.XML('<root>   <a/>   <b>   </b>   </root>', parser)\n",
    "print(etree.tostring(root))"
   ]
  },
  {
   "cell_type": "code",
   "execution_count": 38,
   "metadata": {
    "collapsed": false
   },
   "outputs": [
    {
     "name": "stdout",
     "output_type": "stream",
     "text": [
      "b'<root><a/><b/></root>'\n"
     ]
    }
   ],
   "source": [
    "for element in root.iter('*'):\n",
    "    if element.text is not None and not element.text.strip():\n",
    "        element.text = None\n",
    "\n",
    "print(etree.tostring(root))"
   ]
  },
  {
   "cell_type": "markdown",
   "metadata": {},
   "source": [
    "## Incremental parsing"
   ]
  },
  {
   "cell_type": "code",
   "execution_count": 39,
   "metadata": {
    "collapsed": false
   },
   "outputs": [
    {
     "data": {
      "text/plain": [
       "b'<root><a/></root>'"
      ]
     },
     "execution_count": 39,
     "metadata": {},
     "output_type": "execute_result"
    }
   ],
   "source": [
    "class DataSource:\n",
    "    data = [ b\"<roo\", b\"t><\", b\"a/\", b\"><\", b\"/root>\" ]\n",
    "    def read(self, requested_size):\n",
    "        try:\n",
    "            return self.data.pop(0)\n",
    "        except IndexError:\n",
    "            return b''\n",
    "\n",
    "tree = etree.parse(DataSource())\n",
    "\n",
    "etree.tostring(tree)"
   ]
  },
  {
   "cell_type": "code",
   "execution_count": 40,
   "metadata": {
    "collapsed": false
   },
   "outputs": [
    {
     "name": "stdout",
     "output_type": "stream",
     "text": [
      "b'<root><a/></root>'\n"
     ]
    }
   ],
   "source": [
    "parser = etree.XMLParser()\n",
    "\n",
    "parser.feed('<roo')\n",
    "parser.feed('t><')\n",
    "parser.feed('a/')\n",
    "parser.feed('><')\n",
    "parser.feed('/root>')\n",
    "\n",
    "root = parser.close()\n",
    "\n",
    "print(etree.tostring(root))"
   ]
  },
  {
   "cell_type": "code",
   "execution_count": 41,
   "metadata": {
    "collapsed": false
   },
   "outputs": [
    {
     "name": "stdout",
     "output_type": "stream",
     "text": [
      "b'<root/>'\n"
     ]
    }
   ],
   "source": [
    "parser.feed('<root/>')\n",
    "root = parser.close()\n",
    "print(etree.tostring(root))"
   ]
  },
  {
   "cell_type": "markdown",
   "metadata": {},
   "source": [
    "## Event-driven parsing"
   ]
  },
  {
   "cell_type": "code",
   "execution_count": 42,
   "metadata": {
    "collapsed": false
   },
   "outputs": [
    {
     "name": "stdout",
     "output_type": "stream",
     "text": [
      "end a Data\n",
      "end root None\n"
     ]
    }
   ],
   "source": [
    "some_file_like = BytesIO(b'<root><a>Data</a></root>')\n",
    "for event, element in etree.iterparse(some_file_like):\n",
    "    print(event, element.tag, element.text)"
   ]
  },
  {
   "cell_type": "code",
   "execution_count": 43,
   "metadata": {
    "collapsed": false
   },
   "outputs": [
    {
     "name": "stdout",
     "output_type": "stream",
     "text": [
      "start root None\n",
      "start a Data\n",
      "end a Data\n",
      "end root None\n"
     ]
    }
   ],
   "source": [
    "some_file_like = BytesIO(b'<root><a>Data</a></root>')\n",
    "for event, element in etree.iterparse(some_file_like, events=('start', 'end')):\n",
    "    print(event, element.tag, element.text)"
   ]
  },
  {
   "cell_type": "code",
   "execution_count": 44,
   "metadata": {
    "collapsed": false
   },
   "outputs": [
    {
     "name": "stdout",
     "output_type": "stream",
     "text": [
      "Data\n",
      "cleaning\n",
      "None\n",
      "cleaning\n"
     ]
    }
   ],
   "source": [
    "some_file_like = BytesIO(b'<root><a><b>Data</b></a><a><b/></a></root>')\n",
    "\n",
    "for event, element in etree.iterparse(some_file_like):\n",
    "    if element.tag == 'b':\n",
    "        print(element.text)\n",
    "    elif element.tag == 'a':\n",
    "        print('cleaning')\n",
    "        element.clear()"
   ]
  },
  {
   "cell_type": "code",
   "execution_count": 45,
   "metadata": {
    "collapsed": false
   },
   "outputs": [
    {
     "name": "stdout",
     "output_type": "stream",
     "text": [
      "ABC abc\n",
      "MORE DATA more data\n",
      "XYZ xyz\n"
     ]
    }
   ],
   "source": [
    "some_file_like = BytesIO(b'''\\\n",
    "<root>\n",
    "    <a><b>ABC</b><c>abc</c></a>\n",
    "    <a><b>MORE DATA</b><c>more data</c></a>\n",
    "    <a><b>XYZ</b><c>xyz</c></a>\n",
    "</root>\n",
    "''')\n",
    "\n",
    "for _, element in etree.iterparse(some_file_like, tag='a'):\n",
    "    print(element.findtext('b'), element[1].text)\n",
    "    element.clear()"
   ]
  },
  {
   "cell_type": "markdown",
   "metadata": {
    "collapsed": true
   },
   "source": [
    "## Namespaces"
   ]
  },
  {
   "cell_type": "code",
   "execution_count": 47,
   "metadata": {
    "collapsed": false
   },
   "outputs": [
    {
     "name": "stdout",
     "output_type": "stream",
     "text": [
      "<html:html xmlns:html=\"http://www.w3.org/1999/xhtml\">\n",
      "  <html:body>Hello, World!</html:body>\n",
      "</html:html>\n",
      "\n"
     ]
    }
   ],
   "source": [
    "xhtml = etree.Element('{http://www.w3.org/1999/xhtml}html')\n",
    "etree.SubElement(xhtml, '{http://www.w3.org/1999/xhtml}body').text = 'Hello, World!'\n",
    "print(etree.tostring(xhtml, pretty_print=True).decode('utf-8'))"
   ]
  },
  {
   "cell_type": "code",
   "execution_count": 58,
   "metadata": {
    "collapsed": false
   },
   "outputs": [
    {
     "name": "stdout",
     "output_type": "stream",
     "text": [
      "<html xmlns=\"http://www.w3.org/1999/xhtml\">\n",
      "  <body>Hello, World!</body>\n",
      "</html>\n",
      "\n"
     ]
    }
   ],
   "source": [
    "XHTMLNS = 'http://www.w3.org/1999/xhtml'\n",
    "XHTML = '{{{}}}'.format(XHTMLNS)\n",
    "NSMAP = {None: XHTMLNS}\n",
    "\n",
    "xhtml = etree.Element(XHTML + 'html', nsmap=NSMAP)\n",
    "etree.SubElement(xhtml, 'body').text = 'Hello, World!'\n",
    "print(etree.tostring(xhtml, pretty_print=True).decode('utf-8'))"
   ]
  },
  {
   "cell_type": "code",
   "execution_count": 59,
   "metadata": {
    "collapsed": false
   },
   "outputs": [
    {
     "name": "stdout",
     "output_type": "stream",
     "text": [
      "http://www.w3.org/1999/xhtml\n",
      "html\n",
      "{http://www.w3.org/1999/xhtml}html\n"
     ]
    }
   ],
   "source": [
    "tag = etree.QName('http://www.w3.org/1999/xhtml', 'html')\n",
    "print(tag.namespace)\n",
    "print(tag.localname)\n",
    "print(tag.text)"
   ]
  },
  {
   "cell_type": "code",
   "execution_count": 60,
   "metadata": {
    "collapsed": false
   },
   "outputs": [
    {
     "name": "stdout",
     "output_type": "stream",
     "text": [
      "http://www.w3.org/1999/xhtml\n",
      "html\n",
      "{http://www.w3.org/1999/xhtml}html\n"
     ]
    }
   ],
   "source": [
    "tag = etree.QName('{http://www.w3.org/1999/xhtml}html')\n",
    "print(tag.namespace)\n",
    "print(tag.localname)\n",
    "print(tag.text)"
   ]
  },
  {
   "cell_type": "code",
   "execution_count": 61,
   "metadata": {
    "collapsed": false
   },
   "outputs": [
    {
     "name": "stdout",
     "output_type": "stream",
     "text": [
      "http://www.w3.org/1999/xhtml\n",
      "html\n",
      "{http://www.w3.org/1999/xhtml}html\n"
     ]
    }
   ],
   "source": [
    "root = etree.Element('{http://www.w3.org/1999/xhtml}html')\n",
    "tag = etree.QName(root)\n",
    "print(tag.namespace)\n",
    "print(tag.localname)\n",
    "print(tag.text)"
   ]
  },
  {
   "cell_type": "code",
   "execution_count": 62,
   "metadata": {
    "collapsed": false
   },
   "outputs": [
    {
     "name": "stdout",
     "output_type": "stream",
     "text": [
      "http://www.w3.org/1999/xhtml\n",
      "script\n",
      "{http://www.w3.org/1999/xhtml}script\n"
     ]
    }
   ],
   "source": [
    "tag = etree.QName(root, 'script')\n",
    "print(tag.namespace)\n",
    "print(tag.localname)\n",
    "print(tag.text)"
   ]
  },
  {
   "cell_type": "code",
   "execution_count": 63,
   "metadata": {
    "collapsed": false
   },
   "outputs": [
    {
     "name": "stdout",
     "output_type": "stream",
     "text": [
      "http://www.w3.org/1999/xhtml\n",
      "script\n",
      "{http://www.w3.org/1999/xhtml}script\n"
     ]
    }
   ],
   "source": [
    "tag = etree.QName('{http://www.w3.org/1999/xhtml}html', 'script')\n",
    "print(tag.namespace)\n",
    "print(tag.localname)\n",
    "print(tag.text)"
   ]
  },
  {
   "cell_type": "code",
   "execution_count": 64,
   "metadata": {
    "collapsed": false
   },
   "outputs": [
    {
     "data": {
      "text/plain": [
       "{None: 'http://www.w3.org/1999/xhtml'}"
      ]
     },
     "execution_count": 64,
     "metadata": {},
     "output_type": "execute_result"
    }
   ],
   "source": [
    "xhtml.nsmap"
   ]
  },
  {
   "cell_type": "code",
   "execution_count": 67,
   "metadata": {
    "collapsed": false
   },
   "outputs": [
    {
     "name": "stdout",
     "output_type": "stream",
     "text": [
      "<root xmlns:a=\"http://a\">\n",
      "  <child xmlns:b=\"http://b\"/>\n",
      "</root>\n",
      "\n",
      "{'a': 'http://a'}\n",
      "{'a': 'http://a', 'b': 'http://b'}\n"
     ]
    }
   ],
   "source": [
    "root = etree.Element('root', nsmap={'a': 'http://a'})\n",
    "child = etree.SubElement(root, 'child', nsmap={'b': 'http://b'})\n",
    "print(etree.tostring(root, pretty_print=True).decode('utf-8'))\n",
    "print(root.nsmap)\n",
    "print(child.nsmap)"
   ]
  },
  {
   "cell_type": "code",
   "execution_count": 72,
   "metadata": {
    "collapsed": false
   },
   "outputs": [
    {
     "name": "stdout",
     "output_type": "stream",
     "text": [
      "<body xmlns:html=\"http://www.w3.org/1999/xhtml\" html:bgcolor=\"#ABC\">Hello<br/>World</body>\n",
      "\n",
      "None\n",
      "#ABC\n"
     ]
    }
   ],
   "source": [
    "body.set(XHTML + 'bgcolor', '#ABC')\n",
    "print(etree.tostring(body, pretty_print=True).decode('utf-8'))\n",
    "\n",
    "print(body.get('bgcolor'))\n",
    "print(body.get(XHTML + 'bgcolor'))"
   ]
  },
  {
   "cell_type": "code",
   "execution_count": 83,
   "metadata": {
    "collapsed": false
   },
   "outputs": [
    {
     "name": "stdout",
     "output_type": "stream",
     "text": [
      "<html xmlns=\"http://www.w3.org/1999/xhtml\">\n",
      "  <body>Hello, World!</body>\n",
      "</html>\n",
      "\n",
      "---\n",
      "{http://www.w3.org/1999/xhtml}html\n",
      "body\n",
      "---\n",
      "{http://www.w3.org/1999/xhtml}html\n",
      "---\n",
      "body\n",
      "---\n",
      "body\n"
     ]
    }
   ],
   "source": [
    "print(etree.tostring(xhtml, pretty_print=True).decode('utf-8'))\n",
    "\n",
    "print('---')\n",
    "for el in xhtml.iter('*'):\n",
    "    print(el.tag)\n",
    "\n",
    "print('---')\n",
    "for el in xhtml.iter(XHTML + '*'):\n",
    "    print(el.tag)\n",
    "    \n",
    "print('---')\n",
    "for el in xhtml.iter('{*}body'):\n",
    "    print(el.tag)\n",
    "    \n",
    "print('---')\n",
    "for el in xhtml.iter('body'):\n",
    "    print(el.tag)"
   ]
  },
  {
   "cell_type": "markdown",
   "metadata": {},
   "source": [
    "# The E-factory"
   ]
  },
  {
   "cell_type": "code",
   "execution_count": 84,
   "metadata": {
    "collapsed": true
   },
   "outputs": [],
   "source": [
    "from lxml.builder import E"
   ]
  },
  {
   "cell_type": "code",
   "execution_count": 88,
   "metadata": {
    "collapsed": false
   },
   "outputs": [
    {
     "name": "stdout",
     "output_type": "stream",
     "text": [
      "<html>\n",
      "  <head>\n",
      "    <title>This is a sample document</title>\n",
      "  </head>\n",
      "</html>\n",
      "\n"
     ]
    }
   ],
   "source": [
    "html = etree.Element('html')\n",
    "head = etree.SubElement(html, 'head')\n",
    "etree.SubElement(head, 'title').text = 'This is a sample document'\n",
    "\n",
    "print(etree.tostring(html, pretty_print=True).decode('utf-8'))"
   ]
  },
  {
   "cell_type": "code",
   "execution_count": 90,
   "metadata": {
    "collapsed": false
   },
   "outputs": [
    {
     "name": "stdout",
     "output_type": "stream",
     "text": [
      "<html>\n",
      "  <head>\n",
      "    <title>This is a sample document</title>\n",
      "  </head>\n",
      "  <body>\n",
      "    <p>This is a paragraph with <b>important</b> message in it!</p>\n",
      "    <p>And this is another paragraph</p>\n",
      "  </body>\n",
      "</html>\n",
      "\n"
     ]
    }
   ],
   "source": [
    "html = E.html(\n",
    "    E.head(\n",
    "        E.title('This is a sample document')\n",
    "    ),\n",
    "    E.body(\n",
    "        E.p('This is a paragraph with ', E.b('important'), ' message in it!'),\n",
    "        etree.XML('<p>And this is another paragraph</p>')\n",
    "    )\n",
    ")\n",
    "\n",
    "print(etree.tostring(html, pretty_print=True).decode('utf-8'))"
   ]
  },
  {
   "cell_type": "markdown",
   "metadata": {},
   "source": [
    "# ElementPath"
   ]
  },
  {
   "cell_type": "code",
   "execution_count": 91,
   "metadata": {
    "collapsed": false
   },
   "outputs": [
    {
     "name": "stdout",
     "output_type": "stream",
     "text": [
      "<root>\n",
      "  <a x=\"123\">aText<b/><c/><b/></a>\n",
      "</root>\n",
      "\n"
     ]
    }
   ],
   "source": [
    "root = etree.XML(\"<root><a x='123'>aText<b/><c/><b/></a></root>\")\n",
    "print(etree.tostring(root, pretty_print=True).decode('utf-8'))"
   ]
  },
  {
   "cell_type": "code",
   "execution_count": 93,
   "metadata": {
    "collapsed": false
   },
   "outputs": [
    {
     "name": "stdout",
     "output_type": "stream",
     "text": [
      "None\n",
      "a\n"
     ]
    }
   ],
   "source": [
    "print(root.find('b'))\n",
    "print(root.find('a').tag)"
   ]
  },
  {
   "cell_type": "code",
   "execution_count": 95,
   "metadata": {
    "collapsed": false
   },
   "outputs": [
    {
     "name": "stdout",
     "output_type": "stream",
     "text": [
      "b\n",
      "['b', 'b']\n"
     ]
    }
   ],
   "source": [
    "print(root.find('.//b').tag)\n",
    "print([el.tag for el in root.iterfind('.//b')])"
   ]
  },
  {
   "cell_type": "code",
   "execution_count": 97,
   "metadata": {
    "collapsed": false
   },
   "outputs": [
    {
     "name": "stdout",
     "output_type": "stream",
     "text": [
      "a\n"
     ]
    }
   ],
   "source": [
    "print(root.findall('.//a[@x]')[0].tag)"
   ]
  },
  {
   "cell_type": "code",
   "execution_count": 104,
   "metadata": {
    "collapsed": false
   },
   "outputs": [
    {
     "name": "stdout",
     "output_type": "stream",
     "text": [
      "b\n",
      "a/b[1]\n",
      "True\n"
     ]
    }
   ],
   "source": [
    "tree = etree.ElementTree(root)\n",
    "print(root[0][0].tag)\n",
    "print(tree.getelementpath(root[0][0]))\n",
    "print(tree.find(tree.getelementpath(root[0][0])) == root[0][0])"
   ]
  },
  {
   "cell_type": "code",
   "execution_count": 105,
   "metadata": {
    "collapsed": false
   },
   "outputs": [
    {
     "name": "stdout",
     "output_type": "stream",
     "text": [
      "b\n",
      "b\n",
      "b\n"
     ]
    }
   ],
   "source": [
    "print(root.find('.//b').tag)\n",
    "print(next(root.iterfind('.//b')).tag)\n",
    "print(next(root.iter('b')).tag)"
   ]
  },
  {
   "cell_type": "code",
   "execution_count": null,
   "metadata": {
    "collapsed": true
   },
   "outputs": [],
   "source": []
  }
 ],
 "metadata": {
  "anaconda-cloud": {},
  "kernelspec": {
   "display_name": "Python [conda root]",
   "language": "python",
   "name": "conda-root-py"
  },
  "language_info": {
   "codemirror_mode": {
    "name": "ipython",
    "version": 3
   },
   "file_extension": ".py",
   "mimetype": "text/x-python",
   "name": "python",
   "nbconvert_exporter": "python",
   "pygments_lexer": "ipython3",
   "version": "3.5.2"
  }
 },
 "nbformat": 4,
 "nbformat_minor": 1
}
