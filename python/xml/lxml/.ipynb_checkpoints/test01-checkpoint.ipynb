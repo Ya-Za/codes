{
 "cells": [
  {
   "cell_type": "code",
   "execution_count": 33,
   "metadata": {
    "collapsed": true
   },
   "outputs": [],
   "source": [
    "from pprint import pprint\n",
    "from IPython.display import display\n",
    "from lxml import etree\n",
    "import xml.etree.ElementTree as ET\n",
    "from copy import deepcopy"
   ]
  },
  {
   "cell_type": "markdown",
   "metadata": {},
   "source": [
    "# The Element class"
   ]
  },
  {
   "cell_type": "code",
   "execution_count": 2,
   "metadata": {
    "collapsed": false
   },
   "outputs": [
    {
     "name": "stdout",
     "output_type": "stream",
     "text": [
      "root\n"
     ]
    }
   ],
   "source": [
    "root = etree.Element('root')\n",
    "print(root.tag)"
   ]
  },
  {
   "cell_type": "code",
   "execution_count": 3,
   "metadata": {
    "collapsed": true
   },
   "outputs": [],
   "source": [
    "root.append(etree.Element('child1'))"
   ]
  },
  {
   "cell_type": "code",
   "execution_count": 4,
   "metadata": {
    "collapsed": false
   },
   "outputs": [
    {
     "data": {
      "text/plain": [
       "<Element child3 at 0x25ee80f4d48>"
      ]
     },
     "execution_count": 4,
     "metadata": {},
     "output_type": "execute_result"
    }
   ],
   "source": [
    "etree.SubElement(root, 'child2')\n",
    "etree.SubElement(root, 'child3')"
   ]
  },
  {
   "cell_type": "code",
   "execution_count": 5,
   "metadata": {
    "collapsed": false
   },
   "outputs": [
    {
     "name": "stdout",
     "output_type": "stream",
     "text": [
      "b'<root>\\n  <child1/>\\n  <child2/>\\n  <child3/>\\n</root>\\n'\n"
     ]
    }
   ],
   "source": [
    "print(etree.tostring(root, pretty_print=True))"
   ]
  },
  {
   "cell_type": "code",
   "execution_count": 6,
   "metadata": {
    "collapsed": false
   },
   "outputs": [
    {
     "name": "stdout",
     "output_type": "stream",
     "text": [
      "3\n",
      "[<Element child1 at 0x25ee810e548>, <Element child2 at 0x25ee810e588>, <Element child3 at 0x25ee80f4d48>]\n",
      "child1\n",
      "child3\n",
      "0\n",
      "child1\n",
      "child2\n",
      "child3\n",
      "child0\n"
     ]
    }
   ],
   "source": [
    "print(len(root))\n",
    "print(list(root))\n",
    "print(root[0].tag)\n",
    "print(root[-1].tag)\n",
    "print(root.index(root[0]))\n",
    "for child in root:\n",
    "    print(child.tag)\n",
    "root.insert(0, etree.Element('child0'))\n",
    "print(root[0].tag)"
   ]
  },
  {
   "cell_type": "code",
   "execution_count": 7,
   "metadata": {
    "collapsed": false
   },
   "outputs": [
    {
     "name": "stdout",
     "output_type": "stream",
     "text": [
      "root is some kind of element.\n",
      "root has children.\n"
     ]
    }
   ],
   "source": [
    "if etree.iselement(root):\n",
    "    print('root is some kind of element.')\n",
    "if len(root) != 0:\n",
    "    print('root has children.')"
   ]
  },
  {
   "cell_type": "markdown",
   "metadata": {},
   "source": [
    "## Elements are lists"
   ]
  },
  {
   "cell_type": "code",
   "execution_count": 8,
   "metadata": {
    "collapsed": false
   },
   "outputs": [
    {
     "data": {
      "text/plain": [
       "True"
      ]
     },
     "execution_count": 8,
     "metadata": {},
     "output_type": "execute_result"
    }
   ],
   "source": [
    "root is root[0].getparent()"
   ]
  },
  {
   "cell_type": "code",
   "execution_count": 9,
   "metadata": {
    "collapsed": false
   },
   "outputs": [
    {
     "name": "stdout",
     "output_type": "stream",
     "text": [
      "child0\n",
      "['child0', 'child1', 'child2', 'child3']\n"
     ]
    }
   ],
   "source": [
    "element = etree.Element('neu')\n",
    "element.append(deepcopy(root[0]))\n",
    "print(element[0].tag)\n",
    "print([c.tag for c in root])"
   ]
  },
  {
   "cell_type": "code",
   "execution_count": 10,
   "metadata": {
    "collapsed": false
   },
   "outputs": [
    {
     "name": "stdout",
     "output_type": "stream",
     "text": [
      "True\n",
      "True\n"
     ]
    }
   ],
   "source": [
    "print(root[0] is root[1].getprevious())\n",
    "print(root[1] is root[0].getnext())"
   ]
  },
  {
   "cell_type": "markdown",
   "metadata": {},
   "source": [
    "## Elements carry attributes as a dict"
   ]
  },
  {
   "cell_type": "code",
   "execution_count": 11,
   "metadata": {
    "collapsed": false
   },
   "outputs": [
    {
     "data": {
      "text/plain": [
       "b'<root interesting=\"totally\"/>'"
      ]
     },
     "execution_count": 11,
     "metadata": {},
     "output_type": "execute_result"
    }
   ],
   "source": [
    "root = etree.Element('root', interesting='totally')\n",
    "etree.tostring(root)"
   ]
  },
  {
   "cell_type": "code",
   "execution_count": 12,
   "metadata": {
    "collapsed": false
   },
   "outputs": [
    {
     "name": "stdout",
     "output_type": "stream",
     "text": [
      "totally\n"
     ]
    }
   ],
   "source": [
    "print(root.get('interesting'))"
   ]
  },
  {
   "cell_type": "code",
   "execution_count": 13,
   "metadata": {
    "collapsed": false
   },
   "outputs": [
    {
     "name": "stdout",
     "output_type": "stream",
     "text": [
      "None\n"
     ]
    }
   ],
   "source": [
    "print(root.get('hello'))"
   ]
  },
  {
   "cell_type": "code",
   "execution_count": 14,
   "metadata": {
    "collapsed": false
   },
   "outputs": [
    {
     "name": "stdout",
     "output_type": "stream",
     "text": [
      "haha\n"
     ]
    }
   ],
   "source": [
    "root.set('hello', 'haha')\n",
    "print(root.get('hello'))"
   ]
  },
  {
   "cell_type": "code",
   "execution_count": 15,
   "metadata": {
    "collapsed": false
   },
   "outputs": [
    {
     "data": {
      "text/plain": [
       "b'<root interesting=\"totally\" hello=\"haha\"/>'"
      ]
     },
     "execution_count": 15,
     "metadata": {},
     "output_type": "execute_result"
    }
   ],
   "source": [
    "etree.tostring(root)"
   ]
  },
  {
   "cell_type": "code",
   "execution_count": 16,
   "metadata": {
    "collapsed": false
   },
   "outputs": [
    {
     "name": "stdout",
     "output_type": "stream",
     "text": [
      "{'hello': 'haha', 'interesting': 'totally'}\n"
     ]
    }
   ],
   "source": [
    "attrib = dict(root.attrib)\n",
    "print(attrib)"
   ]
  },
  {
   "cell_type": "code",
   "execution_count": 17,
   "metadata": {
    "collapsed": false
   },
   "outputs": [
    {
     "name": "stdout",
     "output_type": "stream",
     "text": [
      "['interesting', 'hello']\n",
      "['totally', 'haha']\n",
      "[('interesting', 'totally'), ('hello', 'haha')]\n"
     ]
    }
   ],
   "source": [
    "print(root.keys())\n",
    "print(root.values())\n",
    "print(root.items())"
   ]
  },
  {
   "cell_type": "markdown",
   "metadata": {},
   "source": [
    "## Elements contain text"
   ]
  },
  {
   "cell_type": "code",
   "execution_count": 18,
   "metadata": {
    "collapsed": false
   },
   "outputs": [
    {
     "name": "stdout",
     "output_type": "stream",
     "text": [
      "Text\n"
     ]
    },
    {
     "data": {
      "text/plain": [
       "b'<root>Text</root>'"
      ]
     },
     "execution_count": 18,
     "metadata": {},
     "output_type": "execute_result"
    }
   ],
   "source": [
    "root = etree.Element('root')\n",
    "root.text = 'Text'\n",
    "print(root.text)\n",
    "etree.tostring(root)"
   ]
  },
  {
   "cell_type": "code",
   "execution_count": 19,
   "metadata": {
    "collapsed": false
   },
   "outputs": [
    {
     "name": "stdout",
     "output_type": "stream",
     "text": [
      "b'<html><body>Hello</body></html>'\n",
      "b'<html><body>Hello<br/></body></html>'\n",
      "b'<html><body>Hello<br/>World</body></html>'\n"
     ]
    }
   ],
   "source": [
    "html = etree.Element('html')\n",
    "body = etree.SubElement(html, 'body')\n",
    "body.text = 'Hello'\n",
    "print(etree.tostring(html))\n",
    "\n",
    "br = etree.SubElement(body, 'br')\n",
    "print(etree.tostring(html))\n",
    "\n",
    "br.tail = 'World'\n",
    "print(etree.tostring(html))"
   ]
  },
  {
   "cell_type": "code",
   "execution_count": 20,
   "metadata": {
    "collapsed": false
   },
   "outputs": [
    {
     "name": "stdout",
     "output_type": "stream",
     "text": [
      "b'<br/>World'\n",
      "b'<br/>'\n"
     ]
    }
   ],
   "source": [
    "print(etree.tostring(br))\n",
    "print(etree.tostring(br, with_tail=False))"
   ]
  },
  {
   "cell_type": "code",
   "execution_count": 21,
   "metadata": {
    "collapsed": false
   },
   "outputs": [
    {
     "name": "stdout",
     "output_type": "stream",
     "text": [
      "b'HelloWorld'\n"
     ]
    }
   ],
   "source": [
    "print(etree.tostring(html, method='text'))"
   ]
  },
  {
   "cell_type": "markdown",
   "metadata": {},
   "source": [
    "## Using XPath to find text"
   ]
  },
  {
   "cell_type": "markdown",
   "metadata": {
    "collapsed": true
   },
   "source": [
    "## Tree Iteration"
   ]
  },
  {
   "cell_type": "code",
   "execution_count": 24,
   "metadata": {
    "collapsed": false
   },
   "outputs": [
    {
     "name": "stdout",
     "output_type": "stream",
     "text": [
      "b'<root>\\n  <child>Child 1</child>\\n  <child>Child 2</child>\\n  <another>Child 3</another>\\n</root>\\n'\n"
     ]
    }
   ],
   "source": [
    "root = etree.Element('root')\n",
    "etree.SubElement(root, 'child').text = 'Child 1'\n",
    "etree.SubElement(root, 'child').text = 'Child 2'\n",
    "etree.SubElement(root, 'another').text = 'Child 3'\n",
    "print(etree.tostring(root, pretty_print=True))"
   ]
  },
  {
   "cell_type": "code",
   "execution_count": 26,
   "metadata": {
    "collapsed": false
   },
   "outputs": [
    {
     "name": "stdout",
     "output_type": "stream",
     "text": [
      "root None\n",
      "child Child 1\n",
      "child Child 2\n",
      "another Child 3\n"
     ]
    }
   ],
   "source": [
    "for element in root.iter():\n",
    "    print(element.tag, element.text)"
   ]
  },
  {
   "cell_type": "code",
   "execution_count": 27,
   "metadata": {
    "collapsed": false
   },
   "outputs": [
    {
     "name": "stdout",
     "output_type": "stream",
     "text": [
      "child Child 1\n",
      "child Child 2\n"
     ]
    }
   ],
   "source": [
    "for element in root.iter('child'):\n",
    "    print(element.tag, element.text)"
   ]
  },
  {
   "cell_type": "code",
   "execution_count": 28,
   "metadata": {
    "collapsed": false
   },
   "outputs": [
    {
     "name": "stdout",
     "output_type": "stream",
     "text": [
      "child Child 1\n",
      "child Child 2\n",
      "another Child 3\n"
     ]
    }
   ],
   "source": [
    "for element in root.iter('child', 'another'):\n",
    "    print(element.tag, element.text)"
   ]
  },
  {
   "cell_type": "code",
   "execution_count": 29,
   "metadata": {
    "collapsed": false
   },
   "outputs": [
    {
     "name": "stdout",
     "output_type": "stream",
     "text": [
      "b'<root><child>Child 1</child><child>Child 2</child><another>Child 3</another>&#123;<!--Some comment--></root>'\n"
     ]
    }
   ],
   "source": [
    "root.append(etree.Entity('#123'))\n",
    "root.append(etree.Comment('Some comment'))\n",
    "print(etree.tostring(root))"
   ]
  },
  {
   "cell_type": "code",
   "execution_count": 30,
   "metadata": {
    "collapsed": false
   },
   "outputs": [
    {
     "name": "stdout",
     "output_type": "stream",
     "text": [
      "root None\n",
      "child Child 1\n",
      "child Child 2\n",
      "another Child 3\n",
      "Special: &#123; &#123;\n",
      "Special: <!--Some comment--> Some comment\n"
     ]
    }
   ],
   "source": [
    "for item in root.iter():\n",
    "    if isinstance(item.tag, str):\n",
    "        print(item.tag, item.text)\n",
    "    else:\n",
    "        print('Special:', item, item.text)"
   ]
  },
  {
   "cell_type": "code",
   "execution_count": 31,
   "metadata": {
    "collapsed": false
   },
   "outputs": [
    {
     "name": "stdout",
     "output_type": "stream",
     "text": [
      "root None\n",
      "child Child 1\n",
      "child Child 2\n",
      "another Child 3\n"
     ]
    }
   ],
   "source": [
    "for element in root.iter(tag=etree.Element):\n",
    "    print(element.tag, element.text)"
   ]
  },
  {
   "cell_type": "markdown",
   "metadata": {},
   "source": [
    "## Serialization"
   ]
  },
  {
   "cell_type": "code",
   "execution_count": 36,
   "metadata": {
    "collapsed": false
   },
   "outputs": [
    {
     "name": "stdout",
     "output_type": "stream",
     "text": [
      "b'<root><a><b/></a></root>'\n",
      "b\"<?xml version='1.0' encoding='ASCII'?>\\n<root><a><b/></a></root>\"\n",
      "b'<root><a><b/></a></root>'\n",
      "b'<root>\\n  <a>\\n    <b/>\\n  </a>\\n</root>\\n'\n"
     ]
    }
   ],
   "source": [
    "root = etree.XML('<root><a><b/></a></root>')\n",
    "print(etree.tostring(root))\n",
    "print(etree.tostring(root, xml_declaration=True))\n",
    "print(etree.tostring(root, encoding='utf-8'))\n",
    "print(etree.tostring(root, pretty_print=True))"
   ]
  },
  {
   "cell_type": "code",
   "execution_count": 38,
   "metadata": {
    "collapsed": false
   },
   "outputs": [
    {
     "name": "stdout",
     "output_type": "stream",
     "text": [
      "b'<html><body>Hello<br>World</body></html>'\n",
      "b'HelloWorld'\n"
     ]
    }
   ],
   "source": [
    "root = etree.XML('<html><body>Hello<br/>World</body></html>')\n",
    "print(etree.tostring(root, method='html'))\n",
    "print(etree.tostring(root, method='text'))"
   ]
  },
  {
   "cell_type": "markdown",
   "metadata": {},
   "source": [
    "# The ElementTree Class"
   ]
  },
  {
   "cell_type": "code",
   "execution_count": 61,
   "metadata": {
    "collapsed": false
   },
   "outputs": [
    {
     "name": "stdout",
     "output_type": "stream",
     "text": [
      "b'<root>\\n<a>parsnips</a>\\n</root>'\n",
      "b'<!DOCTYPE root SYSTEM \"test\" [\\n<!ENTITY tasty \"parsnips\">\\n]>\\n<root>\\n<a>parsnips</a>\\n</root>'\n",
      "b'<root>\\n<a>parsnips</a>\\n</root>'\n",
      "1.0\n",
      "ISO-8859-1\n",
      "---\n",
      "URL None\n",
      "clear <built-in method clear of lxml.etree.DocInfo object at 0x0000025EE80E4470>\n",
      "doctype <!DOCTYPE root SYSTEM \"test\">\n",
      "encoding ISO-8859-1\n",
      "externalDTD None\n",
      "internalDTD <lxml.etree.DTD object at 0x0000025EE81B7588>\n",
      "public_id None\n",
      "root_name root\n",
      "standalone False\n",
      "system_url test\n",
      "xml_version 1.0\n"
     ]
    }
   ],
   "source": [
    "root = etree.XML('''\\\n",
    "<?xml version=\"1.0\"?>\n",
    "<!DOCTYPE root SYSTEM \"test\" [ <!ENTITY tasty \"parsnips\"> ]>\n",
    "<root>\n",
    "<a>&tasty;</a>\n",
    "</root>''')\n",
    "print(etree.tostring(root))\n",
    "\n",
    "tree = etree.ElementTree(root)\n",
    "print(etree.tostring(tree))\n",
    "print(etree.tostring(tree.getroot()))\n",
    "\n",
    "print(tree.docinfo.xml_version)\n",
    "print(tree.docinfo.encoding)\n",
    "\n",
    "print('---')\n",
    "for p in dir(tree.docinfo):\n",
    "    if p[:2] != '__':\n",
    "        print(p, getattr(tree.docinfo, p))"
   ]
  },
  {
   "cell_type": "markdown",
   "metadata": {},
   "source": [
    "# Parsing from strings and files"
   ]
  },
  {
   "cell_type": "code",
   "execution_count": null,
   "metadata": {
    "collapsed": true
   },
   "outputs": [],
   "source": []
  }
 ],
 "metadata": {
  "anaconda-cloud": {},
  "kernelspec": {
   "display_name": "Python [conda root]",
   "language": "python",
   "name": "conda-root-py"
  },
  "language_info": {
   "codemirror_mode": {
    "name": "ipython",
    "version": 3
   },
   "file_extension": ".py",
   "mimetype": "text/x-python",
   "name": "python",
   "nbconvert_exporter": "python",
   "pygments_lexer": "ipython3",
   "version": "3.5.2"
  }
 },
 "nbformat": 4,
 "nbformat_minor": 1
}
