{
 "cells": [
  {
   "cell_type": "code",
   "execution_count": 1,
   "metadata": {
    "collapsed": true
   },
   "outputs": [],
   "source": [
    "import re"
   ]
  },
  {
   "cell_type": "code",
   "execution_count": 24,
   "metadata": {
    "collapsed": false
   },
   "outputs": [
    {
     "name": "stdout",
     "output_type": "stream",
     "text": [
      "<h1>yasin</h1>\n",
      "## yasin\n"
     ]
    }
   ],
   "source": [
    "text = \"# yasin\\n## yasin\"\n",
    "pattern = r'^# (.+)'\n",
    "\n",
    "def repl(m):\n",
    "    return '<h1>{}</h1>'.format(m.group(1))\n",
    "\n",
    "text = re.sub(pattern, repl, text)\n",
    "print(text)"
   ]
  },
  {
   "cell_type": "code",
   "execution_count": 34,
   "metadata": {
    "collapsed": false
   },
   "outputs": [
    {
     "name": "stdout",
     "output_type": "stream",
     "text": [
      "#######   yasin\n"
     ]
    }
   ],
   "source": [
    "text = \"#######   yasin\"\n",
    "\n",
    "for i in range(1, 7):\n",
    "    hash_sequence = '#' * i\n",
    "    pattern = r'^{}\\s+(.+)'.format(hash_sequence)\n",
    "    \n",
    "    text = re.sub(\\\n",
    "        pattern,\\\n",
    "        lambda m: '<h{0}>{1}</h{0}>'.format(i, m.group(1)),\\\n",
    "        text\\\n",
    "    )\n",
    "\n",
    "print(text)"
   ]
  },
  {
   "cell_type": "code",
   "execution_count": 8,
   "metadata": {
    "collapsed": false
   },
   "outputs": [
    {
     "name": "stdout",
     "output_type": "stream",
     "text": [
      "###\n"
     ]
    }
   ],
   "source": [
    "a = '#' * 3\n",
    "print(a)"
   ]
  },
  {
   "cell_type": "code",
   "execution_count": null,
   "metadata": {
    "collapsed": true
   },
   "outputs": [],
   "source": []
  }
 ],
 "metadata": {
  "kernelspec": {
   "display_name": "Python [conda root]",
   "language": "python",
   "name": "conda-root-py"
  },
  "language_info": {
   "codemirror_mode": {
    "name": "ipython",
    "version": 3
   },
   "file_extension": ".py",
   "mimetype": "text/x-python",
   "name": "python",
   "nbconvert_exporter": "python",
   "pygments_lexer": "ipython3",
   "version": "3.5.2"
  }
 },
 "nbformat": 4,
 "nbformat_minor": 1
}
