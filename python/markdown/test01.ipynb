{
 "cells": [
  {
   "cell_type": "code",
   "execution_count": 8,
   "metadata": {
    "collapsed": true
   },
   "outputs": [],
   "source": [
    "import re\n",
    "from pprint import pprint"
   ]
  },
  {
   "cell_type": "code",
   "execution_count": 96,
   "metadata": {
    "collapsed": false
   },
   "outputs": [
    {
     "name": "stdout",
     "output_type": "stream",
     "text": [
      "'<h1>heading1</h1>'\n"
     ]
    }
   ],
   "source": [
    "text = \"# heading1  ## \"\n",
    "\n",
    "for i in range(1, 7):\n",
    "    hash_sequence = '#' * i\n",
    "    \n",
    "    pattern = r'^{} .*([ \\t]+#+[ \\t]*)$'.format(hash_sequence)\n",
    "    text = re.sub(\\\n",
    "        re.compile(pattern, re.MULTILINE),\\\n",
    "        lambda m: m.group(0)[:m.start(1)],\\\n",
    "        text\\\n",
    "    )\n",
    "    \n",
    "    pattern = r'^{}[ \\t]+(.+[^ \\t])[ \\t]*$'.format(hash_sequence)\n",
    "    \n",
    "    text = re.sub(\\\n",
    "        re.compile(pattern, re.MULTILINE),\\\n",
    "        lambda m: '<h{0}>{1}</h{0}>'.format(i, m.group(1)),\\\n",
    "        text\\\n",
    "    )\n",
    "\n",
    "pprint(text)"
   ]
  },
  {
   "cell_type": "code",
   "execution_count": 8,
   "metadata": {
    "collapsed": false
   },
   "outputs": [
    {
     "name": "stdout",
     "output_type": "stream",
     "text": [
      "###\n"
     ]
    }
   ],
   "source": [
    "a = '#' * 3\n",
    "print(a)"
   ]
  },
  {
   "cell_type": "code",
   "execution_count": 60,
   "metadata": {
    "collapsed": false
   },
   "outputs": [
    {
     "name": "stdout",
     "output_type": "stream",
     "text": [
      "<strong><em>yasin</em></strong>\n"
     ]
    }
   ],
   "source": [
    "replacements = {\n",
    "    '\\*' : 'em',\n",
    "    '\\*\\*' : 'strong',\n",
    "    '`' : 'code'\n",
    "}\n",
    "text = '***yasin***'\n",
    "for key, value in replacements.items():\n",
    "    pattern = r'{0}(.+){0}'.format(key)\n",
    "    text = re.sub(\\\n",
    "        pattern,\\\n",
    "        lambda m: '<{0}>{1}</{0}>'.format(value, m.group(1)),\\\n",
    "        text\\\n",
    "    )\n",
    "print(text)"
   ]
  },
  {
   "cell_type": "code",
   "execution_count": 87,
   "metadata": {
    "collapsed": false
   },
   "outputs": [
    {
     "name": "stdout",
     "output_type": "stream",
     "text": [
      "<_sre.SRE_Match object; span=(0, 9), match='ali yasin'>\n",
      "4\n"
     ]
    }
   ],
   "source": [
    "text = 'ali yasin'\n",
    "pattern = 'ali (yasin)'\n",
    "m = re.search(pattern, text, re.MULTILINE)\n",
    "pprint(m)\n",
    "pprint(m.start(1))"
   ]
  },
  {
   "cell_type": "code",
   "execution_count": null,
   "metadata": {
    "collapsed": true
   },
   "outputs": [],
   "source": []
  }
 ],
 "metadata": {
  "anaconda-cloud": {},
  "kernelspec": {
   "display_name": "Python [conda root]",
   "language": "python",
   "name": "conda-root-py"
  },
  "language_info": {
   "codemirror_mode": {
    "name": "ipython",
    "version": 3
   },
   "file_extension": ".py",
   "mimetype": "text/x-python",
   "name": "python",
   "nbconvert_exporter": "python",
   "pygments_lexer": "ipython3",
   "version": "3.5.2"
  }
 },
 "nbformat": 4,
 "nbformat_minor": 1
}
