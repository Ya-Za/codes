{
 "cells": [
  {
   "cell_type": "code",
   "execution_count": 8,
   "metadata": {
    "collapsed": true
   },
   "outputs": [],
   "source": [
    "import re\n",
    "from pprint import pprint"
   ]
  },
  {
   "cell_type": "code",
   "execution_count": 96,
   "metadata": {
    "collapsed": false
   },
   "outputs": [
    {
     "name": "stdout",
     "output_type": "stream",
     "text": [
      "'<h1>heading1</h1>'\n"
     ]
    }
   ],
   "source": [
    "text = \"# heading1  ## \"\n",
    "\n",
    "for i in range(1, 7):\n",
    "    hash_sequence = '#' * i\n",
    "    \n",
    "    pattern = r'^{} .*([ \\t]+#+[ \\t]*)$'.format(hash_sequence)\n",
    "    text = re.sub(\\\n",
    "        re.compile(pattern, re.MULTILINE),\\\n",
    "        lambda m: m.group(0)[:m.start(1)],\\\n",
    "        text\\\n",
    "    )\n",
    "    \n",
    "    pattern = r'^{}[ \\t]+(.+[^ \\t])[ \\t]*$'.format(hash_sequence)\n",
    "    \n",
    "    text = re.sub(\\\n",
    "        re.compile(pattern, re.MULTILINE),\\\n",
    "        lambda m: '<h{0}>{1}</h{0}>'.format(i, m.group(1)),\\\n",
    "        text\\\n",
    "    )\n",
    "\n",
    "pprint(text)"
   ]
  },
  {
   "cell_type": "code",
   "execution_count": 8,
   "metadata": {
    "collapsed": false
   },
   "outputs": [
    {
     "name": "stdout",
     "output_type": "stream",
     "text": [
      "###\n"
     ]
    }
   ],
   "source": [
    "a = '#' * 3\n",
    "print(a)"
   ]
  },
  {
   "cell_type": "code",
   "execution_count": 60,
   "metadata": {
    "collapsed": false
   },
   "outputs": [
    {
     "name": "stdout",
     "output_type": "stream",
     "text": [
      "<strong><em>yasin</em></strong>\n"
     ]
    }
   ],
   "source": [
    "replacements = {\n",
    "    '\\*' : 'em',\n",
    "    '\\*\\*' : 'strong',\n",
    "    '`' : 'code'\n",
    "}\n",
    "text = '***yasin***'\n",
    "for key, value in replacements.items():\n",
    "    pattern = r'{0}(.+){0}'.format(key)\n",
    "    text = re.sub(\\\n",
    "        pattern,\\\n",
    "        lambda m: '<{0}>{1}</{0}>'.format(value, m.group(1)),\\\n",
    "        text\\\n",
    "    )\n",
    "print(text)"
   ]
  },
  {
   "cell_type": "code",
   "execution_count": 130,
   "metadata": {
    "collapsed": false
   },
   "outputs": [
    {
     "name": "stdout",
     "output_type": "stream",
     "text": [
      "'site1'\n",
      "'www.google.com'\n",
      "'google'\n",
      "'yasin \\n'\n"
     ]
    }
   ],
   "source": [
    "text = 'yasin \\n[site1]: www.google.com \"google\"'\n",
    "pattern =\\\n",
    "r\"\"\"\n",
    "    ^[ \\t]*                 # optional spaces at the begining\n",
    "    \\[(?P<ref>.+)\\]:        # 'ref' group\n",
    "    [ \\t]+                  # spaces\n",
    "    (?P<url>\\S+)            # 'url' group\n",
    "    [ \\t]+                  # spaces\n",
    "    (?:\"(?P<title>.+)\")?    # optional 'title' group\n",
    "    [ \\t]*$                 # optional spaces at the end\n",
    "\"\"\"\n",
    "for m in re.finditer(pattern, text, re.MULTILINE | re.VERBOSE):\n",
    "    pprint(m.group('ref'))\n",
    "    pprint(m.group('url'))\n",
    "    pprint(m.group('title'))\n",
    "    \n",
    "text = re.sub(\\\n",
    "    re.compile(pattern, re.MULTILINE | re.VERBOSE),\\\n",
    "    '',\\\n",
    "    text\\\n",
    ")\n",
    "\n",
    "pprint(text)"
   ]
  },
  {
   "cell_type": "markdown",
   "metadata": {},
   "source": [
    "## Links"
   ]
  },
  {
   "cell_type": "code",
   "execution_count": 133,
   "metadata": {
    "collapsed": false
   },
   "outputs": [
    {
     "name": "stdout",
     "output_type": "stream",
     "text": [
      "'text <a href=\"www.google.com\">link</a> text'\n"
     ]
    }
   ],
   "source": [
    "text = 'text [link](www.google.com) text'\n",
    "pattern =\\\n",
    "r\"\"\"\n",
    "    \\[(?P<link>.+)\\]        # 'ref' group\n",
    "    \\((?P<url>\\S+)\\)        # 'url' group\n",
    "\"\"\"\n",
    "\n",
    "text = re.sub(\\\n",
    "    re.compile(pattern, re.MULTILINE | re.VERBOSE),\\\n",
    "    lambda m: '<a href=\"{}\">{}</a>'.format(m.group('url'), m.group('link')),\\\n",
    "    text\\\n",
    ")\n",
    "\n",
    "pprint(text)"
   ]
  },
  {
   "cell_type": "markdown",
   "metadata": {},
   "source": [
    "## Images"
   ]
  },
  {
   "cell_type": "code",
   "execution_count": 134,
   "metadata": {
    "collapsed": false
   },
   "outputs": [
    {
     "name": "stdout",
     "output_type": "stream",
     "text": [
      "'text <img alt=\"description\" src=\"www.google.com/image.png\"> text'\n"
     ]
    }
   ],
   "source": [
    "text = 'text ![description](www.google.com/image.png) text'\n",
    "pattern =\\\n",
    "r\"\"\"\n",
    "    !\\[(?P<alt>.+)\\]         # 'alt' group\n",
    "    \\((?P<url>\\S+)\\)        # 'url' group\n",
    "\"\"\"\n",
    "\n",
    "text = re.sub(\\\n",
    "    re.compile(pattern, re.MULTILINE | re.VERBOSE),\\\n",
    "    lambda m: '<img alt=\"{}\" src=\"{}\">'.format(m.group('alt'), m.group('url')),\\\n",
    "    text\\\n",
    ")\n",
    "\n",
    "pprint(text)"
   ]
  },
  {
   "cell_type": "markdown",
   "metadata": {},
   "source": [
    "## Ref Images"
   ]
  },
  {
   "cell_type": "code",
   "execution_count": 135,
   "metadata": {
    "collapsed": false
   },
   "outputs": [
    {
     "name": "stdout",
     "output_type": "stream",
     "text": [
      "'link'\n",
      "'site1'\n"
     ]
    }
   ],
   "source": [
    "text = 'text [link][site1]\\n[site1]: www.google.com \"google\"'\n",
    "pattern =\\\n",
    "r\"\"\"\n",
    "    \\[(?P<link>.+)\\]       # 'link' group\n",
    "    \\[(?P<ref>.+)\\]        # 'ref' group\n",
    "\"\"\"\n",
    "\n",
    "for m in re.finditer(pattern, text, re.MULTILINE | re.VERBOSE):\n",
    "    pprint(m.group('link'))\n",
    "    pprint(m.group('ref'))"
   ]
  }
 ],
 "metadata": {
  "anaconda-cloud": {},
  "kernelspec": {
   "display_name": "Python [conda root]",
   "language": "python",
   "name": "conda-root-py"
  },
  "language_info": {
   "codemirror_mode": {
    "name": "ipython",
    "version": 3
   },
   "file_extension": ".py",
   "mimetype": "text/x-python",
   "name": "python",
   "nbconvert_exporter": "python",
   "pygments_lexer": "ipython3",
   "version": "3.5.2"
  }
 },
 "nbformat": 4,
 "nbformat_minor": 1
}
