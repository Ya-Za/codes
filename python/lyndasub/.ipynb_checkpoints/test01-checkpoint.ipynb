{
 "cells": [
  {
   "cell_type": "code",
   "execution_count": 7,
   "metadata": {
    "collapsed": true
   },
   "outputs": [],
   "source": [
    "from pprint import pprint\n",
    "import requests\n",
    "from lxml import etree"
   ]
  },
  {
   "cell_type": "code",
   "execution_count": 6,
   "metadata": {
    "collapsed": false
   },
   "outputs": [],
   "source": [
    "url = 'https://www.lynda.com/D3-js-tutorials/Welcome/504428/549380-4.html?srchtrk=index%3a16%0alinktypeid%3a2%0aq%3ascrape%0apage%3a1%0as%3arelevance%0asa%3atrue%0aproducttypeid%3a2'\n",
    "page = requests.get(url)"
   ]
  },
  {
   "cell_type": "code",
   "execution_count": 8,
   "metadata": {
    "collapsed": true
   },
   "outputs": [],
   "source": [
    "html = etree.HTML(page.content)"
   ]
  },
  {
   "cell_type": "markdown",
   "metadata": {},
   "source": [
    "### Get number of folders"
   ]
  },
  {
   "cell_type": "code",
   "execution_count": 27,
   "metadata": {
    "collapsed": true
   },
   "outputs": [],
   "source": [
    "def get_number_of_items(element, path):\n",
    "    return int(element.xpath('count({})'.format(path)))"
   ]
  },
  {
   "cell_type": "code",
   "execution_count": 29,
   "metadata": {
    "collapsed": false
   },
   "outputs": [
    {
     "name": "stdout",
     "output_type": "stream",
     "text": [
      "Number of folders: 12\n"
     ]
    }
   ],
   "source": [
    "path = '//*[@id=\"toc-content\"]/ul'\n",
    "number_of_folders = get_number_of_items(html, path + '/li')\n",
    "print('Number of folders:', number_of_folders)"
   ]
  },
  {
   "cell_type": "code",
   "execution_count": 35,
   "metadata": {
    "collapsed": false
   },
   "outputs": [
    {
     "name": "stdout",
     "output_type": "stream",
     "text": [
      "Introduction\n",
      "\tWelcome\n",
      "\tExplaining D3\n",
      "\tWhat you need to know\n",
      "\tUsing the exercise files\n",
      "1. Refresher\n",
      "\tIntroduction\n",
      "\tRecalling HTML basics\n",
      "\tUnderstanding HTML5\n",
      "\tIntroducing SVG\n",
      "\tRecalling CSS\n",
      "\tCombining Javascript and D3\n",
      "\tUnderstanding the DOM and the console\n",
      "2. Making a Simple Bar Chart with D3\n",
      "\tIntroduction\n",
      "\tAdding an SVG\n",
      "\tAdding rectangles\n",
      "\tSetting attributes for shapes\n",
      "\tSeeing the code how the browser sees it\n",
      "3. Basic Shapes, Courtesy of SVG\n",
      "\tIntroducing SVG shapes\n",
      "\tDrawing circles\n",
      "\tDrawing ellipses\n",
      "\tDrawing lines\n",
      "\tRejecting polygons and polylines\n",
      "\tAdding text\n",
      "4. Advanced Shapes, with D3 and Path\n",
      "\tIntroducing path\n",
      "\tExplaining generators\n",
      "\tDrawing an area chart\n",
      "\tFinding other generators\n",
      "\tIntroducing groups\n",
      "5. Scales and Axes\n",
      "\tIntroducing scales\n",
      "\tCreating a linear scale\n",
      "\tCreating a linear axis\n",
      "\tPositioning and formatting our axis\n",
      "\tCreating a time scale\n",
      "\tCreating a time series axis\n",
      "\tCreating an ordinal scale and axis\n",
      "\tUsing colour scales\n",
      "\tIntroducing other scales\n",
      "6. Importing Data into D3\n",
      "\tIntroducing external data\n",
      "\tParsing a CSV file\n",
      "\tDrawing a line chart from CSV data\n",
      "\tUsing TSV and DSV\n",
      "\tParsing JSON\n",
      "\tParsing and mapping XML\n",
      "\tParsing a TXT file\n",
      "\tParsing HTML\n",
      "\tIntroducing other data methods\n",
      "7. Additional Graphics with D3 Layout\n",
      "\tIntroducing layout\n",
      "\tMaking a tree from JSON\n",
      "\tMaking a Voronoi tessellation\n",
      "\tIntroducing other layouts\n",
      "8. Preparing Your Data for Advanced Graphics\n",
      "\tData manipulation\n",
      "\tPrepare stack data using map\n",
      "\tDrawing a stack area chart\n",
      "\tAdvancing selections\n",
      "\tMake flat data multidimensional\n",
      "\tFiltering data\n",
      "9. Interactivity\n",
      "\tIntroducing interaction\n",
      "\tMaking your graphic responsive\n",
      "\tAdding interactivity with CSS\n",
      "\tAdding interactivity with JavaScript\n",
      "\tIntroducing dispatch\n",
      "\tTransitions\n",
      "\tDragging and zooming\n",
      "10. Picking the Right Graphic\n",
      "\tPicking the right graphic for your data\n",
      "\tTime series\n",
      "\tText\n",
      "\tHierarchy\n",
      "\tGeography\n",
      "\tDistribution\n",
      "\tOther\n",
      "Conclusion\n",
      "\tFurther resources\n",
      "\tFinding plugins\n",
      "\tUsing the API reference\n",
      "\tUsing D3 with other libraries\n",
      "\tSummary\n"
     ]
    }
   ],
   "source": [
    "folder_path = '/li[{}]/div/div/h4/text()'\n",
    "file_path = '/li[{}]/ul/li[{}]/div/div[1]/a/text()'\n",
    "for i in range(1, number_of_folders + 1):\n",
    "    print(html.xpath(path + folder_path.format(i))[0])\n",
    "    number_of_files = get_number_of_items(html, path + '/li[{}]/ul/li'.format(i))\n",
    "    for j in range(1, number_of_files + 1):\n",
    "        print('\\t' + html.xpath(path + file_path.format(i, j))[0].strip())"
   ]
  },
  {
   "cell_type": "code",
   "execution_count": 37,
   "metadata": {
    "collapsed": false
   },
   "outputs": [
    {
     "name": "stdout",
     "output_type": "stream",
     "text": [
      "{'items': [{'items': [{'name': 'Welcome'},\n",
      "                      {'name': 'Explaining D3'},\n",
      "                      {'name': 'What you need to know'},\n",
      "                      {'name': 'Using the exercise files'}],\n",
      "            'name': 'Introduction'},\n",
      "           {'items': [{'name': 'Introduction'},\n",
      "                      {'name': 'Recalling HTML basics'},\n",
      "                      {'name': 'Understanding HTML5'},\n",
      "                      {'name': 'Introducing SVG'},\n",
      "                      {'name': 'Recalling CSS'},\n",
      "                      {'name': 'Combining Javascript and D3'},\n",
      "                      {'name': 'Understanding the DOM and the console'}],\n",
      "            'name': '1. Refresher'},\n",
      "           {'items': [{'name': 'Introduction'},\n",
      "                      {'name': 'Adding an SVG'},\n",
      "                      {'name': 'Adding rectangles'},\n",
      "                      {'name': 'Setting attributes for shapes'},\n",
      "                      {'name': 'Seeing the code how the browser sees it'}],\n",
      "            'name': '2. Making a Simple Bar Chart with D3'},\n",
      "           {'items': [{'name': 'Introducing SVG shapes'},\n",
      "                      {'name': 'Drawing circles'},\n",
      "                      {'name': 'Drawing ellipses'},\n",
      "                      {'name': 'Drawing lines'},\n",
      "                      {'name': 'Rejecting polygons and polylines'},\n",
      "                      {'name': 'Adding text'}],\n",
      "            'name': '3. Basic Shapes, Courtesy of SVG'},\n",
      "           {'items': [{'name': 'Introducing path'},\n",
      "                      {'name': 'Explaining generators'},\n",
      "                      {'name': 'Drawing an area chart'},\n",
      "                      {'name': 'Finding other generators'},\n",
      "                      {'name': 'Introducing groups'}],\n",
      "            'name': '4. Advanced Shapes, with D3 and Path'},\n",
      "           {'items': [{'name': 'Introducing scales'},\n",
      "                      {'name': 'Creating a linear scale'},\n",
      "                      {'name': 'Creating a linear axis'},\n",
      "                      {'name': 'Positioning and formatting our axis'},\n",
      "                      {'name': 'Creating a time scale'},\n",
      "                      {'name': 'Creating a time series axis'},\n",
      "                      {'name': 'Creating an ordinal scale and axis'},\n",
      "                      {'name': 'Using colour scales'},\n",
      "                      {'name': 'Introducing other scales'}],\n",
      "            'name': '5. Scales and Axes'},\n",
      "           {'items': [{'name': 'Introducing external data'},\n",
      "                      {'name': 'Parsing a CSV file'},\n",
      "                      {'name': 'Drawing a line chart from CSV data'},\n",
      "                      {'name': 'Using TSV and DSV'},\n",
      "                      {'name': 'Parsing JSON'},\n",
      "                      {'name': 'Parsing and mapping XML'},\n",
      "                      {'name': 'Parsing a TXT file'},\n",
      "                      {'name': 'Parsing HTML'},\n",
      "                      {'name': 'Introducing other data methods'}],\n",
      "            'name': '6. Importing Data into D3'},\n",
      "           {'items': [{'name': 'Introducing layout'},\n",
      "                      {'name': 'Making a tree from JSON'},\n",
      "                      {'name': 'Making a Voronoi tessellation'},\n",
      "                      {'name': 'Introducing other layouts'}],\n",
      "            'name': '7. Additional Graphics with D3 Layout'},\n",
      "           {'items': [{'name': 'Data manipulation'},\n",
      "                      {'name': 'Prepare stack data using map'},\n",
      "                      {'name': 'Drawing a stack area chart'},\n",
      "                      {'name': 'Advancing selections'},\n",
      "                      {'name': 'Make flat data multidimensional'},\n",
      "                      {'name': 'Filtering data'}],\n",
      "            'name': '8. Preparing Your Data for Advanced Graphics'},\n",
      "           {'items': [{'name': 'Introducing interaction'},\n",
      "                      {'name': 'Making your graphic responsive'},\n",
      "                      {'name': 'Adding interactivity with CSS'},\n",
      "                      {'name': 'Adding interactivity with JavaScript'},\n",
      "                      {'name': 'Introducing dispatch'},\n",
      "                      {'name': 'Transitions'},\n",
      "                      {'name': 'Dragging and zooming'}],\n",
      "            'name': '9. Interactivity'},\n",
      "           {'items': [{'name': 'Picking the right graphic for your data'},\n",
      "                      {'name': 'Time series'},\n",
      "                      {'name': 'Text'},\n",
      "                      {'name': 'Hierarchy'},\n",
      "                      {'name': 'Geography'},\n",
      "                      {'name': 'Distribution'},\n",
      "                      {'name': 'Other'}],\n",
      "            'name': '10. Picking the Right Graphic'},\n",
      "           {'items': [{'name': 'Further resources'},\n",
      "                      {'name': 'Finding plugins'},\n",
      "                      {'name': 'Using the API reference'},\n",
      "                      {'name': 'Using D3 with other libraries'},\n",
      "                      {'name': 'Summary'}],\n",
      "            'name': 'Conclusion'}],\n",
      " 'name': 'Welcome'}\n"
     ]
    }
   ],
   "source": [
    "name_path = '//*[@id=\"course-page\"]/div[1]/div/div/div[1]/h1/text()'\n",
    "course = {\n",
    "    'title': html.xpath(name_path)[0], \n",
    "    'chapters': []\n",
    "}\n",
    "\n",
    "folder_path = '/li[{}]/div/div/h4/text()'\n",
    "file_path = '/li[{}]/ul/li[{}]/div/div[1]/a/text()'\n",
    "\n",
    "for i in range(1, number_of_folders + 1):\n",
    "    course['chapters'].append(\n",
    "        {\n",
    "            'title': html.xpath(path + folder_path.format(i))[0], \n",
    "            'sections': []\n",
    "        }\n",
    "    )\n",
    "    \n",
    "    number_of_files = get_number_of_items(html, path + '/li[{}]/ul/li'.format(i))\n",
    "    for j in range(1, number_of_files + 1):\n",
    "        data['chapters'][-1]['sections'].append(\n",
    "            {\n",
    "                'title': html.xpath(path + file_path.format(i, j))[0].strip()\n",
    "            }\n",
    "        )\n",
    "        \n",
    "pprint(data)"
   ]
  },
  {
   "cell_type": "code",
   "execution_count": null,
   "metadata": {
    "collapsed": true
   },
   "outputs": [],
   "source": []
  }
 ],
 "metadata": {
  "anaconda-cloud": {},
  "kernelspec": {
   "display_name": "Python [conda root]",
   "language": "python",
   "name": "conda-root-py"
  },
  "language_info": {
   "codemirror_mode": {
    "name": "ipython",
    "version": 3
   },
   "file_extension": ".py",
   "mimetype": "text/x-python",
   "name": "python",
   "nbconvert_exporter": "python",
   "pygments_lexer": "ipython3",
   "version": "3.5.2"
  }
 },
 "nbformat": 4,
 "nbformat_minor": 1
}
