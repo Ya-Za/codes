{
 "cells": [
  {
   "cell_type": "code",
   "execution_count": 7,
   "metadata": {
    "collapsed": true
   },
   "outputs": [],
   "source": [
    "from pprint import pprint\n",
    "import requests\n",
    "from lxml import etree"
   ]
  },
  {
   "cell_type": "code",
   "execution_count": 6,
   "metadata": {
    "collapsed": false
   },
   "outputs": [],
   "source": [
    "url = 'https://www.lynda.com/D3-js-tutorials/Welcome/504428/549380-4.html?srchtrk=index%3a16%0alinktypeid%3a2%0aq%3ascrape%0apage%3a1%0as%3arelevance%0asa%3atrue%0aproducttypeid%3a2'\n",
    "page = requests.get(url)"
   ]
  },
  {
   "cell_type": "code",
   "execution_count": 8,
   "metadata": {
    "collapsed": true
   },
   "outputs": [],
   "source": [
    "html = etree.HTML(page.content)"
   ]
  },
  {
   "cell_type": "markdown",
   "metadata": {},
   "source": [
    "### Get number of folders"
   ]
  },
  {
   "cell_type": "code",
   "execution_count": 27,
   "metadata": {
    "collapsed": true
   },
   "outputs": [],
   "source": [
    "def get_number_of_items(element, path):\n",
    "    return int(element.xpath('count({})'.format(path)))"
   ]
  },
  {
   "cell_type": "code",
   "execution_count": 29,
   "metadata": {
    "collapsed": false
   },
   "outputs": [
    {
     "name": "stdout",
     "output_type": "stream",
     "text": [
      "Number of folders: 12\n"
     ]
    }
   ],
   "source": [
    "path = '//*[@id=\"toc-content\"]/ul'\n",
    "number_of_folders = get_number_of_items(html, path + '/li')\n",
    "print('Number of folders:', number_of_folders)"
   ]
  },
  {
   "cell_type": "code",
   "execution_count": 35,
   "metadata": {
    "collapsed": false
   },
   "outputs": [
    {
     "name": "stdout",
     "output_type": "stream",
     "text": [
      "Introduction\n",
      "\tWelcome\n",
      "\tExplaining D3\n",
      "\tWhat you need to know\n",
      "\tUsing the exercise files\n",
      "1. Refresher\n",
      "\tIntroduction\n",
      "\tRecalling HTML basics\n",
      "\tUnderstanding HTML5\n",
      "\tIntroducing SVG\n",
      "\tRecalling CSS\n",
      "\tCombining Javascript and D3\n",
      "\tUnderstanding the DOM and the console\n",
      "2. Making a Simple Bar Chart with D3\n",
      "\tIntroduction\n",
      "\tAdding an SVG\n",
      "\tAdding rectangles\n",
      "\tSetting attributes for shapes\n",
      "\tSeeing the code how the browser sees it\n",
      "3. Basic Shapes, Courtesy of SVG\n",
      "\tIntroducing SVG shapes\n",
      "\tDrawing circles\n",
      "\tDrawing ellipses\n",
      "\tDrawing lines\n",
      "\tRejecting polygons and polylines\n",
      "\tAdding text\n",
      "4. Advanced Shapes, with D3 and Path\n",
      "\tIntroducing path\n",
      "\tExplaining generators\n",
      "\tDrawing an area chart\n",
      "\tFinding other generators\n",
      "\tIntroducing groups\n",
      "5. Scales and Axes\n",
      "\tIntroducing scales\n",
      "\tCreating a linear scale\n",
      "\tCreating a linear axis\n",
      "\tPositioning and formatting our axis\n",
      "\tCreating a time scale\n",
      "\tCreating a time series axis\n",
      "\tCreating an ordinal scale and axis\n",
      "\tUsing colour scales\n",
      "\tIntroducing other scales\n",
      "6. Importing Data into D3\n",
      "\tIntroducing external data\n",
      "\tParsing a CSV file\n",
      "\tDrawing a line chart from CSV data\n",
      "\tUsing TSV and DSV\n",
      "\tParsing JSON\n",
      "\tParsing and mapping XML\n",
      "\tParsing a TXT file\n",
      "\tParsing HTML\n",
      "\tIntroducing other data methods\n",
      "7. Additional Graphics with D3 Layout\n",
      "\tIntroducing layout\n",
      "\tMaking a tree from JSON\n",
      "\tMaking a Voronoi tessellation\n",
      "\tIntroducing other layouts\n",
      "8. Preparing Your Data for Advanced Graphics\n",
      "\tData manipulation\n",
      "\tPrepare stack data using map\n",
      "\tDrawing a stack area chart\n",
      "\tAdvancing selections\n",
      "\tMake flat data multidimensional\n",
      "\tFiltering data\n",
      "9. Interactivity\n",
      "\tIntroducing interaction\n",
      "\tMaking your graphic responsive\n",
      "\tAdding interactivity with CSS\n",
      "\tAdding interactivity with JavaScript\n",
      "\tIntroducing dispatch\n",
      "\tTransitions\n",
      "\tDragging and zooming\n",
      "10. Picking the Right Graphic\n",
      "\tPicking the right graphic for your data\n",
      "\tTime series\n",
      "\tText\n",
      "\tHierarchy\n",
      "\tGeography\n",
      "\tDistribution\n",
      "\tOther\n",
      "Conclusion\n",
      "\tFurther resources\n",
      "\tFinding plugins\n",
      "\tUsing the API reference\n",
      "\tUsing D3 with other libraries\n",
      "\tSummary\n"
     ]
    }
   ],
   "source": [
    "folder_path = '/li[{}]/div/div/h4/text()'\n",
    "file_path = '/li[{}]/ul/li[{}]/div/div[1]/a/text()'\n",
    "for i in range(1, number_of_folders + 1):\n",
    "    print(html.xpath(path + folder_path.format(i))[0])\n",
    "    number_of_files = get_number_of_items(html, path + '/li[{}]/ul/li'.format(i))\n",
    "    for j in range(1, number_of_files + 1):\n",
    "        print('\\t' + html.xpath(path + file_path.format(i, j))[0].strip())"
   ]
  },
  {
   "cell_type": "code",
   "execution_count": 41,
   "metadata": {
    "collapsed": false
   },
   "outputs": [
    {
     "name": "stdout",
     "output_type": "stream",
     "text": [
      "{'chapters': [{'sections': [{'title': 'Welcome'},\n",
      "                            {'title': 'Explaining D3'},\n",
      "                            {'title': 'What you need to know'},\n",
      "                            {'title': 'Using the exercise files'}],\n",
      "               'title': 'Introduction'},\n",
      "              {'sections': [{'title': 'Introduction'},\n",
      "                            {'title': 'Recalling HTML basics'},\n",
      "                            {'title': 'Understanding HTML5'},\n",
      "                            {'title': 'Introducing SVG'},\n",
      "                            {'title': 'Recalling CSS'},\n",
      "                            {'title': 'Combining Javascript and D3'},\n",
      "                            {'title': 'Understanding the DOM and the console'}],\n",
      "               'title': '1. Refresher'},\n",
      "              {'sections': [{'title': 'Introduction'},\n",
      "                            {'title': 'Adding an SVG'},\n",
      "                            {'title': 'Adding rectangles'},\n",
      "                            {'title': 'Setting attributes for shapes'},\n",
      "                            {'title': 'Seeing the code how the browser sees '\n",
      "                                      'it'}],\n",
      "               'title': '2. Making a Simple Bar Chart with D3'},\n",
      "              {'sections': [{'title': 'Introducing SVG shapes'},\n",
      "                            {'title': 'Drawing circles'},\n",
      "                            {'title': 'Drawing ellipses'},\n",
      "                            {'title': 'Drawing lines'},\n",
      "                            {'title': 'Rejecting polygons and polylines'},\n",
      "                            {'title': 'Adding text'}],\n",
      "               'title': '3. Basic Shapes, Courtesy of SVG'},\n",
      "              {'sections': [{'title': 'Introducing path'},\n",
      "                            {'title': 'Explaining generators'},\n",
      "                            {'title': 'Drawing an area chart'},\n",
      "                            {'title': 'Finding other generators'},\n",
      "                            {'title': 'Introducing groups'}],\n",
      "               'title': '4. Advanced Shapes, with D3 and Path'},\n",
      "              {'sections': [{'title': 'Introducing scales'},\n",
      "                            {'title': 'Creating a linear scale'},\n",
      "                            {'title': 'Creating a linear axis'},\n",
      "                            {'title': 'Positioning and formatting our axis'},\n",
      "                            {'title': 'Creating a time scale'},\n",
      "                            {'title': 'Creating a time series axis'},\n",
      "                            {'title': 'Creating an ordinal scale and axis'},\n",
      "                            {'title': 'Using colour scales'},\n",
      "                            {'title': 'Introducing other scales'}],\n",
      "               'title': '5. Scales and Axes'},\n",
      "              {'sections': [{'title': 'Introducing external data'},\n",
      "                            {'title': 'Parsing a CSV file'},\n",
      "                            {'title': 'Drawing a line chart from CSV data'},\n",
      "                            {'title': 'Using TSV and DSV'},\n",
      "                            {'title': 'Parsing JSON'},\n",
      "                            {'title': 'Parsing and mapping XML'},\n",
      "                            {'title': 'Parsing a TXT file'},\n",
      "                            {'title': 'Parsing HTML'},\n",
      "                            {'title': 'Introducing other data methods'}],\n",
      "               'title': '6. Importing Data into D3'},\n",
      "              {'sections': [{'title': 'Introducing layout'},\n",
      "                            {'title': 'Making a tree from JSON'},\n",
      "                            {'title': 'Making a Voronoi tessellation'},\n",
      "                            {'title': 'Introducing other layouts'}],\n",
      "               'title': '7. Additional Graphics with D3 Layout'},\n",
      "              {'sections': [{'title': 'Data manipulation'},\n",
      "                            {'title': 'Prepare stack data using map'},\n",
      "                            {'title': 'Drawing a stack area chart'},\n",
      "                            {'title': 'Advancing selections'},\n",
      "                            {'title': 'Make flat data multidimensional'},\n",
      "                            {'title': 'Filtering data'}],\n",
      "               'title': '8. Preparing Your Data for Advanced Graphics'},\n",
      "              {'sections': [{'title': 'Introducing interaction'},\n",
      "                            {'title': 'Making your graphic responsive'},\n",
      "                            {'title': 'Adding interactivity with CSS'},\n",
      "                            {'title': 'Adding interactivity with JavaScript'},\n",
      "                            {'title': 'Introducing dispatch'},\n",
      "                            {'title': 'Transitions'},\n",
      "                            {'title': 'Dragging and zooming'}],\n",
      "               'title': '9. Interactivity'},\n",
      "              {'sections': [{'title': 'Picking the right graphic for your '\n",
      "                                      'data'},\n",
      "                            {'title': 'Time series'},\n",
      "                            {'title': 'Text'},\n",
      "                            {'title': 'Hierarchy'},\n",
      "                            {'title': 'Geography'},\n",
      "                            {'title': 'Distribution'},\n",
      "                            {'title': 'Other'}],\n",
      "               'title': '10. Picking the Right Graphic'},\n",
      "              {'sections': [{'title': 'Further resources'},\n",
      "                            {'title': 'Finding plugins'},\n",
      "                            {'title': 'Using the API reference'},\n",
      "                            {'title': 'Using D3 with other libraries'},\n",
      "                            {'title': 'Summary'}],\n",
      "               'title': 'Conclusion'}],\n",
      " 'title': 'Welcome'}\n"
     ]
    }
   ],
   "source": [
    "title_path = '//*[@id=\"course-page\"]/div[1]/div/div/div[1]/h1/text()'\n",
    "course = {\n",
    "    'title': html.xpath(title_path)[0], \n",
    "    'chapters': []\n",
    "}\n",
    "\n",
    "chapter_path = '/li[{}]/div/div/h4/text()'\n",
    "section_path = '/li[{}]/ul/li[{}]/div/div[1]/a/text()'\n",
    "\n",
    "for i in range(1, number_of_folders + 1):\n",
    "    course['chapters'].append(\n",
    "        {\n",
    "            'title': html.xpath(path + chapter_path.format(i))[0], \n",
    "            'sections': []\n",
    "        }\n",
    "    )\n",
    "    \n",
    "    number_of_files = get_number_of_items(html, path + '/li[{}]/ul/li'.format(i))\n",
    "    for j in range(1, number_of_files + 1):\n",
    "        course['chapters'][-1]['sections'].append(\n",
    "            {\n",
    "                'title': html.xpath(path + section_path.format(i, j))[0].strip()\n",
    "            }\n",
    "        )\n",
    "        \n",
    "pprint(course)"
   ]
  },
  {
   "cell_type": "code",
   "execution_count": 81,
   "metadata": {
    "collapsed": false
   },
   "outputs": [
    {
     "name": "stdout",
     "output_type": "stream",
     "text": [
      "https://www.lynda.com/D3-js-tutorials/Explaining-D3/504428/549381-4.html?srchtrk=index%3a16%0alinktypeid%3a2%0aq%3ascrape%0apage%3a1%0as%3arelevance%0asa%3atrue%0aproducttypeid%3a2\n"
     ]
    }
   ],
   "source": [
    "href_path = '//*[@id=\"toc-content\"]/ul/li[1]/ul/li[2]/div/div[1]/a/@href'\n",
    "url = html.xpath(href_path)[0]\n",
    "print(url)\n",
    "page = requests.get(url)\n",
    "html = etree.HTML(page.content)"
   ]
  },
  {
   "cell_type": "code",
   "execution_count": 84,
   "metadata": {
    "collapsed": false
   },
   "outputs": [
    {
     "name": "stdout",
     "output_type": "stream",
     "text": [
      "- [Instructor] You're looking at what D3 can do\r\n",
      "                    D3 makes graphics within a webpage from data\r\n",
      "                    and animates them.\r\n",
      "                    This example takes share prices for four big companies\r\n",
      "                    and shows different ways of visualizing the same data.\r\n",
      "                    D3 is an abbreviation of Data-Driven Documents.\r\n",
      "                    In practical terms D3 is a JavaScript library.\r\n",
      "                    This means it's a pre-written JavaScript file,\r\n",
      "                    which allows easier development of certain applications\r\n",
      "                    than using JavaScript alone.\r\n",
      "                    Most of what you code in D3\r\n",
      "                    could be coded in plain javaScript,\r\n",
      "                    but it would take an enormous amount of JavaScript\r\n",
      "                    to do what D3 can do in a few lines.\r\n",
      "\t\t\n",
      "\t\t\n",
      "                    To use D3 in your code you must include\r\n",
      "                    the D3 file in your webpage.\r\n",
      "                    This file contains the D3 library\r\n",
      "                    it's about 16,000 lines long and 500 kilobytes in size\r\n",
      "                    Once you've pulled the D3 file into your webpage,\r\n",
      "                    you can use a set of new commands\r\n",
      "                    that you couldn't use in JavaScript alone.\r\n",
      "                    D3 is constantly being updated.\r\n",
      "                    It was released for the first time in 2011.\r\n",
      "                    At the end of June 2016\r\n",
      "                    a major version was released, Version 4.\r\n",
      "\t\t\n",
      "\t\t\n",
      "                    This course will teach you Version 4.\r\n",
      "                    It's important to take notes at the version and sub-version\r\n",
      "                    of your D3 file when looking at examples of documentation.\r\n",
      "                    Version 3 code won't work in Version 4 and vice versa.\r\n",
      "                    So examples that you find written\r\n",
      "                    for a different sub-version even might not work for you.\r\n",
      "                    One of the big changes between versions is that D3\r\n",
      "                    is modular in Version 4.\r\n",
      "                    In Version 3 there was a single file\r\n",
      "                    to pull into your webpage.\r\n",
      "                    In Version 4 you can still pull in a single file\r\n",
      "                    and this is what we're going to do in this course.\r\n",
      "\t\t\n",
      "\t\t\n",
      "                    But in the future if you were creating a map for example\r\n",
      "                    you might want to reduce your file size\r\n",
      "                    and just pull in the geographic module.\r\n",
      "                    The list of modules is here.\r\n",
      "                    Most of the source code examples and documentation you see\r\n",
      "                    will be for Version 3 or Version 4.\r\n",
      "                    You can tell them apart by looking at the name of the file.\r\n",
      "                    See here how it says v3.\r\n",
      "                    So this is a Version 3 file.\r\n",
      "                    In most of the examples we see later\r\n",
      "                    it says d3.v4\r\n",
      "                    You might notice here that the file name\r\n",
      "                    also contains the word min.\r\n",
      "\t\t\n",
      "\t\t\n",
      "                    There are two versions of D3 files\r\n",
      "                    the standard version and a compressed or min-ifed version\r\n",
      "                    that have the word min in their title.\r\n",
      "                    The files do exactly the same thing.\r\n",
      "                    The compressed file has simply had\r\n",
      "                    all its white space removed\r\n",
      "                    and as a result it's harder to read,\r\n",
      "                    should you need to look in there for something.\r\n",
      "                    In this course we will be using\r\n",
      "                    the standard non-compressed version but for Version 4.\r\n",
      "                    If you look at the top of the file\r\n",
      "                    you can see it says Version 4.2.1\r\n",
      "                    So 2.1 here is the sub-version I was referring to earlier.\n"
     ]
    }
   ],
   "source": [
    "transcript_path = '//*[@id=\"transcripts-container\"]/div/div/div/div'\n",
    "transcripts = html.xpath(transcript_path)[0]\n",
    "print(etree.tostring(transcripts, method='text', encoding='unicode').strip())\n",
    "# print(len(transcripts))\n",
    "# print(transcripts[1].text)"
   ]
  },
  {
   "cell_type": "code",
   "execution_count": null,
   "metadata": {
    "collapsed": true
   },
   "outputs": [],
   "source": []
  }
 ],
 "metadata": {
  "anaconda-cloud": {},
  "kernelspec": {
   "display_name": "Python [conda root]",
   "language": "python",
   "name": "conda-root-py"
  },
  "language_info": {
   "codemirror_mode": {
    "name": "ipython",
    "version": 3
   },
   "file_extension": ".py",
   "mimetype": "text/x-python",
   "name": "python",
   "nbconvert_exporter": "python",
   "pygments_lexer": "ipython3",
   "version": "3.5.2"
  }
 },
 "nbformat": 4,
 "nbformat_minor": 1
}
