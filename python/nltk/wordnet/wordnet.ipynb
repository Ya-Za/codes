{
 "cells": [
  {
   "cell_type": "code",
   "execution_count": 2,
   "metadata": {
    "collapsed": true
   },
   "outputs": [],
   "source": [
    "import nltk\n",
    "from nltk.corpus import wordnet\n",
    "from pprint import pprint\n",
    "from IPython.display import display"
   ]
  },
  {
   "cell_type": "code",
   "execution_count": 3,
   "metadata": {
    "collapsed": false
   },
   "outputs": [
    {
     "name": "stdout",
     "output_type": "stream",
     "text": [
      "[Synset('plan.n.01'),\n",
      " Synset('program.n.02'),\n",
      " Synset('broadcast.n.02'),\n",
      " Synset('platform.n.02'),\n",
      " Synset('program.n.05'),\n",
      " Synset('course_of_study.n.01'),\n",
      " Synset('program.n.07'),\n",
      " Synset('program.n.08'),\n",
      " Synset('program.v.01'),\n",
      " Synset('program.v.02')]\n"
     ]
    }
   ],
   "source": [
    "syns = wordnet.synsets('program')\n",
    "pprint(syns)"
   ]
  },
  {
   "cell_type": "code",
   "execution_count": 15,
   "metadata": {
    "collapsed": false
   },
   "outputs": [
    {
     "name": "stdout",
     "output_type": "stream",
     "text": [
      "plan.n.01\n"
     ]
    }
   ],
   "source": [
    "print(syns[0].name())"
   ]
  },
  {
   "cell_type": "code",
   "execution_count": 14,
   "metadata": {
    "collapsed": false
   },
   "outputs": [
    {
     "name": "stdout",
     "output_type": "stream",
     "text": [
      "[Lemma('plan.n.01.plan'), Lemma('plan.n.01.program'), Lemma('plan.n.01.programme')]\n"
     ]
    }
   ],
   "source": [
    "print(syns[0].lemmas())"
   ]
  },
  {
   "cell_type": "code",
   "execution_count": 9,
   "metadata": {
    "collapsed": false
   },
   "outputs": [
    {
     "name": "stdout",
     "output_type": "stream",
     "text": [
      "a series of steps to be carried out or goals to be accomplished\n"
     ]
    }
   ],
   "source": [
    "print(syns[0].definition())"
   ]
  },
  {
   "cell_type": "code",
   "execution_count": 10,
   "metadata": {
    "collapsed": false
   },
   "outputs": [
    {
     "name": "stdout",
     "output_type": "stream",
     "text": [
      "['they drew up a six-step plan', 'they discussed plans for a new bond issue']\n"
     ]
    }
   ],
   "source": [
    "print(syns[0].examples())"
   ]
  },
  {
   "cell_type": "code",
   "execution_count": 32,
   "metadata": {
    "collapsed": false
   },
   "outputs": [
    {
     "name": "stdout",
     "output_type": "stream",
     "text": [
      "[Synset('plan.n.01'),\n",
      " Synset('design.n.02'),\n",
      " Synset('plan.n.03'),\n",
      " Synset('plan.v.01'),\n",
      " Synset('plan.v.02'),\n",
      " Synset('plan.v.03'),\n",
      " Synset('design.v.04')]\n"
     ]
    }
   ],
   "source": [
    "pprint(wordnet.synsets('plan'))"
   ]
  },
  {
   "cell_type": "code",
   "execution_count": 44,
   "metadata": {
    "collapsed": false
   },
   "outputs": [
    {
     "name": "stdout",
     "output_type": "stream",
     "text": [
      "1.0\n"
     ]
    }
   ],
   "source": [
    "w = wordnet.synset('plan.n.01')\n",
    "pprint(w.wup_similarity(wordnet.synset('program.n.01')))"
   ]
  },
  {
   "cell_type": "code",
   "execution_count": 31,
   "metadata": {
    "collapsed": false
   },
   "outputs": [
    {
     "name": "stdout",
     "output_type": "stream",
     "text": [
      "[Synset('book.n.01'),\n",
      " Synset('book.n.02'),\n",
      " Synset('record.n.05'),\n",
      " Synset('script.n.01'),\n",
      " Synset('ledger.n.01'),\n",
      " Synset('book.n.06'),\n",
      " Synset('book.n.07'),\n",
      " Synset('koran.n.01'),\n",
      " Synset('bible.n.01'),\n",
      " Synset('book.n.10'),\n",
      " Synset('book.n.11'),\n",
      " Synset('book.v.01'),\n",
      " Synset('reserve.v.04'),\n",
      " Synset('book.v.03'),\n",
      " Synset('book.v.04')]\n"
     ]
    }
   ],
   "source": [
    "pprint(wordnet.synsets('book'))"
   ]
  },
  {
   "cell_type": "code",
   "execution_count": 35,
   "metadata": {
    "collapsed": false
   },
   "outputs": [
    {
     "name": "stdout",
     "output_type": "stream",
     "text": [
      "['record', 'record_book', 'book']\n"
     ]
    }
   ],
   "source": [
    "print(wordnet.synset('book.n.03').lemma_names())"
   ]
  },
  {
   "cell_type": "code",
   "execution_count": 45,
   "metadata": {
    "collapsed": false
   },
   "outputs": [
    {
     "name": "stdout",
     "output_type": "stream",
     "text": [
      "[Synset('good.n.01'),\n",
      " Synset('good.n.02'),\n",
      " Synset('good.n.03'),\n",
      " Synset('commodity.n.01'),\n",
      " Synset('good.a.01'),\n",
      " Synset('full.s.06'),\n",
      " Synset('good.a.03'),\n",
      " Synset('estimable.s.02'),\n",
      " Synset('beneficial.s.01'),\n",
      " Synset('good.s.06'),\n",
      " Synset('good.s.07'),\n",
      " Synset('adept.s.01'),\n",
      " Synset('good.s.09'),\n",
      " Synset('dear.s.02'),\n",
      " Synset('dependable.s.04'),\n",
      " Synset('good.s.12'),\n",
      " Synset('good.s.13'),\n",
      " Synset('effective.s.04'),\n",
      " Synset('good.s.15'),\n",
      " Synset('good.s.16'),\n",
      " Synset('good.s.17'),\n",
      " Synset('good.s.18'),\n",
      " Synset('good.s.19'),\n",
      " Synset('good.s.20'),\n",
      " Synset('good.s.21'),\n",
      " Synset('well.r.01'),\n",
      " Synset('thoroughly.r.02')]\n"
     ]
    }
   ],
   "source": [
    "pprint(wordnet.synsets('good'))"
   ]
  },
  {
   "cell_type": "code",
   "execution_count": 60,
   "metadata": {
    "collapsed": false
   },
   "outputs": [
    {
     "name": "stdout",
     "output_type": "stream",
     "text": [
      "['good']\n",
      "[Lemma('bad.a.01.bad')]\n",
      "[Synset('bang-up.s.01'),\n",
      " Synset('good_enough.s.01'),\n",
      " Synset('goodish.s.01'),\n",
      " Synset('hot.s.15'),\n",
      " Synset('redeeming.s.02'),\n",
      " Synset('satisfactory.s.02'),\n",
      " Synset('solid.s.01'),\n",
      " Synset('superb.s.02'),\n",
      " Synset('well-behaved.s.01')]\n"
     ]
    }
   ],
   "source": [
    "w = wordnet.synset('good.a.01')\n",
    "pprint(w.lemma_names())\n",
    "l = w.lemmas()[0]\n",
    "print(l.antonyms())\n",
    "pprint(w.similar_tos())"
   ]
  },
  {
   "cell_type": "code",
   "execution_count": 53,
   "metadata": {
    "collapsed": false
   },
   "outputs": [
    {
     "name": "stdout",
     "output_type": "stream",
     "text": [
      "Synset('good.n.01')\n"
     ]
    }
   ],
   "source": [
    "l = wordnet.lemma('good.n.01.good')\n",
    "print(l.synset())"
   ]
  },
  {
   "cell_type": "code",
   "execution_count": 57,
   "metadata": {
    "collapsed": true
   },
   "outputs": [],
   "source": [
    "l.antonyms??"
   ]
  },
  {
   "cell_type": "code",
   "execution_count": 61,
   "metadata": {
    "collapsed": false
   },
   "outputs": [
    {
     "name": "stdout",
     "output_type": "stream",
     "text": [
      "['bang-up',\n",
      " 'bully',\n",
      " 'corking',\n",
      " 'cracking',\n",
      " 'dandy',\n",
      " 'great',\n",
      " 'groovy',\n",
      " 'keen',\n",
      " 'neat',\n",
      " 'nifty',\n",
      " 'not_bad',\n",
      " 'peachy',\n",
      " 'slap-up',\n",
      " 'swell',\n",
      " 'smashing']\n"
     ]
    }
   ],
   "source": [
    "w = wordnet.synset('bang-up.s.01')\n",
    "pprint(w.lemma_names())"
   ]
  },
  {
   "cell_type": "code",
   "execution_count": 72,
   "metadata": {
    "collapsed": false
   },
   "outputs": [
    {
     "name": "stdout",
     "output_type": "stream",
     "text": [
      "[Synset('travel.v.01'),\n",
      " Synset('go.v.02'),\n",
      " Synset('go.v.03'),\n",
      " Synset('become.v.01'),\n",
      " Synset('go.v.05'),\n",
      " Synset('run.v.05'),\n",
      " Synset('run.v.03'),\n",
      " Synset('proceed.v.04'),\n",
      " Synset('go.v.09'),\n",
      " Synset('go.v.10'),\n",
      " Synset('sound.v.02'),\n",
      " Synset('function.v.01'),\n",
      " Synset('run_low.v.01'),\n",
      " Synset('move.v.13'),\n",
      " Synset('survive.v.01'),\n",
      " Synset('go.v.16'),\n",
      " Synset('die.v.01'),\n",
      " Synset('belong.v.03'),\n",
      " Synset('go.v.19'),\n",
      " Synset('start.v.09'),\n",
      " Synset('move.v.15'),\n",
      " Synset('go.v.22'),\n",
      " Synset('go.v.23'),\n",
      " Synset('blend.v.02'),\n",
      " Synset('go.v.25'),\n",
      " Synset('fit.v.02'),\n",
      " Synset('rifle.v.02'),\n",
      " Synset('go.v.28'),\n",
      " Synset('plump.v.04'),\n",
      " Synset('fail.v.04')]\n",
      "['full', 'good']\n",
      "having the normally expected amount\n",
      "['gives full measure', 'gives good measure', 'a good mile from here']\n"
     ]
    }
   ],
   "source": [
    "pprint(wordnet.synsets('went'))\n",
    "w = wordnet.synsets('good')[5]\n",
    "pprint(w.lemma_names())\n",
    "print(w.definition())\n",
    "print(w.examples())"
   ]
  },
  {
   "cell_type": "code",
   "execution_count": null,
   "metadata": {
    "collapsed": true
   },
   "outputs": [],
   "source": []
  }
 ],
 "metadata": {
  "anaconda-cloud": {},
  "kernelspec": {
   "display_name": "Python [conda root]",
   "language": "python",
   "name": "conda-root-py"
  },
  "language_info": {
   "codemirror_mode": {
    "name": "ipython",
    "version": 3
   },
   "file_extension": ".py",
   "mimetype": "text/x-python",
   "name": "python",
   "nbconvert_exporter": "python",
   "pygments_lexer": "ipython3",
   "version": "3.5.2"
  }
 },
 "nbformat": 4,
 "nbformat_minor": 1
}
