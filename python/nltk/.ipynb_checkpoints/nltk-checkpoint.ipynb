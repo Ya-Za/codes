{
 "cells": [
  {
   "cell_type": "markdown",
   "metadata": {},
   "source": [
    "# NLTK (Natural Language ToolKit)"
   ]
  },
  {
   "cell_type": "code",
   "execution_count": 22,
   "metadata": {
    "collapsed": true
   },
   "outputs": [],
   "source": [
    "import nltk\n",
    "from pprint import pprint\n",
    "from IPython.display import HTML, display\n",
    "# nltk.download()"
   ]
  },
  {
   "cell_type": "markdown",
   "metadata": {
    "collapsed": true
   },
   "source": [
    "## Tokenizing"
   ]
  },
  {
   "cell_type": "code",
   "execution_count": 3,
   "metadata": {
    "collapsed": false
   },
   "outputs": [
    {
     "name": "stdout",
     "output_type": "stream",
     "text": [
      "['Hello', 'Mr.', 'Smith', '.', 'How', 'are', 'you', 'today', '?']\n",
      "['Hello Mr. Smith.', 'How are you today?']\n"
     ]
    }
   ],
   "source": [
    "from nltk.tokenize import word_tokenize, sent_tokenize\n",
    "\n",
    "text = 'Hello Mr. Smith. How are you today?'\n",
    "print(word_tokenize(text))\n",
    "print(sent_tokenize(text))"
   ]
  },
  {
   "cell_type": "markdown",
   "metadata": {},
   "source": [
    "## Stopwords"
   ]
  },
  {
   "cell_type": "code",
   "execution_count": 33,
   "metadata": {
    "collapsed": false
   },
   "outputs": [
    {
     "name": "stdout",
     "output_type": "stream",
     "text": [
      "['Hello', 'Mr.', 'Smith', '.', 'today', '?', 'great', 'day', '!', 'name', 'Yasin', 'Zamani', '.']\n"
     ]
    },
    {
     "data": {
      "text/html": [
       "Hello Mr. Smith. <span style=\"background-color:yellow\">How</span> <span style=\"background-color:yellow\">are</span> <span style=\"background-color:yellow\">you</span> today? <span style=\"background-color:yellow\">This</span> <span style=\"background-color:yellow\">is</span> <span style=\"background-color:yellow\">a</span> great day! <span style=\"background-color:yellow\">My</span> name <span style=\"background-color:yellow\">is</span> Yasin Zamani."
      ],
      "text/plain": [
       "<IPython.core.display.HTML object>"
      ]
     },
     "execution_count": 33,
     "metadata": {},
     "output_type": "execute_result"
    }
   ],
   "source": [
    "from nltk.corpus import stopwords\n",
    "from nltk.tokenize import word_tokenize\n",
    "\n",
    "sw = stopwords.words('english')\n",
    "text = 'Hello Mr. Smith. How are you today? This is a great day! My name is Yasin Zamani.'\n",
    "filtered_text = [x for x in word_tokenize(text) if x.lower() not in sw]\n",
    "\n",
    "print(filtered_text)\n",
    "\n",
    "marked_text = \n",
    "    ' '.join(\n",
    "            [('<span style=\"background-color:yellow\">{}</span>'.format(x) if x.lower() in sw else x) for x in text.split()]\n",
    "        )\n",
    "HTML(marked_text)"
   ]
  },
  {
   "cell_type": "code",
   "execution_count": null,
   "metadata": {
    "collapsed": true
   },
   "outputs": [],
   "source": []
  }
 ],
 "metadata": {
  "anaconda-cloud": {},
  "kernelspec": {
   "display_name": "Python [conda root]",
   "language": "python",
   "name": "conda-root-py"
  },
  "language_info": {
   "codemirror_mode": {
    "name": "ipython",
    "version": 3
   },
   "file_extension": ".py",
   "mimetype": "text/x-python",
   "name": "python",
   "nbconvert_exporter": "python",
   "pygments_lexer": "ipython3",
   "version": "3.5.2"
  }
 },
 "nbformat": 4,
 "nbformat_minor": 1
}
