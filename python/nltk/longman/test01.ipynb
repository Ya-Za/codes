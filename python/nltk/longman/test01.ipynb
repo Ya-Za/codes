{
 "cells": [
  {
   "cell_type": "code",
   "execution_count": 1,
   "metadata": {
    "collapsed": true
   },
   "outputs": [],
   "source": [
    "from ldoce import LDOCE\n",
    "import matplotlib.pyplot as plt\n",
    "import numpy as np\n",
    "import csv\n",
    "from pprint import pprint\n",
    "from IPython.display import display\n",
    "%matplotlib inline"
   ]
  },
  {
   "cell_type": "code",
   "execution_count": 3,
   "metadata": {
    "collapsed": true
   },
   "outputs": [],
   "source": [
    "ldoce = LDOCE()"
   ]
  },
  {
   "cell_type": "code",
   "execution_count": 21,
   "metadata": {
    "collapsed": false
   },
   "outputs": [
    {
     "data": {
      "image/png": "[encoded data removed]",
      "text/plain": [
       "<matplotlib.figure.Figure at 0x208a43f70b8>"
      ]
     },
     "metadata": {},
     "output_type": "display_data"
    }
   ],
   "source": [
    "data = {}\n",
    "for w in ldoce.all:\n",
    "    l = len(w)\n",
    "    if l not in data:\n",
    "        data[l] = 1\n",
    "    else:\n",
    "        data[l] += 1\n",
    "        \n",
    "plt.bar(range(len(data)), data.values(), align='center')\n",
    "plt.xticks(range(len(data)), data.keys())\n",
    "\n",
    "# fig, ax = plt.subplots()\n",
    "# ax.bar(range(len(data)), data.values(), align='center')\n",
    "# ax.set_xticks(range(len(data)), data.keys())\n",
    "\n",
    "plt.show()"
   ]
  },
  {
   "cell_type": "code",
   "execution_count": 5,
   "metadata": {
    "collapsed": false
   },
   "outputs": [
    {
     "name": "stdout",
     "output_type": "stream",
     "text": [
      "{1: 2,\n",
      " 2: 27,\n",
      " 3: 199,\n",
      " 4: 594,\n",
      " 5: 609,\n",
      " 6: 612,\n",
      " 7: 564,\n",
      " 8: 464,\n",
      " 9: 387,\n",
      " 10: 330,\n",
      " 11: 195,\n",
      " 12: 122,\n",
      " 13: 74,\n",
      " 14: 23,\n",
      " 15: 4,\n",
      " 16: 3,\n",
      " 17: 1}\n"
     ]
    }
   ],
   "source": [
    "pprint(data)"
   ]
  },
  {
   "cell_type": "code",
   "execution_count": 6,
   "metadata": {
    "collapsed": false
   },
   "outputs": [
    {
     "name": "stdout",
     "output_type": "stream",
     "text": [
      "1\n",
      "17\n"
     ]
    },
    {
     "data": {
      "image/png": "[encoded data removed]",
      "text/plain": [
       "<matplotlib.figure.Figure at 0x208a2893320>"
      ]
     },
     "metadata": {},
     "output_type": "display_data"
    }
   ],
   "source": [
    "ldoce.length_boxplot()"
   ]
  },
  {
   "cell_type": "code",
   "execution_count": 13,
   "metadata": {
    "collapsed": false
   },
   "outputs": [
    {
     "name": "stdout",
     "output_type": "stream",
     "text": [
      "1\n",
      "5.0\n",
      "7.0\n",
      "7.0\n",
      "9.0\n",
      "17\n",
      "6.93752969121\n",
      "2.57202981427\n"
     ]
    }
   ],
   "source": [
    "data = [len(x) for x in ldoce.all]\n",
    "print(np.min(data))\n",
    "print(np.percentile(data, 25))\n",
    "print(np.percentile(data, 50))\n",
    "print(np.median(data))\n",
    "print(np.percentile(data, 75))\n",
    "print(np.max(data))\n",
    "print(np.mean(data))\n",
    "print(np.std(data))"
   ]
  },
  {
   "cell_type": "code",
   "execution_count": 15,
   "metadata": {
    "collapsed": false
   },
   "outputs": [
    {
     "data": {
      "image/png": "[encoded data removed]",
      "text/plain": [
       "<matplotlib.figure.Figure at 0x208a3345588>"
      ]
     },
     "metadata": {},
     "output_type": "display_data"
    }
   ],
   "source": [
    "plt.boxplot(data, showfliers=False)\n",
    "plt.show()"
   ]
  },
  {
   "cell_type": "code",
   "execution_count": 16,
   "metadata": {
    "collapsed": false
   },
   "outputs": [
    {
     "data": {
      "text/plain": [
       "1.23"
      ]
     },
     "execution_count": 16,
     "metadata": {},
     "output_type": "execute_result"
    }
   ],
   "source": [
    "round(1.2345, 2)"
   ]
  },
  {
   "cell_type": "code",
   "execution_count": null,
   "metadata": {
    "collapsed": true
   },
   "outputs": [],
   "source": []
  }
 ],
 "metadata": {
  "kernelspec": {
   "display_name": "Python [conda root]",
   "language": "python",
   "name": "conda-root-py"
  },
  "language_info": {
   "codemirror_mode": {
    "name": "ipython",
    "version": 3
   },
   "file_extension": ".py",
   "mimetype": "text/x-python",
   "name": "python",
   "nbconvert_exporter": "python",
   "pygments_lexer": "ipython3",
   "version": "3.5.2"
  }
 },
 "nbformat": 4,
 "nbformat_minor": 1
}
