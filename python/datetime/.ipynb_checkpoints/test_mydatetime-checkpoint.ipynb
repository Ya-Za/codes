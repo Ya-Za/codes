{
 "cells": [
  {
   "cell_type": "markdown",
   "metadata": {},
   "source": [
    "## Class MyDateTime"
   ]
  },
  {
   "cell_type": "markdown",
   "metadata": {},
   "source": [
    "## Qestions\n",
    "1. differences between class methods and static methods\n",
    "1. read only static properties\n",
    "1. closure\n",
    "1. decoraters"
   ]
  },
  {
   "cell_type": "markdown",
   "metadata": {},
   "source": [
    "## 2do\n",
    "1. seasons\n",
    "2. day of week (Monday, Sun, ...)\n",
    "3. local time\n",
    "4. Add\n",
    "5. Subtract\n",
    "6. Now"
   ]
  },
  {
   "cell_type": "code",
   "execution_count": 29,
   "metadata": {
    "collapsed": true
   },
   "outputs": [],
   "source": [
    "class MyDateTime:\n",
    "    ms_per_leap_year = MyDateTime.d_to_ms(366)\n",
    "    ms_per_common_year = MyDateTime.d_to_ms(365)\n",
    "    \n",
    "    def __init__(self):\n",
    "        self.monthes = [\n",
    "            {'name': 'January', 'days': 31},\n",
    "            {'name': 'February', 'days': 28},\n",
    "            {'name': 'March', 'days': 31},\n",
    "            {'name': 'April', 'days': 30},\n",
    "            {'name': 'May', 'days': 31},\n",
    "            {'name': 'June', 'days': 30},\n",
    "            {'name': 'July', 'days': 31},\n",
    "            {'name': 'August', 'days': 31},\n",
    "            {'name': 'September', 'days': 30},\n",
    "            {'name': 'October', 'days': 31},\n",
    "            {'name': 'November', 'days': 30},\n",
    "            {'name': 'December', 'days': 31}\n",
    "        ]\n",
    "        \n",
    "        self.clear()\n",
    "    \n",
    "    def clear(self):\n",
    "        self.year = 0\n",
    "        self.month = 0\n",
    "        self.day = 0\n",
    "        self.hour = 0\n",
    "        self.minute = 0\n",
    "        self.second = 0\n",
    "        self.millisecond = 0\n",
    "    \n",
    "    def datetime_to_ms(self):\n",
    "        n = 0\n",
    "        \n",
    "        # year\n",
    "        for y in range(self.year):\n",
    "            if MyDateTime.is_leap_year(y):\n",
    "                n += MyDateTime.ms_per_leap_year\n",
    "            else:\n",
    "                n += MyDateTime.ms_per_common_year\n",
    "                \n",
    "        # monthes\n",
    "        if MyDateTime.is_leap_year(self.year):\n",
    "            self.monthes[1]['days'] = 29\n",
    "        else:\n",
    "            self.monthes[1]['days'] = 28\n",
    "        \n",
    "        for m in range(self.month):\n",
    "            n += self.monthes[m]['days']\n",
    "        \n",
    "        # days\n",
    "        n += MyDateTime.d_to_ms(self.day)\n",
    "        \n",
    "        # hours\n",
    "        n += MyDateTime.h_to_ms(self.hour)\n",
    "        \n",
    "        # minutes\n",
    "        n += MyDateTime.m_to_ms(self.minute)\n",
    "        \n",
    "        # seconds\n",
    "        n += MyDateTime.s_to_ms(self.second)\n",
    "        \n",
    "        # milliseconds\n",
    "        n += self.millisecond\n",
    "        \n",
    "        return n\n",
    "    \n",
    "    def add_ms(self, n):\n",
    "        n += self.datetime_to_ms()\n",
    "        self.clear()\n",
    "        \n",
    "        # years\n",
    "        while True:\n",
    "            if MyDateTime.is_leap_year(self.year + 1):\n",
    "                ms_per_year = MyDateTime.ms_per_leap_year\n",
    "            else:\n",
    "                ms_per_year = MyDateTime.ms_per_common_year\n",
    "            \n",
    "            if n > ms_per_year:\n",
    "                n -= ms_per_year\n",
    "                self.year += 1\n",
    "            else:\n",
    "                break\n",
    "\n",
    "        # monthes\n",
    "        if MyDateTime.is_leap_year(self.year):\n",
    "            self.monthes[1]['days'] = 29\n",
    "        else:\n",
    "            self.monthes[1]['days'] = 28\n",
    "        \n",
    "        for m in self.monthes:\n",
    "            ms_per_month = MyDateTime.d_to_ms(m['days'])\n",
    "            if n > ms_per_month:\n",
    "                n -= ms_per_month\n",
    "                self.month += 1\n",
    "            else:\n",
    "                break\n",
    "                \n",
    "        # days\n",
    "        (self.day, n) = divmod(n, MyDateTime.d_to_ms(1))\n",
    "        \n",
    "        # hours\n",
    "        (self.hour, n) = divmod(n, MyDateTime.h_to_ms(1))\n",
    "        \n",
    "        # minutes\n",
    "        (self.minute, n) = divmod(n, MyDateTime.m_to_ms(1))\n",
    "        \n",
    "        # seconds\n",
    "        (self.second, n) = divmod(n, MyDateTime.s_to_ms(1))\n",
    "        \n",
    "        # milliseconds\n",
    "        self.millisecond = n\n",
    "    \n",
    "    def __str__(self):\n",
    "        return '{:0>4}-{:0>2}-{:0>2} {:0>2}:{:0>2}:{:0>2}:{:0>3}'.format(\n",
    "            self.year, \n",
    "            self.month, \n",
    "            self.day, \n",
    "            self.hour, \n",
    "            self.minute, \n",
    "            self.second, \n",
    "            self.millisecond\n",
    "        )\n",
    "    \n",
    "    def __sub__(self, other):\n",
    "        return self.datetime_to_ms() - other.datetime_to_ms()\n",
    "    \n",
    "    def is_leap_year(year):\n",
    "        if year % 400 == 0:\n",
    "            return True\n",
    "        if year % 100 == 0:\n",
    "            return False\n",
    "        if year % 4 == 0:\n",
    "            return True\n",
    "        return False\n",
    "    \n",
    "    def s_to_ms(s):\n",
    "        return s * 1000\n",
    "    def m_to_ms(m):\n",
    "        return m * MyDateTime.s_to_ms(60)\n",
    "    def h_to_ms(h):\n",
    "        return h * MyDateTime.m_to_ms(60)\n",
    "    def d_to_ms(d):\n",
    "        return d * MyDateTime.h_to_ms(24)\n"
   ]
  },
  {
   "cell_type": "code",
   "execution_count": null,
   "metadata": {
    "collapsed": true
   },
   "outputs": [],
   "source": []
  },
  {
   "cell_type": "code",
   "execution_count": 28,
   "metadata": {
    "collapsed": false
   },
   "outputs": [
    {
     "name": "stdout",
     "output_type": "stream",
     "text": [
      "1970-11-31 00:00:00:000\n"
     ]
    }
   ],
   "source": [
    "dt = MyDateTime(MyDateTime.d_to_ms(365))\n",
    "print(dt)"
   ]
  }
 ],
 "metadata": {
  "kernelspec": {
   "display_name": "Python 3",
   "language": "python",
   "name": "python3"
  },
  "language_info": {
   "codemirror_mode": {
    "name": "ipython",
    "version": 3
   },
   "file_extension": ".py",
   "mimetype": "text/x-python",
   "name": "python",
   "nbconvert_exporter": "python",
   "pygments_lexer": "ipython3",
   "version": "3.5.2"
  }
 },
 "nbformat": 4,
 "nbformat_minor": 0
}
