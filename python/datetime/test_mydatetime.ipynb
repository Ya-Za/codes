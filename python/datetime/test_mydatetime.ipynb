{
 "cells": [
  {
   "cell_type": "markdown",
   "metadata": {},
   "source": [
    "## Class MyDateTime"
   ]
  },
  {
   "cell_type": "markdown",
   "metadata": {},
   "source": [
    "## Qestions\n",
    "1. static constructor\n",
    "1. differences between class methods and static methods\n",
    "1. read only static properties\n",
    "1. closure\n",
    "1. decoraters\n",
    "1. Implement Basic operation in CPU\n",
    "    1. +\n",
    "    1. -\n",
    "    1. *\n",
    "    1. /"
   ]
  },
  {
   "cell_type": "markdown",
   "metadata": {},
   "source": [
    "## 2do\n",
    "1. seasons\n",
    "2. day of week (Monday, Sun, ...)\n",
    "3. local time\n",
    "4. Add\n",
    "5. Subtract\n",
    "6. Now"
   ]
  },
  {
   "cell_type": "code",
   "execution_count": 38,
   "metadata": {
    "collapsed": false
   },
   "outputs": [],
   "source": [
    "from mydatetime import *"
   ]
  },
  {
   "cell_type": "code",
   "execution_count": 39,
   "metadata": {
    "collapsed": false
   },
   "outputs": [
    {
     "name": "stdout",
     "output_type": "stream",
     "text": [
      "0001-00-00 00:00:00:000\n",
      "31622400000\n",
      "0001-00-01 00:00:00:000\n"
     ]
    }
   ],
   "source": [
    "dt = MyDateTime()\n",
    "dt.year = 1\n",
    "dt.month = 0\n",
    "dt.day = 0\n",
    "print(dt)\n",
    "print(dt.datetime_to_ms())\n",
    "dt2 = MyDateTime()\n",
    "dt2.add_ms(dt.datetime_to_ms())\n",
    "print(dt2)"
   ]
  }
 ],
 "metadata": {
  "kernelspec": {
   "display_name": "Python 3",
   "language": "python",
   "name": "python3"
  },
  "language_info": {
   "codemirror_mode": {
    "name": "ipython",
    "version": 3
   },
   "file_extension": ".py",
   "mimetype": "text/x-python",
   "name": "python",
   "nbconvert_exporter": "python",
   "pygments_lexer": "ipython3",
   "version": "3.5.2"
  }
 },
 "nbformat": 4,
 "nbformat_minor": 0
}
