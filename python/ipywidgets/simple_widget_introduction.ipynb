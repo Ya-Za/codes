{
 "cells": [
  {
   "cell_type": "code",
   "execution_count": 15,
   "metadata": {
    "collapsed": true
   },
   "outputs": [],
   "source": [
    "from ipywidgets import *\n",
    "from IPython.display import display\n",
    "from traitlets import link"
   ]
  },
  {
   "cell_type": "code",
   "execution_count": 2,
   "metadata": {
    "collapsed": true
   },
   "outputs": [],
   "source": [
    "IntSlider()"
   ]
  },
  {
   "cell_type": "code",
   "execution_count": 4,
   "metadata": {
    "collapsed": true
   },
   "outputs": [],
   "source": [
    "w = IntSlider()\n",
    "display(w)"
   ]
  },
  {
   "cell_type": "code",
   "execution_count": 5,
   "metadata": {
    "collapsed": true
   },
   "outputs": [],
   "source": [
    "display(w)"
   ]
  },
  {
   "cell_type": "code",
   "execution_count": 6,
   "metadata": {
    "collapsed": true
   },
   "outputs": [],
   "source": [
    "w.close()"
   ]
  },
  {
   "cell_type": "code",
   "execution_count": 8,
   "metadata": {
    "collapsed": false
   },
   "outputs": [],
   "source": [
    "w = IntSlider()\n",
    "display(w)"
   ]
  },
  {
   "cell_type": "code",
   "execution_count": 10,
   "metadata": {
    "collapsed": false
   },
   "outputs": [
    {
     "data": {
      "text/plain": [
       "0"
      ]
     },
     "execution_count": 10,
     "metadata": {},
     "output_type": "execute_result"
    }
   ],
   "source": [
    "w.value"
   ]
  },
  {
   "cell_type": "code",
   "execution_count": 11,
   "metadata": {
    "collapsed": true
   },
   "outputs": [],
   "source": [
    "w.value = 50"
   ]
  },
  {
   "cell_type": "code",
   "execution_count": 12,
   "metadata": {
    "collapsed": false
   },
   "outputs": [
    {
     "data": {
      "text/plain": [
       "['_range',\n",
       " 'background_color',\n",
       " 'disabled',\n",
       " '_view_module',\n",
       " 'layout',\n",
       " 'step',\n",
       " 'max',\n",
       " 'description',\n",
       " 'visible',\n",
       " 'color',\n",
       " 'font_weight',\n",
       " 'font_size',\n",
       " 'orientation',\n",
       " '_dom_classes',\n",
       " 'min',\n",
       " '_view_name',\n",
       " 'readout_format',\n",
       " 'font_family',\n",
       " 'value',\n",
       " '_model_module',\n",
       " 'msg_throttle',\n",
       " 'font_style',\n",
       " '_model_name',\n",
       " 'slider_color',\n",
       " 'readout',\n",
       " 'continuous_update']"
      ]
     },
     "execution_count": 12,
     "metadata": {},
     "output_type": "execute_result"
    }
   ],
   "source": [
    "w.keys"
   ]
  },
  {
   "cell_type": "code",
   "execution_count": 14,
   "metadata": {
    "collapsed": false
   },
   "outputs": [],
   "source": [
    "Text(value='Hello, world!', disabled=True)"
   ]
  },
  {
   "cell_type": "code",
   "execution_count": 22,
   "metadata": {
    "collapsed": true
   },
   "outputs": [],
   "source": [
    "a = FloatText()\n",
    "b = FloatSlider()\n",
    "display(a, b)\n",
    "\n",
    "mylink = link((a, 'value'), (b, 'value'))"
   ]
  },
  {
   "cell_type": "code",
   "execution_count": 23,
   "metadata": {
    "collapsed": true
   },
   "outputs": [],
   "source": [
    "mylink.unlink()"
   ]
  },
  {
   "cell_type": "code",
   "execution_count": null,
   "metadata": {
    "collapsed": true
   },
   "outputs": [],
   "source": []
  }
 ],
 "metadata": {
  "anaconda-cloud": {},
  "kernelspec": {
   "display_name": "Python [conda root]",
   "language": "python",
   "name": "conda-root-py"
  },
  "language_info": {
   "codemirror_mode": {
    "name": "ipython",
    "version": 3
   },
   "file_extension": ".py",
   "mimetype": "text/x-python",
   "name": "python",
   "nbconvert_exporter": "python",
   "pygments_lexer": "ipython3",
   "version": "3.5.2"
  },
  "widgets": {
   "state": {
    "40f3c4fcd20f4a94abcf440ab9ea7e2c": {
     "views": [
      {
       "cell_index": 10
      }
     ]
    },
    "8137e4b2f3b140fdbb683b1241e8373d": {
     "views": [
      {
       "cell_index": 9
      }
     ]
    },
    "859cd47809ac4ca0aeb2085aa24d3dc8": {
     "views": [
      {
       "cell_index": 10
      }
     ]
    },
    "a8e515c7a4e54e16b3d16ec34f6c6cef": {
     "views": [
      {
       "cell_index": 10
      }
     ]
    },
    "b31aedd415cf493a9d54b2f6927f1060": {
     "views": [
      {
       "cell_index": 1
      }
     ]
    },
    "b81ad2ea4b074c2493bd35ca1fa13a6c": {
     "views": [
      {
       "cell_index": 10
      }
     ]
    },
    "d2da7d7247c248dda1158e89a9e95645": {
     "views": [
      {
       "cell_index": 5
      }
     ]
    }
   },
   "version": "1.2.0"
  }
 },
 "nbformat": 4,
 "nbformat_minor": 1
}
