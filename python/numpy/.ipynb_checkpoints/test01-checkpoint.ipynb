{
 "cells": [
  {
   "cell_type": "code",
   "execution_count": 1,
   "metadata": {
    "collapsed": true
   },
   "outputs": [],
   "source": [
    "from pprint import pprint"
   ]
  },
  {
   "cell_type": "markdown",
   "metadata": {},
   "source": [
    "## Define variables\n",
    "**Data types:**\n",
    "1. number\n",
    "1. string\n",
    "1. boolean (true, false)\n",
    "1. null\n",
    "1. array\n",
    "1. tuple\n",
    "1. dictionary"
   ]
  },
  {
   "cell_type": "code",
   "execution_count": 2,
   "metadata": {
    "collapsed": false
   },
   "outputs": [
    {
     "name": "stdout",
     "output_type": "stream",
     "text": [
      "int\n"
     ]
    }
   ],
   "source": [
    "x = 2\n",
    "print(type(x).__name__)"
   ]
  },
  {
   "cell_type": "code",
   "execution_count": 3,
   "metadata": {
    "collapsed": false
   },
   "outputs": [
    {
     "name": "stdout",
     "output_type": "stream",
     "text": [
      "str\n"
     ]
    }
   ],
   "source": [
    "x = 'Hello, World!'\n",
    "print(type(x).__name__)"
   ]
  },
  {
   "cell_type": "code",
   "execution_count": 4,
   "metadata": {
    "collapsed": false
   },
   "outputs": [
    {
     "name": "stdout",
     "output_type": "stream",
     "text": [
      "bool\n"
     ]
    }
   ],
   "source": [
    "x = True\n",
    "print(type(x).__name__)"
   ]
  },
  {
   "cell_type": "code",
   "execution_count": 5,
   "metadata": {
    "collapsed": false
   },
   "outputs": [
    {
     "name": "stdout",
     "output_type": "stream",
     "text": [
      "NoneType\n"
     ]
    }
   ],
   "source": [
    "x = None\n",
    "print(type(x).__name__)"
   ]
  },
  {
   "cell_type": "code",
   "execution_count": 6,
   "metadata": {
    "collapsed": false
   },
   "outputs": [
    {
     "name": "stdout",
     "output_type": "stream",
     "text": [
      "list\n"
     ]
    }
   ],
   "source": [
    "x = [1, 2, 3, 4]\n",
    "print(type(x).__name__)"
   ]
  },
  {
   "cell_type": "code",
   "execution_count": 7,
   "metadata": {
    "collapsed": false
   },
   "outputs": [
    {
     "name": "stdout",
     "output_type": "stream",
     "text": [
      "tuple\n"
     ]
    }
   ],
   "source": [
    "x = (1, 2, 3, 4)\n",
    "print(type(x).__name__)"
   ]
  },
  {
   "cell_type": "code",
   "execution_count": 8,
   "metadata": {
    "collapsed": false
   },
   "outputs": [
    {
     "name": "stdout",
     "output_type": "stream",
     "text": [
      "dict\n"
     ]
    }
   ],
   "source": [
    "x = {'name': 'Yasin', 'age': 18}\n",
    "print(type(x).__name__)"
   ]
  },
  {
   "cell_type": "code",
   "execution_count": 9,
   "metadata": {
    "collapsed": false
   },
   "outputs": [
    {
     "name": "stdout",
     "output_type": "stream",
     "text": [
      "dict\n"
     ]
    }
   ],
   "source": [
    "x = dict(name='Yasin', age=18)\n",
    "print(type(x).__name__)"
   ]
  },
  {
   "cell_type": "markdown",
   "metadata": {},
   "source": [
    "## Condition\n",
    "1. if, elif, else\n",
    "1. switch case"
   ]
  },
  {
   "cell_type": "code",
   "execution_count": 10,
   "metadata": {
    "collapsed": false
   },
   "outputs": [
    {
     "name": "stdout",
     "output_type": "stream",
     "text": [
      "4 is grater than or equal to 4\n"
     ]
    }
   ],
   "source": [
    "x = 4\n",
    "if x < 2:\n",
    "    print(x, 'is less than 2')\n",
    "elif x < 4:\n",
    "    print(x, 'is greater than or equal to 2 and less than 4')\n",
    "else:\n",
    "    print(x, 'is grater than or equal to 4')"
   ]
  },
  {
   "cell_type": "code",
   "execution_count": 11,
   "metadata": {
    "collapsed": false
   },
   "outputs": [
    {
     "name": "stdout",
     "output_type": "stream",
     "text": [
      "you typed 9\n"
     ]
    }
   ],
   "source": [
    "def one(): print('you typed 1')\n",
    "def three(): print('you typed 3')\n",
    "def nine(): print('you typed 9')\n",
    "cases = {1: one, 3:three, 9:nine}\n",
    "\n",
    "cases[9]()"
   ]
  },
  {
   "cell_type": "markdown",
   "metadata": {},
   "source": [
    "## Loop\n",
    "1. for\n",
    "1. while"
   ]
  },
  {
   "cell_type": "code",
   "execution_count": 12,
   "metadata": {
    "collapsed": false
   },
   "outputs": [
    {
     "name": "stdout",
     "output_type": "stream",
     "text": [
      "0 1 2 3 4 5 6 7 8 9 "
     ]
    }
   ],
   "source": [
    "for i in range(10):\n",
    "    print(i, end = ' ')"
   ]
  },
  {
   "cell_type": "code",
   "execution_count": 13,
   "metadata": {
    "collapsed": false
   },
   "outputs": [
    {
     "name": "stdout",
     "output_type": "stream",
     "text": [
      "0 1 2 3 4 5 6 7 8 9 "
     ]
    }
   ],
   "source": [
    "i = 0\n",
    "while i < 10:\n",
    "    print(i, end = ' ')\n",
    "    i +=1"
   ]
  },
  {
   "cell_type": "markdown",
   "metadata": {},
   "source": [
    "## Define Function\n",
    "1. required arguments\n",
    "1. default arguments\n",
    "1. keyword arguments\n",
    "1. variable-length arguments\n",
    "1. Anonymous function"
   ]
  },
  {
   "cell_type": "code",
   "execution_count": 14,
   "metadata": {
    "collapsed": false
   },
   "outputs": [
    {
     "name": "stdout",
     "output_type": "stream",
     "text": [
      "5\n",
      "Nmae: Yasin, Age: 10\n"
     ]
    }
   ],
   "source": [
    "def add(x, y):\n",
    "    return x + y\n",
    "\n",
    "print(add(2, 3))\n",
    "\n",
    "def printinfo(name, age):\n",
    "    print('Nmae: {}, Age: {}'.format(name, age))\n",
    "    \n",
    "printinfo(age = 10, name = 'Yasin')"
   ]
  },
  {
   "cell_type": "code",
   "execution_count": 15,
   "metadata": {
    "collapsed": false
   },
   "outputs": [
    {
     "name": "stdout",
     "output_type": "stream",
     "text": [
      "6\n",
      "3\n"
     ]
    }
   ],
   "source": [
    "def multiplay(x, y = 1):\n",
    "    return x * y\n",
    "\n",
    "print(multiplay(3, 2))\n",
    "print(multiplay(3))"
   ]
  },
  {
   "cell_type": "code",
   "execution_count": 16,
   "metadata": {
    "collapsed": false
   },
   "outputs": [
    {
     "data": {
      "text/plain": [
       "10"
      ]
     },
     "execution_count": 16,
     "metadata": {},
     "output_type": "execute_result"
    }
   ],
   "source": [
    "def sum(*args):\n",
    "    res = 0;\n",
    "    for x in args:\n",
    "        res += x\n",
    "    return res\n",
    "\n",
    "sum(1, 2, 3, 4)"
   ]
  },
  {
   "cell_type": "code",
   "execution_count": 17,
   "metadata": {
    "collapsed": false
   },
   "outputs": [
    {
     "name": "stdout",
     "output_type": "stream",
     "text": [
      "name: Yasin\n",
      "id_: 12345\n",
      "age: 10\n"
     ]
    }
   ],
   "source": [
    "def printinfo(**kwargs):\n",
    "    for key in kwargs:\n",
    "        print('{}: {}'.format(key, kwargs[key]))\n",
    "        \n",
    "printinfo(name='Yasin', age=10, id_=12345)"
   ]
  },
  {
   "cell_type": "code",
   "execution_count": 18,
   "metadata": {
    "collapsed": false
   },
   "outputs": [
    {
     "name": "stdout",
     "output_type": "stream",
     "text": [
      "5\n"
     ]
    }
   ],
   "source": [
    "add = lambda x, y: x + y\n",
    "print(add(2, 3))"
   ]
  },
  {
   "cell_type": "markdown",
   "metadata": {},
   "source": [
    "## Class\n",
    "1. members\n",
    "    1. properties\n",
    "        1. instance\n",
    "        1. class\n",
    "    1. methods\n",
    "        1. constructor\n",
    "        1. instance\n",
    "        1. class\n",
    "1. inheritence\n",
    "1. print member of class"
   ]
  },
  {
   "cell_type": "code",
   "execution_count": 75,
   "metadata": {
    "collapsed": false
   },
   "outputs": [
    {
     "name": "stdout",
     "output_type": "stream",
     "text": [
      "Name: Yasin, Age: 10, ID: 02436908\n",
      "1\n",
      "Name: Ali, Age: 11, ID: 12345678\n",
      "2\n",
      "mappingproxy({'Number': 2,\n",
      "              '__doc__': None,\n",
      "              '__init__': <function Student.__init__ at 0x000001D96FD03950>,\n",
      "              '__module__': '__main__',\n",
      "              '__str__': <function Student.__str__ at 0x000001D96FD038C8>,\n",
      "              'print_number': <function Student.print_number at 0x000001D96FD03730>})\n",
      "{'age': 10, 'id_': '02436908', 'name': 'Yasin'}\n",
      "{'age': 11, 'id_': '12345678', 'name': 'Ali'}\n"
     ]
    }
   ],
   "source": [
    "class Person():\n",
    "    '''Person Class'''\n",
    "    def __init__(self, name, age):\n",
    "        self.name = name\n",
    "        self.age = age\n",
    "        \n",
    "    def __str__(self):\n",
    "        return 'Name: {}, Age: {}'.format(self.name, self.age)\n",
    "        \n",
    "class Student(Person):\n",
    "    '''Student Class'''\n",
    "    Number = 0\n",
    "    def __init__(self, name, age, id_):\n",
    "        super().__init__(name, age)\n",
    "        self.id_ = id_\n",
    "        Student.Number += 1\n",
    "        \n",
    "    def __str__(self):\n",
    "        return '{}, ID: {}'.format(super().__str__(), self.id_)\n",
    "    \n",
    "    def print_number():\n",
    "        print('Number:', Student.Number)\n",
    "        \n",
    "s1 = Student('Yasin', 10, '02436908')\n",
    "print(s1)\n",
    "print(Student.Number)\n",
    "s2 = Student('Ali', 11, '12345678')\n",
    "print(s2)\n",
    "print(Student.Number)\n",
    "pprint(Student.__dict__)\n",
    "pprint(s1.__dict__)\n",
    "pprint(s2.__dict__)"
   ]
  },
  {
   "cell_type": "code",
   "execution_count": null,
   "metadata": {
    "collapsed": true
   },
   "outputs": [],
   "source": []
  },
  {
   "cell_type": "markdown",
   "metadata": {},
   "source": [
    "## List\n",
    "1. create\n",
    "1. read\n",
    "1. update\n",
    "1. delete"
   ]
  },
  {
   "cell_type": "code",
   "execution_count": 20,
   "metadata": {
    "collapsed": false
   },
   "outputs": [
    {
     "name": "stdout",
     "output_type": "stream",
     "text": [
      "[1, 2, 3, 4, 5]\n",
      "[0, 1, 2, 3, 4]\n",
      "[0, 1, 2, 3, 4]\n",
      "[0, 1, 2, 3, 4]\n"
     ]
    }
   ],
   "source": [
    "l = [1, 2, 3, 4, 5]\n",
    "print(l)\n",
    "\n",
    "l = list(range(5))\n",
    "print(l)\n",
    "\n",
    "l = []\n",
    "for i in range(5):\n",
    "    l.append(i)\n",
    "print(l)\n",
    "\n",
    "l = [x for x in range(5)]\n",
    "print(l)"
   ]
  },
  {
   "cell_type": "code",
   "execution_count": 21,
   "metadata": {
    "collapsed": false
   },
   "outputs": [
    {
     "name": "stdout",
     "output_type": "stream",
     "text": [
      "10\n",
      "[0, 1, 2, 3, 4, 5, 6, 7, 8, 9]\n",
      "[0, 1, 2, 3, 4, 5, 6, 7, 8, 9]\n",
      "[0, 1, 2, 3, 4, 5, 6, 7, 8, 9]\n",
      "[0, 1, 2, 3, 4, 5, 6, 7, 8, 9]\n",
      "[9, 8, 7, 6, 5, 4, 3, 2, 1, 0]\n",
      "0\n",
      "9\n"
     ]
    }
   ],
   "source": [
    "x = list(range(10))\n",
    "print(len(x))\n",
    "print(x)\n",
    "print(x[:])\n",
    "print(x[::1])\n",
    "print(x[0:])\n",
    "print(x[::-1])\n",
    "print(x[0])\n",
    "print(x[-1])"
   ]
  },
  {
   "cell_type": "code",
   "execution_count": 22,
   "metadata": {
    "collapsed": false
   },
   "outputs": [
    {
     "name": "stdout",
     "output_type": "stream",
     "text": [
      "[0, 1, 2, 3, 4, 5, 6, 7, 8, 9]\n",
      "[0, 1, 2, 3, 4, 5, 6, 7, 8, 9, 10]\n",
      "[0, 1, 2, 3, 4, 5, 6, 7, 8, 9]\n",
      "[0, 1, 2, 3, 4, 5, 6, 7, 8, 9, 10]\n",
      "[0, 1, 2, 3, 4, 5, 6, 7, 8, 9]\n",
      "[0, 1, 2, 3, 4, 5, 6, 7, 8, 9, 10]\n",
      "[0, 1, 2, 3, 4, 5, 6, 7, 8, 9]\n"
     ]
    }
   ],
   "source": [
    "x = list(range(10))\n",
    "print(x)\n",
    "\n",
    "x.append(10)\n",
    "print(x)\n",
    "\n",
    "x.pop()\n",
    "print(x)\n",
    "\n",
    "x += [10]\n",
    "print(x)\n",
    "\n",
    "del x[10]\n",
    "print(x)\n",
    "\n",
    "x.insert(len(x), 10)\n",
    "print(x)\n",
    "\n",
    "x.remove(10)\n",
    "print(x)"
   ]
  },
  {
   "cell_type": "markdown",
   "metadata": {},
   "source": [
    "## Str"
   ]
  },
  {
   "cell_type": "code",
   "execution_count": 23,
   "metadata": {
    "collapsed": false
   },
   "outputs": [
    {
     "name": "stdout",
     "output_type": "stream",
     "text": [
      "13\n",
      "Hello, World!\n",
      "H e l l o ,   W o r l d ! \n",
      "Hello, World!\n",
      "HELLO, WORLD!\n",
      "hello, world!\n",
      "Hello, world!\n"
     ]
    }
   ],
   "source": [
    "s = 'Hello, World!'\n",
    "print(len(s))\n",
    "print(s)\n",
    "for c in s:\n",
    "    print(c, end=' ')\n",
    "print()\n",
    "l = s.split()\n",
    "print(' '.join(l))\n",
    "print(s.upper())\n",
    "print(s.lower())\n",
    "print(s.capitalize())"
   ]
  },
  {
   "cell_type": "markdown",
   "metadata": {},
   "source": [
    "## regex"
   ]
  },
  {
   "cell_type": "code",
   "execution_count": null,
   "metadata": {
    "collapsed": true
   },
   "outputs": [],
   "source": []
  },
  {
   "cell_type": "markdown",
   "metadata": {},
   "source": [
    "## Dict"
   ]
  },
  {
   "cell_type": "code",
   "execution_count": 24,
   "metadata": {
    "collapsed": false
   },
   "outputs": [
    {
     "name": "stdout",
     "output_type": "stream",
     "text": [
      "{'Name': 'Yasin', 'Age': 10}\n",
      "dict_keys(['Name', 'Age'])\n",
      "dict_values(['Yasin', 10])\n",
      "dict_items([('Name', 'Yasin'), ('Age', 10)])\n",
      "{'Name': 'Yasin', 'id_': '123456', 'Age': 10}\n",
      "{}\n",
      "{'Age': 10, 'Name': 'Yasin'}\n"
     ]
    }
   ],
   "source": [
    "d = {'Name': 'Yasin', 'Age': 10}\n",
    "print(d)\n",
    "print(d.keys())\n",
    "print(d.values())\n",
    "print(d.items())\n",
    "d['id_'] = '123456'\n",
    "print(d)\n",
    "\n",
    "d = {}\n",
    "print(d)\n",
    "d = dict(Name='Yasin', Age=10)\n",
    "print(d)"
   ]
  },
  {
   "cell_type": "markdown",
   "metadata": {},
   "source": [
    "## File\n",
    "1. read\n",
    "1. write\n",
    "1. append\n",
    "1. csv\n",
    "1. json"
   ]
  },
  {
   "cell_type": "code",
   "execution_count": 25,
   "metadata": {
    "collapsed": false
   },
   "outputs": [
    {
     "name": "stdout",
     "output_type": "stream",
     "text": [
      "Thsi is line 1.\n",
      "This is line 2.\n",
      "This is line 3.\n",
      "\n"
     ]
    }
   ],
   "source": [
    "f = open('./input.txt')\n",
    "print(f.read())\n",
    "f.close()"
   ]
  },
  {
   "cell_type": "code",
   "execution_count": 26,
   "metadata": {
    "collapsed": false
   },
   "outputs": [
    {
     "name": "stdout",
     "output_type": "stream",
     "text": [
      "['Thsi is line 1.\\n', 'This is line 2.\\n', 'This is line 3.\\n']\n"
     ]
    }
   ],
   "source": [
    "f = open('./input.txt')\n",
    "print(f.readlines())\n",
    "f.close()"
   ]
  },
  {
   "cell_type": "code",
   "execution_count": 29,
   "metadata": {
    "collapsed": false
   },
   "outputs": [
    {
     "name": "stdout",
     "output_type": "stream",
     "text": [
      "Thsi is line 1.\n",
      "This is line 2.\n",
      "This is line 3.\n"
     ]
    }
   ],
   "source": [
    "f = open('./input.txt')\n",
    "while True:\n",
    "    s = f.readline()\n",
    "    if s == '':\n",
    "        break\n",
    "    print(s, end='')\n",
    "f.close()"
   ]
  },
  {
   "cell_type": "code",
   "execution_count": 28,
   "metadata": {
    "collapsed": false
   },
   "outputs": [
    {
     "name": "stdout",
     "output_type": "stream",
     "text": [
      "Thsi is line 1.\n",
      "This is line 2.\n",
      "This is line 3.\n"
     ]
    }
   ],
   "source": [
    "for l in open('./input.txt'):\n",
    "    print(l, end='')"
   ]
  },
  {
   "cell_type": "code",
   "execution_count": 31,
   "metadata": {
    "collapsed": false
   },
   "outputs": [
    {
     "name": "stdout",
     "output_type": "stream",
     "text": [
      "This is lien 1.\n",
      "This is line 2.\n",
      "This is line 3.\n",
      "\n"
     ]
    }
   ],
   "source": [
    "f = open('./output.txt', 'w')\n",
    "f.write('This is lien 1.\\nThis is line 2.\\nThis is line 3.\\n')\n",
    "f.close()\n",
    "\n",
    "print(open('./output.txt').read())"
   ]
  },
  {
   "cell_type": "code",
   "execution_count": 32,
   "metadata": {
    "collapsed": false
   },
   "outputs": [
    {
     "name": "stdout",
     "output_type": "stream",
     "text": [
      "This is lien 1.\n",
      "This is line 2.\n",
      "This is line 3.\n",
      "This is lien 4.\n",
      "\n"
     ]
    }
   ],
   "source": [
    "f = open('./output.txt', 'a')\n",
    "f.write('This is lien 4.\\n')\n",
    "f.close()\n",
    "\n",
    "print(open('./output.txt').read())"
   ]
  },
  {
   "cell_type": "code",
   "execution_count": 37,
   "metadata": {
    "collapsed": false
   },
   "outputs": [
    {
     "name": "stdout",
     "output_type": "stream",
     "text": [
      "[['ali', '10'], ['hassan', '13'], ['marry', '14']]\n"
     ]
    }
   ],
   "source": [
    "l = []\n",
    "for line in open('./comma.csv'):\n",
    "    l.append([x.strip() for x in line.split(',')])\n",
    "print(l)"
   ]
  },
  {
   "cell_type": "code",
   "execution_count": 44,
   "metadata": {
    "collapsed": false
   },
   "outputs": [
    {
     "name": "stdout",
     "output_type": "stream",
     "text": [
      "['ali', ' 10']\n",
      "['hassan', ' 13']\n",
      "['marry', ' 14']\n"
     ]
    }
   ],
   "source": [
    "import csv\n",
    "l = []\n",
    "with open('./comma.csv') as f:\n",
    "    reader = csv.reader(f, delimiter=',')\n",
    "    for row in reader:\n",
    "        print(row)"
   ]
  },
  {
   "cell_type": "code",
   "execution_count": 46,
   "metadata": {
    "collapsed": false
   },
   "outputs": [
    {
     "name": "stdout",
     "output_type": "stream",
     "text": [
      "[['ali', ' 10'], ['hassan', ' 13'], ['marry', ' 14']]\n"
     ]
    }
   ],
   "source": [
    "import csv\n",
    "l = list(csv.reader(open('./comma.csv'), delimiter=','))\n",
    "print(l)"
   ]
  },
  {
   "cell_type": "code",
   "execution_count": 50,
   "metadata": {
    "collapsed": false
   },
   "outputs": [
    {
     "name": "stdout",
     "output_type": "stream",
     "text": [
      "ali, 10\n",
      "hassan, 13\n",
      "marry\n",
      "kami,23\n",
      "\n",
      "\n"
     ]
    }
   ],
   "source": [
    "import csv\n",
    "with open('./comma.csv', 'a') as f:\n",
    "    writer = csv.writer(f)\n",
    "    writer.writerow(['kami', 23])\n",
    "    \n",
    "print(open('./comma.csv').read())"
   ]
  },
  {
   "cell_type": "code",
   "execution_count": 60,
   "metadata": {
    "collapsed": false
   },
   "outputs": [
    {
     "name": "stdout",
     "output_type": "stream",
     "text": [
      "['ali, 10\\n', 'hassan, 13\\n', 'marry\\n', 'kami,23\\n', '\\n']\n",
      "['ali, 10\\n', 'hassan, 13\\n', 'marry\\n', 'kami,23\\n', '\\n']\n",
      "[['ali', ' 10'], ['hassan', ' 13'], ['marry'], ['kami', '23'], []]\n"
     ]
    }
   ],
   "source": [
    "l = list(open('./comma.csv'))\n",
    "print(l)\n",
    "l = open('./comma.csv').readlines()\n",
    "print(l)\n",
    "import csv\n",
    "l = list(csv.reader(open('./comma.csv')))\n",
    "print(l)"
   ]
  },
  {
   "cell_type": "code",
   "execution_count": 62,
   "metadata": {
    "collapsed": false
   },
   "outputs": [
    {
     "name": "stdout",
     "output_type": "stream",
     "text": [
      "{'Age': 10, 'ID': '02436908', 'Nmae': 'Yasin'}\n"
     ]
    }
   ],
   "source": [
    "import json\n",
    "data = {\n",
    "    'Nmae': 'Yasin',\n",
    "    'Age': 10,\n",
    "    'ID': '02436908'\n",
    "}\n",
    "\n",
    "json.dump(data, open('data.json', 'w'))\n",
    "\n",
    "temp = json.load(open('data.json'))\n",
    "pprint(temp)"
   ]
  },
  {
   "cell_type": "code",
   "execution_count": 64,
   "metadata": {
    "collapsed": false
   },
   "outputs": [
    {
     "data": {
      "text/plain": [
       "71458.0"
      ]
     },
     "execution_count": 64,
     "metadata": {},
     "output_type": "execute_result"
    }
   ],
   "source": [
    "2000 * 35.729"
   ]
  },
  {
   "cell_type": "code",
   "execution_count": 67,
   "metadata": {
    "collapsed": false
   },
   "outputs": [
    {
     "data": {
      "text/plain": [
       "7500"
      ]
     },
     "execution_count": 67,
     "metadata": {},
     "output_type": "execute_result"
    }
   ],
   "source": [
    "3 * (500 + 1400 + 600)"
   ]
  }
 ],
 "metadata": {
  "kernelspec": {
   "display_name": "Python 3",
   "language": "python",
   "name": "python3"
  },
  "language_info": {
   "codemirror_mode": {
    "name": "ipython",
    "version": 3
   },
   "file_extension": ".py",
   "mimetype": "text/x-python",
   "name": "python",
   "nbconvert_exporter": "python",
   "pygments_lexer": "ipython3",
   "version": "3.5.2"
  }
 },
 "nbformat": 4,
 "nbformat_minor": 0
}
