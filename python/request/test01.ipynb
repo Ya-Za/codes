{
 "cells": [
  {
   "cell_type": "code",
   "execution_count": 5,
   "metadata": {
    "collapsed": true
   },
   "outputs": [],
   "source": [
    "from pprint import pprint\n",
    "import requests"
   ]
  },
  {
   "cell_type": "code",
   "execution_count": 2,
   "metadata": {
    "collapsed": true
   },
   "outputs": [],
   "source": [
    "page = requests.get('https://www.google.com/')"
   ]
  },
  {
   "cell_type": "code",
   "execution_count": 8,
   "metadata": {
    "collapsed": false
   },
   "outputs": [
    {
     "name": "stdout",
     "output_type": "stream",
     "text": [
      "'https://www.google.com/'\n"
     ]
    }
   ],
   "source": [
    "pprint(page.url)"
   ]
  },
  {
   "cell_type": "code",
   "execution_count": 7,
   "metadata": {
    "collapsed": false
   },
   "outputs": [
    {
     "name": "stdout",
     "output_type": "stream",
     "text": [
      "{'Date': 'Thu, 09 Feb 2017 14:39:20 GMT', 'X-XSS-Protection': '1; mode=block', 'Cache-Control': 'private, max-age=0', 'P3P': 'CP=\"This is not a P3P policy! See https://www.google.com/support/accounts/answer/151657?hl=en for more info.\"', 'Transfer-Encoding': 'chunked', 'Alt-Svc': 'quic=\":443\"; ma=2592000; v=\"35,34\"', 'Set-Cookie': 'NID=96=o3-N5GFkuLhjtocgaot_TMPwBwlVoOJg8IrHs6vy322btOUeTPFHDV4Z09oDZGxrAuoNhCAppIed0nCLmX71ypVwOiBK7jH0IYX2uJ84Cw_9KZXiBS7mOk0TsgRy2Z7c7s1nyUSN4VPqAxc; expires=Fri, 11-Aug-2017 14:39:20 GMT; path=/; domain=.google.com; HttpOnly', 'Expires': '-1', 'X-Frame-Options': 'SAMEORIGIN', 'Content-Encoding': 'gzip', 'Content-Type': 'text/html; charset=ISO-8859-1', 'Server': 'gws'}\n"
     ]
    }
   ],
   "source": [
    "pprint(page.headers)"
   ]
  },
  {
   "cell_type": "code",
   "execution_count": 9,
   "metadata": {
    "collapsed": false
   },
   "outputs": [
    {
     "name": "stdout",
     "output_type": "stream",
     "text": [
      "(b'<!doctype html><html itemscope=\"\" itemtype=\"http://schema.org/WebPage\" lang='\n",
      " b'\"en-IR\"><head><meta content=\"Search the world\\'s information, including w'\n",
      " b'ebpages, images, videos and more. Google has many special features to help y'\n",
      " b'ou find exactly what you\\'re looking for.\" name=\"description\"><meta conte'\n",
      " b'nt=\"noodp\" name=\"robots\"><meta content=\"text/html; charset=UTF-8\" http-equiv'\n",
      " b'=\"Content-Type\"><meta content=\"/images/branding/googleg/1x/googleg_standard_'\n",
      " b'color_128dp.png\" itemprop=\"image\"><title>Google</title><script>(function(){w'\n",
      " b\"indow.google={kEI:'GH-cWLr-J-Ov6ATU4qSwBQ',kEXPI:'1351903,1352240,1352381,13\"\n",
      " b'52690,1352833,3700257,3700347,4028875,4029815,4032677,4038012,4041899,404349'\n",
      " b'2,4045841,4048347,4062666,4063220,4064904,4065787,4067858,4069838,4069840,40'\n",
      " b'71842,4072126,4072775,4073405,4073728,4073959,4076096,4076931,4076997,407843'\n",
      " b'0,4078438,4079105,4079894,4081038,4082446,4082619,4083474,4085413,4085627,40'\n",
      " b'86011,4086072,4086074,4086699,4088341,4088429,4088525,4089092,4089118,408918'\n",
      " b'1,4089913,4090352,4090414,4090547,4090549,4090657,4090806,4090893,4091068,40'\n",
      " b'91966,4092309,4092474,4092478,4092897,4092934,4093172,4093318,4093498,409394'\n",
      " b'8,4094158,4094168,4094251,4094769,4094997,4095245,4095381,4095905,4095998,40'\n",
      " b'96392,4096742,4096948,8300096,8300272,8300505,8507380,8507419,8508623,102000'\n",
      " b\"83',authuser:0,kscs:'c9c918f0_24'};google.kHL='en-IR';})();(function(){googl\"\n",
      " b'e.lc=[];google.li=0;google.getEI=function(a){for(var b;a&&(!a.getAttribute||'\n",
      " b'!(b=a.getAttribute(\"eid\")));)a=a.parentNode;return b||google.kEI};google.get'\n",
      " b'LEI=function(a){for(var b=null;a&&(!a.getAttribute||!(b=a.getAttribute(\"leid'\n",
      " b'\")));)a=a.parentNode;return b};google.https=function(){return\"https:\"==windo'\n",
      " b'w.location.protocol};google.ml=function(){return null};google.wl=function(a,'\n",
      " b'b){try{google.ml(Error(a),!1,b)}catch(c){}};google.time=function(){return(ne'\n",
      " b'w Date).getTime()};google.log=function(a,b,c,d,g){a=google.logUrl(a,b,c,d,g)'\n",
      " b';if(\"\"!=a){b=new Image;var e=google.lc,f=google.li;e[f]=b;b.onerror=b.onload'\n",
      " b'=b.onabort=function(){delete e[f]};window.google&&window.google.vel&&window.'\n",
      " b'google.vel.lu&&window.google.vel.lu(a);b.src=a;google.li=f+1}};google.logUrl'\n",
      " b'=function(a,b,c,d,g){var e=\"\",f=google.ls||\"\";c||-1!=b.search(\"&ei=\")||(e=\"&'\n",
      " b'ei=\"+google.getEI(d),-1==b.search(\"&lei=\")&&(d=google.getLEI(d))&&(e+=\"&lei='\n",
      " b'\"+d));a=c||\"/\"+(g||\"gen_204\")+\"?atyp=i&ct=\"+a+\"&cad=\"+b+e+f+\"&zx=\"+google.ti'\n",
      " b'me();/^http:/i.test(a)&&google.https()&&(google.ml(Error(\"a\"),!1,{src:a,glmm'\n",
      " b':1}),a=\"\");return a};google.y={};google.x=function(a,b){google.y[a.id]=[a,b]'\n",
      " b';return!1};google.lq=[];google.load=function(a,b,c){google.lq.push([[a],b,c]'\n",
      " b')};google.loadAll=function(a,b){google.lq.push([a,b])};}).call(this);var a=w'\n",
      " b'indow.location,b=a.href.indexOf(\"#\");if(0<=b){var c=a.href.substring(b+1);/('\n",
      " b'^|&)q=/.test(c)&&-1==c.indexOf(\"#\")&&a.replace(\"/search?\"+c.replace(/(^|&)fp'\n",
      " b'=[^&]*/g,\"\")+\"&cad=h\")};</script><style>#gbar,#guser{font-size:13px;padding-'\n",
      " b'top:1px !important;}#gbar{height:22px}#guser{padding-bottom:7px !important;t'\n",
      " b'ext-align:right}.gbh,.gbd{border-top:1px solid #c9d7f1;font-size:1px}.gbh{he'\n",
      " b'ight:0;position:absolute;top:24px;width:100%}@media all{.gb1{height:22px;mar'\n",
      " b'gin-right:.5em;vertical-align:top}#gbar{float:left}}a.gb1,a.gb4{text-decorat'\n",
      " b'ion:underline !important}a.gb1,a.gb4{color:#00c !important}.gbi .gb4{color:#'\n",
      " b'dd8e27 !important}.gbf .gb4{color:#900 !important}\\n</style><style>body,t'\n",
      " b'd,a,p,.h{font-family:arial,sans-serif}body{margin:0;overflow-y:scroll}#gog{p'\n",
      " b'adding:3px 8px 0}td{line-height:.8em}.gac_m td{line-height:17px}form{margin-'\n",
      " b'bottom:20px}.h{color:#36c}.q{color:#00c}.ts td{padding:0}.ts{border-collapse'\n",
      " b':collapse}em{font-weight:bold;font-style:normal}.lst{height:25px;width:496px'\n",
      " b'}.gsfi,.lst{font:18px arial,sans-serif}.gsfs{font:17px arial,sans-serif}.ds{'\n",
      " b'display:inline-box;display:inline-block;margin:3px 0 4px;margin-left:4px}inp'\n",
      " b'ut{font-family:inherit}a.gb1,a.gb2,a.gb3,a.gb4{color:#11c !important}body{ba'\n",
      " b'ckground:#fff;color:black}a{color:#11c;text-decoration:none}a:hover,a:active'\n",
      " b'{text-decoration:underline}.fl a{color:#36c}a:visited{color:#551a8b}a.gb1,a.'\n",
      " b'gb4{text-decoration:underline}a.gb3:hover{text-decoration:none}#ghead a.gb2:'\n",
      " b'hover{color:#fff !important}.sblc{padding-top:5px}.sblc a{display:block;marg'\n",
      " b'in:2px 0;margin-left:13px;font-size:11px}.lsbb{background:#eee;border:solid '\n",
      " b'1px;border-color:#ccc #999 #999 #ccc;height:30px}.lsbb{display:block}.ftl,#f'\n",
      " b'll a{display:inline-block;margin:0 12px}.lsb{background:url(/images/nav_logo'\n",
      " b'229.png) 0 -261px repeat-x;border:none;color:#000;cursor:pointer;height:30px'\n",
      " b';margin:0;outline:0;font:15px arial,sans-serif;vertical-align:top}.lsb:activ'\n",
      " b'e{background:#ccc}.lst:focus{outline:none}</style><script>(function(){window'\n",
      " b\".google.erd={sp:'hp',jsr:100,bv:19,cs:false};var f=0,g,h=google.erd,k=h.jsr,\"\n",
      " b'l;google.jsmp=!0;google.ml=function(a,b,c,e){google.dl&&google.dl(a,c,b);if('\n",
      " b'google._epc(a,b,c,e))return null;a=google._gld(a,\"/gen_204?atyp=i\",c||{},!1)'\n",
      " b';e||google.log(0,\"\",a);return a};google._epc=function(a,b,c,e){var d=google.'\n",
      " b'erd.jsr;if(0>d){window.console&&console.error(a,c);if(-2==d)throw a;return!0'\n",
      " b'}if(!a||!a.message||\"Error loading script\"==a.message||!(m()&&1>f||e))return'\n",
      " b'!0;f++;b&&(g=a&&a.message);return!1};google._gld=function(a,b,c,e){b=b+\"&ei='\n",
      " b'\"+encodeURIComponent(google.kEI)+\"&jexpid=\"+encodeURIComponent(google.kEXPI)'\n",
      " b'+\"&srcpg=\"+encodeURIComponent(h.sp)+\"&jsr=\"+google.erd.jsr+\"&bver=\"+encodeUR'\n",
      " b'IComponent(h.bv);for(var d in c)b+=\"&\",b+=encodeURIComponent(d),b+=\"=\",b+=en'\n",
      " b'codeURIComponent(c[d]);google.vm&&google.vm.e&&(b+=google.vm.e());b=b+\"&emsg'\n",
      " b'=\"+encodeURIComponent(a.name+\": \"+a.message);b=b+\"&jsst=\"+encodeURIComponent'\n",
      " b'(a.stack||\"N/A\");!e&&2E3<=b.length&&(b=b.substr(0,2E3));return b};function m'\n",
      " b'(){if(!h.cs)return!0;var a=google.erd.jsr;void 0==l&&(l=0>a||1==a||1==Math.c'\n",
      " b'eil(Math.random()*a));return l}google.ojsr=function(a){google.erd.jsr=a;l=vo'\n",
      " b'id 0};google.rjsr=function(){google.erd.jsr=k;l=void 0};window.onerror=funct'\n",
      " b'ion(a,b,c,e,d){g!==a&&google.ml(d instanceof Error?d:Error(a),!1);g=null;m()'\n",
      " b'&&1>f||(window.onerror=null)};})();</script><link href=\"/images/branding/pro'\n",
      " b'duct/ico/googleg_lodp.ico\" rel=\"shortcut icon\"></head><body bgcolor=\"#fff\"><'\n",
      " b\"script>(function(){var src='/images/nav_logo229.png';var iesg=false;document\"\n",
      " b'.body.onload = function(){window.n && window.n();if (document.images){new Im'\n",
      " b'age().src=src;}\\nif (!iesg){document.f&&document.f.q.focus();document.gbq'\n",
      " b'f&&document.gbqf.q.focus();}\\n}\\n})();</script><div id=\"mngb\"> <div id=gba'\n",
      " b'r><nobr><b class=gb1>Search</b> <a class=gb1 href=\"https://www.google.com/im'\n",
      " b'ghp?hl=en&tab=wi\">Images</a> <a class=gb1 href=\"https://maps.google.com/maps'\n",
      " b'?hl=en&tab=wl\">Maps</a> <a class=gb1 href=\"https://play.google.com/?hl=en&ta'\n",
      " b'b=w8\">Play</a> <a class=gb1 href=\"https://www.youtube.com/?tab=w1\">YouTube</'\n",
      " b'a> <a class=gb1 href=\"https://news.google.com/nwshp?hl=en&tab=wn\">News</a> <'\n",
      " b'a class=gb1 href=\"https://mail.google.com/mail/?tab=wm\">Gmail</a> <a class=g'\n",
      " b'b1 href=\"https://drive.google.com/?tab=wo\">Drive</a> <a class=gb1 style=\"tex'\n",
      " b't-decoration:none\" href=\"https://www.google.com/intl/en/options/\"><u>More</u'\n",
      " b'> &raquo;</a></nobr></div><div id=guser width=100%><nobr><span id=gbn class='\n",
      " b'gbi></span><span id=gbf class=gbf></span><span id=gbe></span><a href=\"http:/'\n",
      " b'/www.google.com/history/optout?hl=en\" class=gb4>Web History</a> | <a  href=\"'\n",
      " b'/preferences?hl=en\" class=gb4>Settings</a> | <a target=_top id=gb_70 href=\"h'\n",
      " b'ttps://accounts.google.com/ServiceLogin?hl=en&passive=true&continue=https://'\n",
      " b'www.google.com/\" class=gb4>Sign in</a></nobr></div><div class=gbh style=left'\n",
      " b':0></div><div class=gbh style=right:0></div> </div><center><br clear=\"all\" i'\n",
      " b'd=\"lgpd\"><div id=\"lga\"><img alt=\"Google\" height=\"92\" src=\"/images/branding/g'\n",
      " b'ooglelogo/1x/googlelogo_white_background_color_272x92dp.png\" style=\"padding:'\n",
      " b'28px 0 14px\" width=\"272\" id=\"hplogo\" onload=\"window.lol&&lol()\"><br><br></di'\n",
      " b'v><form action=\"/search\" name=\"f\"><table cellpadding=\"0\" cellspacing=\"0\"><tr'\n",
      " b' valign=\"top\"><td width=\"25%\">&nbsp;</td><td align=\"center\" nowrap=\"\"><input'\n",
      " b' name=\"ie\" value=\"ISO-8859-1\" type=\"hidden\"><input value=\"en-IR\" name=\"hl\" t'\n",
      " b'ype=\"hidden\"><input name=\"source\" type=\"hidden\" value=\"hp\"><input name=\"biw\"'\n",
      " b' type=\"hidden\"><input name=\"bih\" type=\"hidden\"><div class=\"ds\" style=\"height'\n",
      " b':32px;margin:4px 0\"><input style=\"color:#000;margin:0;padding:5px 8px 0 6px;'\n",
      " b'vertical-align:top\" autocomplete=\"off\" class=\"lst\" value=\"\" title=\"Google Se'\n",
      " b'arch\" maxlength=\"2048\" name=\"q\" size=\"57\"></div><br style=\"line-height:0\"><s'\n",
      " b'pan class=\"ds\"><span class=\"lsbb\"><input class=\"lsb\" value=\"Google Search\" n'\n",
      " b'ame=\"btnG\" type=\"submit\"></span></span><span class=\"ds\"><span class=\"lsbb\"><'\n",
      " b'input class=\"lsb\" value=\"I\\'m Feeling Lucky\" name=\"btnI\" onclick=\"if(this'\n",
      " b'.form.q.value)this.checked=1; else top.location=\\'/doodles/\\'\" type=\"submi'\n",
      " b't\"></span></span></td><td class=\"fl sblc\" align=\"left\" nowrap=\"\" width=\"25%\"'\n",
      " b'><a href=\"/advanced_search?hl=en-IR&amp;authuser=0\">Advanced search</a><a hr'\n",
      " b'ef=\"/language_tools?hl=en-IR&amp;authuser=0\">Language tools</a></td></tr></t'\n",
      " b'able><input id=\"gbv\" name=\"gbv\" type=\"hidden\" value=\"1\"></form><div id=\"gac_'\n",
      " b'scont\"></div><div style=\"font-size:83%;min-height:3.5em\"><br></div><span id='\n",
      " b'\"footer\"><div style=\"font-size:10pt\"><div style=\"margin:19px auto;text-align'\n",
      " b':center\" id=\"fll\"><a href=\"/intl/en/ads/\">Advertising\\xa0Programs</a><a hre'\n",
      " b'f=\"/services/\">Business Solutions</a><a href=\"https://plus.google.com/116899'\n",
      " b'029375914044550\" rel=\"publisher\">+Google</a><a href=\"/intl/en/about.html\">Ab'\n",
      " b'out Google</a></div></div><p style=\"color:#767676;font-size:8pt\">&copy; 2017'\n",
      " b' - <a href=\"/intl/en/policies/privacy/\">Privacy</a> - <a href=\"/intl/en/poli'\n",
      " b'cies/terms/\">Terms</a></p></span></center><script>(function(){window.google.'\n",
      " b'cdo={height:0,width:0};(function(){var a=window.innerWidth,b=window.innerHei'\n",
      " b'ght;if(!a||!b)var c=window.document,d=\"CSS1Compat\"==c.compatMode?c.documentE'\n",
      " b'lement:c.body,a=d.clientWidth,b=d.clientHeight;a&&b&&(a!=google.cdo.width||b'\n",
      " b'!=google.cdo.height)&&google.log(\"\",\"\",\"/client_204?&atyp=i&biw=\"+a+\"&bih=\"+'\n",
      " b'b+\"&ei=\"+google.kEI);}).call(this);})();</script><div id=\"xjsd\"></div><div i'\n",
      " b'd=\"xjsi\"><script>(function(){function c(b){window.setTimeout(function(){var '\n",
      " b'a=document.createElement(\"script\");a.src=b;document.getElementById(\"xjsd\").a'\n",
      " b'ppendChild(a)},0)}google.dljp=function(b,a){google.xjsu=b;c(a)};google.dlj=c'\n",
      " b';}).call(this);(function(){window.google.xjsrm=[];})();if(google.y)google.y.'\n",
      " b'first=[];if(!google.xjs){window._=window._||{};window._._DumpException=funct'\n",
      " b'ion(e){throw e};if(google.timers&&google.timers.load.t){google.timers.load.t'\n",
      " b\".xjsls=new Date().getTime();}google.dljp('/xjs/_/js/k\\\\x3dxjs.hp.en_US.-c\"\n",
      " b'Eqr_PtdAg.O/m\\\\x3dsb_he,d/rt\\\\x3dj/d\\\\x3d1/t\\\\x3dzcms/rs\\\\x3dACT90oElAX1T'\n",
      " b\"0bRL4AdN-uSTuPohdItEAQ','/xjs/_/js/k\\\\x3dxjs.hp.en_US.-cEqr_PtdAg.O/m\\\\x3d\"\n",
      " b'sb_he,d/rt\\\\x3dj/d\\\\x3d1/t\\\\x3dzcms/rs\\\\x3dACT90oElAX1T0bRL4AdN-uSTuPohdItEA'\n",
      " b'Q\\');google.xjs=1;}google.pmc={\"sb_he\":{\"agen\":true,\"cgen\":true,\"client\":'\n",
      " b'\"heirloom-hp\",\"dh\":true,\"dhqt\":true,\"ds\":\"\",\"fl\":true,\"host\":\"google.com\",\"i'\n",
      " b'sbh\":28,\"jam\":0,\"jsonp\":true,\"msgs\":{\"cibl\":\"Clear Search\",\"dym\":\"Did you me'\n",
      " b'an:\",\"lcky\":\"I\\\\u0026#39;m Feeling Lucky\",\"lml\":\"Learn more\",\"oskt\":\"Inpu'\n",
      " b't tools\",\"psrc\":\"This search was removed from your \\\\u003Ca href=\\\\\"/histo'\n",
      " b'ry\\\\\"\\\\u003EWeb History\\\\u003C/a\\\\u003E\",\"psrl\":\"Remove\",\"sbit\":\"Search by i'\n",
      " b'mage\",\"srch\":\"Google Search\"},\"nds\":true,\"ovr\":{},\"pq\":\"\",\"refpd\":true,\"rfs\"'\n",
      " b':[],\"scd\":10,\"sce\":5,\"stok\":\"EQV-py0SgZ5mGPq761RElf_fI9k\"},\"d\":{}};google.y.'\n",
      " b\"first.push(function(){if(google.med){google.med('init');google.initHistory()\"\n",
      " b\";google.med('history');}});if(google.j&&google.j.en&&google.j.xi){window.set\"\n",
      " b'Timeout(google.j.xi,0);}\\n</script></div></body></html>')\n"
     ]
    }
   ],
   "source": [
    "pprint(page.content)"
   ]
  },
  {
   "cell_type": "code",
   "execution_count": 12,
   "metadata": {
    "collapsed": false
   },
   "outputs": [
    {
     "name": "stdout",
     "output_type": "stream",
     "text": [
      "('<!doctype html><html itemscope=\"\" itemtype=\"http://schema.org/WebPage\" '\n",
      " 'lang=\"en-IR\"><head><meta content=\"Search the world\\'s information, including '\n",
      " 'webpages, images, videos and more. Google has many special features to help '\n",
      " 'you find exactly what you\\'re looking for.\" name=\"description\"><meta '\n",
      " 'content=\"noodp\" name=\"robots\"><meta content=\"text/html; charset=UTF-8\" '\n",
      " 'http-equiv=\"Content-Type\"><meta '\n",
      " 'content=\"/images/branding/googleg/1x/googleg_standard_color_128dp.png\" '\n",
      " 'itemprop=\"image\"><title>Google</title><script>(function(){window.google={kEI:\\'GH-cWLr-J-Ov6ATU4qSwBQ\\',kEXPI:\\'1351903,1352240,1352381,1352690,1352833,3700257,3700347,4028875,4029815,4032677,4038012,4041899,4043492,4045841,4048347,4062666,4063220,4064904,4065787,4067858,4069838,4069840,4071842,4072126,4072775,4073405,4073728,4073959,4076096,4076931,4076997,4078430,4078438,4079105,4079894,4081038,4082446,4082619,4083474,4085413,4085627,4086011,4086072,4086074,4086699,4088341,4088429,4088525,4089092,4089118,4089181,4089913,4090352,4090414,4090547,4090549,4090657,4090806,4090893,4091068,4091966,4092309,4092474,4092478,4092897,4092934,4093172,4093318,4093498,4093948,4094158,4094168,4094251,4094769,4094997,4095245,4095381,4095905,4095998,4096392,4096742,4096948,8300096,8300272,8300505,8507380,8507419,8508623,10200083\\',authuser:0,kscs:\\'c9c918f0_24\\'};google.kHL=\\'en-IR\\';})();(function(){google.lc=[];google.li=0;google.getEI=function(a){for(var '\n",
      " 'b;a&&(!a.getAttribute||!(b=a.getAttribute(\"eid\")));)a=a.parentNode;return '\n",
      " 'b||google.kEI};google.getLEI=function(a){for(var '\n",
      " 'b=null;a&&(!a.getAttribute||!(b=a.getAttribute(\"leid\")));)a=a.parentNode;return '\n",
      " 'b};google.https=function(){return\"https:\"==window.location.protocol};google.ml=function(){return '\n",
      " 'null};google.wl=function(a,b){try{google.ml(Error(a),!1,b)}catch(c){}};google.time=function(){return(new '\n",
      " 'Date).getTime()};google.log=function(a,b,c,d,g){a=google.logUrl(a,b,c,d,g);if(\"\"!=a){b=new '\n",
      " 'Image;var '\n",
      " 'e=google.lc,f=google.li;e[f]=b;b.onerror=b.onload=b.onabort=function(){delete '\n",
      " 'e[f]};window.google&&window.google.vel&&window.google.vel.lu&&window.google.vel.lu(a);b.src=a;google.li=f+1}};google.logUrl=function(a,b,c,d,g){var '\n",
      " 'e=\"\",f=google.ls||\"\";c||-1!=b.search(\"&ei=\")||(e=\"&ei=\"+google.getEI(d),-1==b.search(\"&lei=\")&&(d=google.getLEI(d))&&(e+=\"&lei=\"+d));a=c||\"/\"+(g||\"gen_204\")+\"?atyp=i&ct=\"+a+\"&cad=\"+b+e+f+\"&zx=\"+google.time();/^http:/i.test(a)&&google.https()&&(google.ml(Error(\"a\"),!1,{src:a,glmm:1}),a=\"\");return '\n",
      " 'a};google.y={};google.x=function(a,b){google.y[a.id]=[a,b];return!1};google.lq=[];google.load=function(a,b,c){google.lq.push([[a],b,c])};google.loadAll=function(a,b){google.lq.push([a,b])};}).call(this);var '\n",
      " 'a=window.location,b=a.href.indexOf(\"#\");if(0<=b){var '\n",
      " 'c=a.href.substring(b+1);/(^|&)q=/.test(c)&&-1==c.indexOf(\"#\")&&a.replace(\"/search?\"+c.replace(/(^|&)fp=[^&]*/g,\"\")+\"&cad=h\")};</script><style>#gbar,#guser{font-size:13px;padding-top:1px '\n",
      " '!important;}#gbar{height:22px}#guser{padding-bottom:7px '\n",
      " '!important;text-align:right}.gbh,.gbd{border-top:1px solid '\n",
      " '#c9d7f1;font-size:1px}.gbh{height:0;position:absolute;top:24px;width:100%}@media '\n",
      " 'all{.gb1{height:22px;margin-right:.5em;vertical-align:top}#gbar{float:left}}a.gb1,a.gb4{text-decoration:underline '\n",
      " '!important}a.gb1,a.gb4{color:#00c !important}.gbi .gb4{color:#dd8e27 '\n",
      " '!important}.gbf .gb4{color:#900 !important}\\n'\n",
      " '</style><style>body,td,a,p,.h{font-family:arial,sans-serif}body{margin:0;overflow-y:scroll}#gog{padding:3px '\n",
      " '8px 0}td{line-height:.8em}.gac_m '\n",
      " 'td{line-height:17px}form{margin-bottom:20px}.h{color:#36c}.q{color:#00c}.ts '\n",
      " 'td{padding:0}.ts{border-collapse:collapse}em{font-weight:bold;font-style:normal}.lst{height:25px;width:496px}.gsfi,.lst{font:18px '\n",
      " 'arial,sans-serif}.gsfs{font:17px '\n",
      " 'arial,sans-serif}.ds{display:inline-box;display:inline-block;margin:3px 0 '\n",
      " '4px;margin-left:4px}input{font-family:inherit}a.gb1,a.gb2,a.gb3,a.gb4{color:#11c '\n",
      " '!important}body{background:#fff;color:black}a{color:#11c;text-decoration:none}a:hover,a:active{text-decoration:underline}.fl '\n",
      " 'a{color:#36c}a:visited{color:#551a8b}a.gb1,a.gb4{text-decoration:underline}a.gb3:hover{text-decoration:none}#ghead '\n",
      " 'a.gb2:hover{color:#fff !important}.sblc{padding-top:5px}.sblc '\n",
      " 'a{display:block;margin:2px '\n",
      " '0;margin-left:13px;font-size:11px}.lsbb{background:#eee;border:solid '\n",
      " '1px;border-color:#ccc #999 #999 '\n",
      " '#ccc;height:30px}.lsbb{display:block}.ftl,#fll '\n",
      " 'a{display:inline-block;margin:0 '\n",
      " '12px}.lsb{background:url(/images/nav_logo229.png) 0 -261px '\n",
      " 'repeat-x;border:none;color:#000;cursor:pointer;height:30px;margin:0;outline:0;font:15px '\n",
      " \"arial,sans-serif;vertical-align:top}.lsb:active{background:#ccc}.lst:focus{outline:none}</style><script>(function(){window.google.erd={sp:'hp',jsr:100,bv:19,cs:false};var \"\n",
      " 'f=0,g,h=google.erd,k=h.jsr,l;google.jsmp=!0;google.ml=function(a,b,c,e){google.dl&&google.dl(a,c,b);if(google._epc(a,b,c,e))return '\n",
      " 'null;a=google._gld(a,\"/gen_204?atyp=i\",c||{},!1);e||google.log(0,\"\",a);return '\n",
      " 'a};google._epc=function(a,b,c,e){var '\n",
      " 'd=google.erd.jsr;if(0>d){window.console&&console.error(a,c);if(-2==d)throw '\n",
      " 'a;return!0}if(!a||!a.message||\"Error loading '\n",
      " 'script\"==a.message||!(m()&&1>f||e))return!0;f++;b&&(g=a&&a.message);return!1};google._gld=function(a,b,c,e){b=b+\"&ei=\"+encodeURIComponent(google.kEI)+\"&jexpid=\"+encodeURIComponent(google.kEXPI)+\"&srcpg=\"+encodeURIComponent(h.sp)+\"&jsr=\"+google.erd.jsr+\"&bver=\"+encodeURIComponent(h.bv);for(var '\n",
      " 'd in '\n",
      " 'c)b+=\"&\",b+=encodeURIComponent(d),b+=\"=\",b+=encodeURIComponent(c[d]);google.vm&&google.vm.e&&(b+=google.vm.e());b=b+\"&emsg=\"+encodeURIComponent(a.name+\": '\n",
      " '\"+a.message);b=b+\"&jsst=\"+encodeURIComponent(a.stack||\"N/A\");!e&&2E3<=b.length&&(b=b.substr(0,2E3));return '\n",
      " 'b};function m(){if(!h.cs)return!0;var a=google.erd.jsr;void '\n",
      " '0==l&&(l=0>a||1==a||1==Math.ceil(Math.random()*a));return '\n",
      " 'l}google.ojsr=function(a){google.erd.jsr=a;l=void '\n",
      " '0};google.rjsr=function(){google.erd.jsr=k;l=void '\n",
      " '0};window.onerror=function(a,b,c,e,d){g!==a&&google.ml(d instanceof '\n",
      " 'Error?d:Error(a),!1);g=null;m()&&1>f||(window.onerror=null)};})();</script><link '\n",
      " 'href=\"/images/branding/product/ico/googleg_lodp.ico\" rel=\"shortcut '\n",
      " 'icon\"></head><body bgcolor=\"#fff\"><script>(function(){var '\n",
      " \"src='/images/nav_logo229.png';var iesg=false;document.body.onload = \"\n",
      " 'function(){window.n && window.n();if (document.images){new '\n",
      " 'Image().src=src;}\\n'\n",
      " 'if '\n",
      " '(!iesg){document.f&&document.f.q.focus();document.gbqf&&document.gbqf.q.focus();}\\n'\n",
      " '}\\n'\n",
      " '})();</script><div id=\"mngb\"> <div id=gbar><nobr><b class=gb1>Search</b> <a '\n",
      " 'class=gb1 href=\"https://www.google.com/imghp?hl=en&tab=wi\">Images</a> <a '\n",
      " 'class=gb1 href=\"https://maps.google.com/maps?hl=en&tab=wl\">Maps</a> <a '\n",
      " 'class=gb1 href=\"https://play.google.com/?hl=en&tab=w8\">Play</a> <a class=gb1 '\n",
      " 'href=\"https://www.youtube.com/?tab=w1\">YouTube</a> <a class=gb1 '\n",
      " 'href=\"https://news.google.com/nwshp?hl=en&tab=wn\">News</a> <a class=gb1 '\n",
      " 'href=\"https://mail.google.com/mail/?tab=wm\">Gmail</a> <a class=gb1 '\n",
      " 'href=\"https://drive.google.com/?tab=wo\">Drive</a> <a class=gb1 '\n",
      " 'style=\"text-decoration:none\" '\n",
      " 'href=\"https://www.google.com/intl/en/options/\"><u>More</u> '\n",
      " '&raquo;</a></nobr></div><div id=guser width=100%><nobr><span id=gbn '\n",
      " 'class=gbi></span><span id=gbf class=gbf></span><span id=gbe></span><a '\n",
      " 'href=\"http://www.google.com/history/optout?hl=en\" class=gb4>Web History</a> '\n",
      " '| <a  href=\"/preferences?hl=en\" class=gb4>Settings</a> | <a target=_top '\n",
      " 'id=gb_70 '\n",
      " 'href=\"https://accounts.google.com/ServiceLogin?hl=en&passive=true&continue=https://www.google.com/\" '\n",
      " 'class=gb4>Sign in</a></nobr></div><div class=gbh style=left:0></div><div '\n",
      " 'class=gbh style=right:0></div> </div><center><br clear=\"all\" id=\"lgpd\"><div '\n",
      " 'id=\"lga\"><img alt=\"Google\" height=\"92\" '\n",
      " 'src=\"/images/branding/googlelogo/1x/googlelogo_white_background_color_272x92dp.png\" '\n",
      " 'style=\"padding:28px 0 14px\" width=\"272\" id=\"hplogo\" '\n",
      " 'onload=\"window.lol&&lol()\"><br><br></div><form action=\"/search\" '\n",
      " 'name=\"f\"><table cellpadding=\"0\" cellspacing=\"0\"><tr valign=\"top\"><td '\n",
      " 'width=\"25%\">&nbsp;</td><td align=\"center\" nowrap=\"\"><input name=\"ie\" '\n",
      " 'value=\"ISO-8859-1\" type=\"hidden\"><input value=\"en-IR\" name=\"hl\" '\n",
      " 'type=\"hidden\"><input name=\"source\" type=\"hidden\" value=\"hp\"><input '\n",
      " 'name=\"biw\" type=\"hidden\"><input name=\"bih\" type=\"hidden\"><div class=\"ds\" '\n",
      " 'style=\"height:32px;margin:4px 0\"><input '\n",
      " 'style=\"color:#000;margin:0;padding:5px 8px 0 6px;vertical-align:top\" '\n",
      " 'autocomplete=\"off\" class=\"lst\" value=\"\" title=\"Google Search\" '\n",
      " 'maxlength=\"2048\" name=\"q\" size=\"57\"></div><br style=\"line-height:0\"><span '\n",
      " 'class=\"ds\"><span class=\"lsbb\"><input class=\"lsb\" value=\"Google Search\" '\n",
      " 'name=\"btnG\" type=\"submit\"></span></span><span class=\"ds\"><span '\n",
      " 'class=\"lsbb\"><input class=\"lsb\" value=\"I\\'m Feeling Lucky\" name=\"btnI\" '\n",
      " 'onclick=\"if(this.form.q.value)this.checked=1; else '\n",
      " 'top.location=\\'/doodles/\\'\" type=\"submit\"></span></span></td><td class=\"fl '\n",
      " 'sblc\" align=\"left\" nowrap=\"\" width=\"25%\"><a '\n",
      " 'href=\"/advanced_search?hl=en-IR&amp;authuser=0\">Advanced search</a><a '\n",
      " 'href=\"/language_tools?hl=en-IR&amp;authuser=0\">Language '\n",
      " 'tools</a></td></tr></table><input id=\"gbv\" name=\"gbv\" type=\"hidden\" '\n",
      " 'value=\"1\"></form><div id=\"gac_scont\"></div><div '\n",
      " 'style=\"font-size:83%;min-height:3.5em\"><br></div><span id=\"footer\"><div '\n",
      " 'style=\"font-size:10pt\"><div style=\"margin:19px auto;text-align:center\" '\n",
      " 'id=\"fll\"><a href=\"/intl/en/ads/\">Advertising\\xa0Programs</a><a '\n",
      " 'href=\"/services/\">Business Solutions</a><a '\n",
      " 'href=\"https://plus.google.com/116899029375914044550\" '\n",
      " 'rel=\"publisher\">+Google</a><a href=\"/intl/en/about.html\">About '\n",
      " 'Google</a></div></div><p style=\"color:#767676;font-size:8pt\">&copy; 2017 - '\n",
      " '<a href=\"/intl/en/policies/privacy/\">Privacy</a> - <a '\n",
      " 'href=\"/intl/en/policies/terms/\">Terms</a></p></span></center><script>(function(){window.google.cdo={height:0,width:0};(function(){var '\n",
      " 'a=window.innerWidth,b=window.innerHeight;if(!a||!b)var '\n",
      " 'c=window.document,d=\"CSS1Compat\"==c.compatMode?c.documentElement:c.body,a=d.clientWidth,b=d.clientHeight;a&&b&&(a!=google.cdo.width||b!=google.cdo.height)&&google.log(\"\",\"\",\"/client_204?&atyp=i&biw=\"+a+\"&bih=\"+b+\"&ei=\"+google.kEI);}).call(this);})();</script><div '\n",
      " 'id=\"xjsd\"></div><div id=\"xjsi\"><script>(function(){function '\n",
      " 'c(b){window.setTimeout(function(){var '\n",
      " 'a=document.createElement(\"script\");a.src=b;document.getElementById(\"xjsd\").appendChild(a)},0)}google.dljp=function(b,a){google.xjsu=b;c(a)};google.dlj=c;}).call(this);(function(){window.google.xjsrm=[];})();if(google.y)google.y.first=[];if(!google.xjs){window._=window._||{};window._._DumpException=function(e){throw '\n",
      " 'e};if(google.timers&&google.timers.load.t){google.timers.load.t.xjsls=new '\n",
      " 'Date().getTime();}google.dljp(\\'/xjs/_/js/k\\\\x3dxjs.hp.en_US.-cEqr_PtdAg.O/m\\\\x3dsb_he,d/rt\\\\x3dj/d\\\\x3d1/t\\\\x3dzcms/rs\\\\x3dACT90oElAX1T0bRL4AdN-uSTuPohdItEAQ\\',\\'/xjs/_/js/k\\\\x3dxjs.hp.en_US.-cEqr_PtdAg.O/m\\\\x3dsb_he,d/rt\\\\x3dj/d\\\\x3d1/t\\\\x3dzcms/rs\\\\x3dACT90oElAX1T0bRL4AdN-uSTuPohdItEAQ\\');google.xjs=1;}google.pmc={\"sb_he\":{\"agen\":true,\"cgen\":true,\"client\":\"heirloom-hp\",\"dh\":true,\"dhqt\":true,\"ds\":\"\",\"fl\":true,\"host\":\"google.com\",\"isbh\":28,\"jam\":0,\"jsonp\":true,\"msgs\":{\"cibl\":\"Clear '\n",
      " 'Search\",\"dym\":\"Did you mean:\",\"lcky\":\"I\\\\u0026#39;m Feeling '\n",
      " 'Lucky\",\"lml\":\"Learn more\",\"oskt\":\"Input tools\",\"psrc\":\"This search was '\n",
      " 'removed from your \\\\u003Ca href=\\\\\"/history\\\\\"\\\\u003EWeb '\n",
      " 'History\\\\u003C/a\\\\u003E\",\"psrl\":\"Remove\",\"sbit\":\"Search by '\n",
      " 'image\",\"srch\":\"Google '\n",
      " 'Search\"},\"nds\":true,\"ovr\":{},\"pq\":\"\",\"refpd\":true,\"rfs\":[],\"scd\":10,\"sce\":5,\"stok\":\"EQV-py0SgZ5mGPq761RElf_fI9k\"},\"d\":{}};google.y.first.push(function(){if(google.med){google.med(\\'init\\');google.initHistory();google.med(\\'history\\');}});if(google.j&&google.j.en&&google.j.xi){window.setTimeout(google.j.xi,0);}\\n'\n",
      " '</script></div></body></html>')\n"
     ]
    }
   ],
   "source": [
    "pprint(page.text)"
   ]
  },
  {
   "cell_type": "code",
   "execution_count": 16,
   "metadata": {
    "collapsed": false
   },
   "outputs": [
    {
     "name": "stdout",
     "output_type": "stream",
     "text": [
      "'ISO-8859-1'\n"
     ]
    }
   ],
   "source": [
    "pprint(page.encoding)"
   ]
  },
  {
   "cell_type": "code",
   "execution_count": null,
   "metadata": {
    "collapsed": true
   },
   "outputs": [],
   "source": [
    "pprint(page)"
   ]
  }
 ],
 "metadata": {
  "anaconda-cloud": {},
  "kernelspec": {
   "display_name": "Python [conda root]",
   "language": "python",
   "name": "conda-root-py"
  },
  "language_info": {
   "codemirror_mode": {
    "name": "ipython",
    "version": 3
   },
   "file_extension": ".py",
   "mimetype": "text/x-python",
   "name": "python",
   "nbconvert_exporter": "python",
   "pygments_lexer": "ipython3",
   "version": "3.5.2"
  }
 },
 "nbformat": 4,
 "nbformat_minor": 1
}
